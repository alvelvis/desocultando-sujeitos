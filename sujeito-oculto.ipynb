{
 "cells": [
  {
   "cell_type": "code",
   "execution_count": null,
   "metadata": {},
   "outputs": [],
   "source": [
    "! ./udpipe-1.2.0 --tokenize --tag --parse bosque-ud-2.6.udpipe dhbb.raw > dhbb.conllu\n",
    "! ./udpipe-1.2.0 --tokenize --tag --parse bosque-ud-2.6.udpipe obras.raw > obras.conllu"
   ]
  },
  {
   "cell_type": "code",
   "execution_count": 1,
   "metadata": {},
   "outputs": [],
   "source": [
    "# Definindo variáveis iniciais\n",
    "import estrutura_ud\n",
    "import os\n",
    "\n",
    "root_deprel = [\"root\"]\n",
    "subordinate_deprel = [\"acl:relcl\", \"ccomp\", \"advcl\"]\n",
    "max_examples = 20\n",
    "\n",
    "path = {\n",
    "    'bosque': \"bosque-ud-2.6.conllu\",\n",
    "    'dhbb': \"dhbb.conllu\",\n",
    "    \"obras\": \"obras.conllu\"\n",
    "}"
   ]
  },
  {
   "cell_type": "code",
   "execution_count": 2,
   "metadata": {},
   "outputs": [],
   "source": [
    "# Carregamento dos corpora (demora muito!)\n",
    "bosque = estrutura_ud.Corpus(recursivo=True)\n",
    "dhbb = estrutura_ud.Corpus(recursivo=True)\n",
    "obras = estrutura_ud.Corpus(recursivo=True)\n",
    "bosque.load(path[\"bosque\"])\n",
    "dhbb.load(path[\"dhbb\"])\n",
    "obras.load(path[\"obras\"])\n",
    "\n",
    "corpora = {\n",
    "    'dhbb': dhbb,\n",
    "    'obras': obras,\n",
    "    'bosque': bosque\n",
    "}"
   ]
  },
  {
   "cell_type": "code",
   "execution_count": 3,
   "metadata": {
    "tags": []
   },
   "outputs": [
    {
     "output_type": "stream",
     "name": "stdout",
     "text": "{'dhbb': {'size': 960964.294921875, 'n_tokens': 16037286, 'n_sentences': 480218}, 'obras': {'size': 480188.513671875, 'n_tokens': 7863261, 'n_sentences': 353662}, 'bosque': {'size': 14846.041015625, 'n_tokens': 227825, 'n_sentences': 9364}}\n"
    }
   ],
   "source": [
    "# Estatísticas dos corpora\n",
    "stats_corpora = {}\n",
    "for corpus in corpora:\n",
    "    stats_corpora[corpus] = {\n",
    "        \"size\": os.path.getsize(path[corpus])/1024, \n",
    "        \"n_tokens\": 0, \n",
    "        \"n_sentences\": 0,\n",
    "    }\n",
    "    \n",
    "for corpus in corpora:\n",
    "    for sentence in corpora[corpus].sentences.values():\n",
    "        stats_corpora[corpus]['n_sentences'] += 1\n",
    "        for token in sentence.tokens:\n",
    "            if not '-' in token.id:\n",
    "                stats_corpora[corpus]['n_tokens'] += 1\n",
    "    \n",
    "print(stats_corpora)"
   ]
  },
  {
   "cell_type": "code",
   "execution_count": 4,
   "metadata": {
    "tags": []
   },
   "outputs": [
    {
     "output_type": "stream",
     "name": "stdout",
     "text": "{'dhbb': {'root': 480218, 'acl:relcl|ccomp|advcl': 341133}, 'obras': {'root': 353662, 'acl:relcl|ccomp|advcl': 316297}, 'bosque': {'root': 9364, 'acl:relcl|ccomp|advcl': 6842}}\n"
    }
   ],
   "source": [
    "# Números de orações\n",
    "total_deprel = {}\n",
    "for corpus in corpora:\n",
    "    total_deprel[corpus] = {\n",
    "        \"|\".join(root_deprel): 0,\n",
    "        \"|\".join(subordinate_deprel): 0\n",
    "    }\n",
    "    for sentence in corpora[corpus].sentences.values():\n",
    "        for token in sentence.tokens:\n",
    "            if token.deprel in root_deprel:\n",
    "                total_deprel[corpus][\"|\".join(root_deprel)] += 1\n",
    "            if token.deprel in subordinate_deprel:\n",
    "                total_deprel[corpus][\"|\".join(subordinate_deprel)] += 1\n",
    "print(total_deprel)"
   ]
  },
  {
   "cell_type": "markdown",
   "metadata": {},
   "source": [
    "# Busca ingênua tanto em root quanto em subordinada"
   ]
  },
  {
   "cell_type": "code",
   "execution_count": 5,
   "metadata": {},
   "outputs": [],
   "source": [
    "def find_clause_without_subject(sentences, deprel_list):\n",
    "    clauses_without_subject = {}\n",
    "    for sent_id, sentence in sentences.items():\n",
    "        for t, token in enumerate(sentence.tokens):\n",
    "            if token.deprel in deprel_list:\n",
    "                has_subj = False\n",
    "                for _token in sentence.tokens:\n",
    "                    if _token.dephead == token.id and _token.deprel in [\"nsubj\", \"csubj\", \"nsubj:pass\"]:\n",
    "                        has_subj = True\n",
    "                        break\n",
    "                if not has_subj:\n",
    "                    if not sent_id in clauses_without_subject:\n",
    "                        clauses_without_subject[sent_id] = []\n",
    "                    clauses_without_subject[sent_id].append(t)\n",
    "    return clauses_without_subject\n",
    "\n",
    "root_without_subject = {}\n",
    "subordinate_without_subject = {}\n",
    "for corpus in corpora:\n",
    "    root_without_subject[corpus] = find_clause_without_subject(corpora[corpus].sentences, root_deprel)\n",
    "    subordinate_without_subject[corpus] = find_clause_without_subject(corpora[corpus].sentences, subordinate_deprel)"
   ]
  },
  {
   "cell_type": "code",
   "execution_count": 6,
   "metadata": {
    "tags": []
   },
   "outputs": [
    {
     "output_type": "stream",
     "name": "stdout",
     "text": "\ndhbb - orações principais com sujeito oculto ingênuo: 226122 / 480218\ndhbb - orações subordinadas com sujeito oculto ingênuo: 190381 / 341133\n\nobras - orações principais com sujeito oculto ingênuo: 172124 / 353662\nobras - orações subordinadas com sujeito oculto ingênuo: 156040 / 316297\n\nbosque - orações principais com sujeito oculto ingênuo: 2777 / 9364\nbosque - orações subordinadas com sujeito oculto ingênuo: 2617 / 6842\n\n=== 20 exemplos de sujeito oculto na oração principal em dhbb ===\n2: *Estudou* em o Ginásio Diocesano de São Paulo e bacharelou se em 1910 por a Faculdade de Ciências Jurídicas e Sociais .\n3: Dedicando se a a advocacia , foi *promotor* público em Cunha ( SP ) e depois delegado de polícia em o Rio de Janeiro , então Distrito Federal .\n4: *Iniciou* sua vida política como deputado federal por o Distrito Federal , exercendo o mandato de 1927 a 1929 .\n6: Ligado a o governo federal , *encontrava* se a o lado de o presidente Washington Luís , em o palácio Guanabara , em o momento de sua deposição em o dia 24 de outubro .\n7: Junto com outros companheiros também solidários a o regime deposto e que se haviam asilado em embaixadas e legações , foi *enviado* em novembro para o estrangeiro .\n8: Em outubro de 1932 , estava *presente* em o porto de Alcântara , em Lisboa , para receber os revolucionários constitucionalistas exilados por o governo de Getúlio Vargas após a derrota de a revolução irrompida em julho de esse ano em São Paulo .\n9: Com a redemocratização de o país em 1945 , *candidatou* se por o estado de São Paulo , em a legenda de o Partido Social Democrático ( PSD ) , a as eleições para a Assembléia Nacional Constituinte ( ANC ) realizadas em dezembro de esse ano .\n10: *Obteve* uma suplência e , em julho de 1946 , foi convocado para participar de os trabalhos constituintes .\n11: Com a promulgação de a nova Carta ( 18/9/1946 ) e a transformação de a Constituinte em Congresso ordinário , *integrou* a Comissão Permanente de Obras Públicas de a Câmara Federal , tendo votado em janeiro de 1948 a favor de a cassação de os mandatos de os parlamentares comunistas .\n12: *Deixou* a Câmara em janeiro de 1951 .\n13: Foi ainda *presidente* de a Companhia de Cimento Vale de o Paraíba .\n14: *Faleceu* em o Rio de Janeiro em o dia 17 de maio de 1975 .\n16: Em 1962 *ingressou* , em Recife , em a Faculdade de Ciências Médicas de a Universidade Federal de Pernambuco , por a qual se graduou em 1968 .\n17: Durante o ano seguinte , *frequentou* a residência médica em o Hospital Osvaldo Cruz , também em a capital pernambucana .\n18: Filiando se , em 1982 , a o Partido Democrático Social ( PDS ) , foi *escolhido* para integrar a chapa de o partido como candidato a vice-prefeito de Esperança ( PB ) .\n20: Elegendo se em o pleito de novembro de 1982 , foi *empossado* em o cargo em janeiro de 1983 .\n21: Desligando se de o PDS em 1988 , *permaneceu* como vice-prefeito até janeiro de o ano seguinte .\n22: Em 1989 , *filiou* se a o Partido de o Movimento Democrático Brasileiro ( PMDB ) , em o qual permaneceu até 1990 .\n23: Ingressando , em seguida , em o Partido de a Frente Liberal ( PFL ) , em outubro de este ano *elegeu* se deputado estadual em essa legenda .\n24: Assumindo sua cadeira em a Assembleia Legislativa paraibana em janeiro de 1991 , foi *escolhido* segundo vice-presidente de a mesa de a casa , ocupando essa função até 1992 .\n\n=== 20 exemplos de sujeito oculto na oração subordinada em dhbb ===\n4: Iniciou sua vida política como deputado federal por o Distrito Federal , *exercendo* o mandato de 1927 a 1929 .\n6: *Ligado* a o governo federal , encontrava se a o lado de o presidente Washington Luís , em o palácio Guanabara , em o momento de sua deposição em o dia 24 de outubro .\n8: Em outubro de 1932 , estava presente em o porto de Alcântara , em Lisboa , para *receber* os revolucionários constitucionalistas exilados por o governo de Getúlio Vargas após a derrota de a revolução irrompida em julho de esse ano em São Paulo .\n10: Obteve uma suplência e , em julho de 1946 , foi convocado para *participar* de os trabalhos constituintes .\n11: Com a promulgação de a nova Carta ( 18/9/1946 ) e a transformação de a Constituinte em Congresso ordinário , integrou a Comissão Permanente de Obras Públicas de a Câmara Federal , tendo *votado* em janeiro de 1948 a favor de a cassação de os mandatos de os parlamentares comunistas .\n16: Em 1962 ingressou , em Recife , em a Faculdade de Ciências Médicas de a Universidade Federal de Pernambuco , por a qual se *graduou* em 1968 .\n18: *Filiando* se , em 1982 , a o Partido Democrático Social ( PDS ) , foi escolhido para *integrar* a chapa de o partido como candidato a vice-prefeito de Esperança ( PB ) .\n20: *Elegendo* se em o pleito de novembro de 1982 , foi empossado em o cargo em janeiro de 1983 .\n21: *Desligando* se de o PDS em 1988 , permaneceu como vice-prefeito até janeiro de o ano seguinte .\n22: Em 1989 , filiou se a o Partido de o Movimento Democrático Brasileiro ( PMDB ) , em o qual *permaneceu* até 1990 .\n23: *Ingressando* , em seguida , em o Partido de a Frente Liberal ( PFL ) , em outubro de este ano elegeu se deputado estadual em essa legenda .\n24: *Assumindo* sua cadeira em a Assembleia Legislativa paraibana em janeiro de 1991 , foi escolhido segundo vice-presidente de a mesa de a casa , *ocupando* essa função até 1992 .\n25: Em 1993 , retornou a o PMDB , *tornando* se ainda em este ano primeiro vice-presidente de a mesa , cargo que desempenharia até o final de a legislatura .\n26: Em o pleito de outubro de 1994 , elegeu se deputado federal por o PMDB , *tendo* como base eleitoral as regiões de o Brejo Paraibano e de o vale de o Piancó , em o sertão .\n27: *Concluindo* seu mandato em a Assembleia Legislativa paraibana em janeiro de 1995 , assumiu sua cadeira em a Câmara de os\n30: Durante esse seu primeiro ano de mandato , entre as principais matérias votadas em o plenário de a Câmara , Armando Abílio votou a favor de o projeto de emenda constitucional que acabou com o monopólio de os estados em a distribuição de o gás canalizado , de o que *tratava* de a navegação de cabotagem , *permitindo* que as embarcações estrangeiras passassem a operar em o transporte de cargas e passageiros entre portos de o país , de o que *acabou* com o monopólio estatal de as telecomunicações , de o que *acabou* com o monopólio de a Petrobras em a exploração de o petróleo , e de o que prorrogava por 18 meses o Fundo Social de Emergência ( FSE ) , rebatizado de Fundo de Estabilização Fiscal ( FEF ) .\n\n=== 20 exemplos de sujeito oculto na oração principal em obras ===\n1: A *MORTALHA* DE ALZIRA Aluísio de Azevedo\n2: A *cela* misteriosa\n3: Em o ano de 17 , Paris , ento muito governado por a Pompadour e um pouco por Luís XV , *palpitava* de entusiasmo com um escândalo original .\n6: Era o *caso* que o famoso pregador La Rose tinha , como todos os anos , de pregar o seu sermão de a Quinta-feira santa em a capela real , e fora acometido por um formidável ataque de asma , justamente em a véspera de esse dia .\n7: *Escreveu* logo a o vigário-geral , seu amigo particular , dando lhe parte de o fato e pedindo lhe que , sem perda de tempo , tratasse de descobrir alguém que o substituísse .\n10: *Substituir* La Rose ! ...\n15: *Davam* se todos por igualmente atacados de a garganta , como se a asma de La Rose , a a semelhança de o que sucedia com o seu estilo oratório , se estendesse de improviso por todos eles , desde o mais pretensioso até a o mínimo de os numerosos pregadores sagrados , que em esse piedoso e alegre tempo enchiam os púlpitos de Paris , com as suas frases retumbantes e com os seus eloqüentes e artísticos soluços .\n20: Que *diabo* !\n25: *Cochichava* se de aqui , cochichava se de ali , bichanava se por todos os cantos e recantos de o palácio , sem nada se resolver que aproveitasse .\n26: E , em o entanto , o tempo *fugia* e era preciso tomar uma resolução .\n28: *Encaminhou* se diretamente para o arcebispo e disse lhe , depois de as reverências de o estilo : -- Comprometo me , se mo permitirem , a apresentar hoje em o púlpito de a capela real alguém que irá dignamente substituir o padre La Rose .\n29: *Fez* se em torno de estas simples palavras um profundo silêncio de pasmo e de desabafo .\n30: *Bastava* só , porém , a presença de frei\n33: *Havia* vinte e tantos anos que em torno de ele se formara , de dia para dia , a mais sólida reputação de virtude e santidade .\n34: De quem *disporia* o singular frade para fazer substituir La Rose ? ...\n35: E *começou* logo o sussurro de os comentários .\n37: Pouco depois , descia frei Ozéas as escadas de o paço , *metia* se em o carro que o esperava a a entrada de o jardim , dizia a o cocheiro que tocasse depressa para o convento de S.\n44: Em uma de elas *havia* um grande nicho com a imagem de a Virgem de a Conceição , quase de tamanho natural ; a um de os cantos , uma negra estante , toscamente feita , pejada de grossos alfarrábios amarelecidos por o tempo ; em o centro , uma mesa de madeira escura com um breviário em cima , a o lado de uma candeia de azeite , um pedaço de pão duro e um cilício cru ; junto a a mesa , um banco de pau .\n46: Não *havia* mais ninguém em a cela .\n49: Para quê , meu *pai* ? -- Para pregar o sermão de Quinta-feira santa . --\n\n=== 20 exemplos de sujeito oculto na oração subordinada em obras ===\n5: Esclapon e de a duquesa de Mazarin , e esquecia se até de *ouvir* as pilhérias de a magra , feia e adorada Guimard , para só *ter* atenção para o novo escândalo que acabava de surgir inesperadamente .\n7: Escreveu logo a o vigário-geral , seu amigo particular , *dando* lhe parte de o fato e pedindo lhe que , sem perda de tempo , *tratasse* de descobrir alguém que o substituísse .\n9: Quem teria a coragem de ir , a a última hora , *substituir* La Rose em o púlpito de a capela real , em um de os sermões mais importantes de a Quaresma ? ...\n12: E era preciso que ele com efeito estivesse deveras doente , para *faltar* a o sermão de Quinta-feira santa , porque La Rose prezava muito os seus triunfos em a tribuna sacra , e não esperdiçaria facilmente uma boa ocasião de orar perante o rei e toda sua corte de fidalgos , e toda a sua corte de letrados .\n13: Entretanto , sabia se também que La Rose , desde que *sentisse* a menor alteração em a voz , não seria *capaz* de falar em público , nem a a mão de Deus Padre , porque era precisamente em a *maneira* especial de jogar com a sua bela e sedutora voz , que consistia o grande segredo de os seus incomparáveis triunfos .\n15: Davam se todos por igualmente atacados de a garganta , como se a asma de La Rose , a a semelhança de o que *sucedia* com o seu estilo oratório , se estendesse de improviso por todos eles , desde o mais pretensioso até a o mínimo de os numerosos pregadores sagrados , que em esse piedoso e alegre tempo enchiam os púlpitos de Paris , com as suas frases retumbantes e com os seus eloqüentes e artísticos soluços .\n18: E se era *devoto* , era também homem de gosto exigente ; não compreendia uma Quinta-feira santa sem sermão , mas não compreendia um sermão de Quinta-feira santa sem La Rose .\n22: Empregaram se os últimos recursos para *descobrir* alguém que , sem grande escândalo , fosse *capaz* de improvisar um sermão digno de a real ressaca ; ofereceram se bonitas somas ; fizeram se as mais lindas promessas .\n23: O cabido inteiro agitou se , remexeu se , sorveu consecutivas pitadas , esfregou mil vezes o lenço encarnado em o nariz , mas ninguém teve coragem para *aceitar* a espinhosa missão .\n24: As salas de o palácio arquiepiscopal pareciam formigueiros ; as batinas esfervilhavam irrequietas , *entrando* e saindo , *trazendo* e levando recados .\n25: Cochichava se de aqui , *cochichava* se de ali , *bichanava* se por todos os cantos e recantos de o palácio , sem nada se resolver que *aproveitasse* .\n27: O arcebispo , já desesperado , ia estender o braço para *tomar* a o acaso o primeiro de os seus sufragâneos , e ordenar lhe que *subisse* a o púlpito e despejasse , com um milhão de raios ! um sermão qualquer , quando de improviso *rasgou* se o reposteiro de a sala , em que ele se achava entre uma negra nuvem de batinas , e viu se surgir a veneranda figura de frei Ozéas , com as suas grandes barbas brancas e a sua enorme calva de profeta .\n\n=== 20 exemplos de sujeito oculto na oração principal em bosque ===\nCF893-1: Um *Godard* intergaláctico\nCF896-2: De os fumantes , 18,1 milhões são *homens* e 12,5 milhões , mulheres .\nCF897-2: De a *FT*\nCF899-2: Em a sua administração , *executou* um plano viário com largas avenidas interligando os bairros , que provocaram um boom imobiliário .\nCF902-1: *Pedro* Ivo , 63 , tel. 289-3609 )\nCF902-3: Quem não quiser beber durante o jantar , *poderá* levar o champanhe para casa .\nCF902-4: *Preço* : 18 URVs ( por pessoa )\nCF902-5: *Horário* : em o dia 12 , de as 19h a o último cliente\nCF902-6: *Cartões* : aceita todos\nCF902-7: *Estacionamento* com manobrista\nCF903-6: *Folha* -- o que a mulher precisa hoje , em termos de roupas ?\nCF904-6: É *o* que confirmam as estatísticas de o Campeonato Brasileiro , encerrado ontem com o novo título palmeirense .\nCF908-4: Diariamente , está *promovendo* desfiles de moda para seus consumidores .\nCF910-2: Não *houve* acordo para uma trégua durante a Copa .\nCF911-1: Era uma *época* em que os cariocas imperavam em campo e fora de ele .\nCF911-6: Já não *há* o império de o mal para combater .\nCF913-1: *IMPOSTOS* E TARIFAS\nCF913-4: Vai ter paridade , já desde o começo » , *explicou* .\nCF913-5: Quanto a as tarifas públicas , não serão *fixadas* em URV para evitar reajustes diários , mas terão correções periódicas por o indexador .\nCF913-6: « De o ponto de vista de proteção a o consumidor , vou *reajustar* o preço de a tarifa pública em o dia normal como se ela fosse URV .\n\n=== 20 exemplos de sujeito oculto na oração subordinada em bosque ===\nCF893-4: Para *construir* o ambiente futurista de o filme , Godard recorreu quase que totalmente a a fotografia .\nCF895-2: O problema é político porque *envolve* , por exemplo , a gratuidade de a educação , de a saúde , de a previdência mínima .\nCF895-3: *Excetuada* a educação básica de primeiro grau , que deve ser gratuita e obrigatória , para todo o resto é preciso discriminar quem pode pagar .\nCF897-1: PF prende dois por *cobrar* ágio\nCF897-3: A PF ( Polícia Federal ) indiciou ontem duas pessoas por *vender* carro com ágio .\nCF900-2: Dallari orientou os produtores a *negociarem* com a indústria .\nCF901-1: Esses aspectos podem ser observados em os relatos de as pacientes : « quando tenho que *arrumar* a casa e não estou com vontade , escuto vozes que me incentivam a começar a tarefa .\nCF901-2: Depois de um tempo , as vozes aumentam e acabo ficando atordoada e não consigo terminar o que *comecei* » .\nCF901-3: Estes problemas não são frequentes em os homens , pois além de *terem* uma possibilidade menor de casarem e terem filhos , esses não são os tipos de papéis socialmente esperados para o sexo masculino .\nCF903-2: « As pessoas estão cansadas de o hype que se *cria* em torno de as roupas , de os estilistas e de o luxo abusivo .\nCF911-3: O torcedor paulista sonhava com uma era futura , em que São Paulo chegaria a a supremacia , se possível de *forma* arrasadora .\nCF911-4: Passaram se uns 50 anos e o sonho se realizou , *trazendo* alegria e também , inesperadamente , frustração .\nCF911-6: Já não há o império de o mal para *combater* .\nCF912-1: O bombeiro suspeita que o golfinho tenha morrido *afogado* .\nCF912-2: Ele teria ficado preso em uma rede de pesca sem condições de *subir* a a tona para *respirar* .\nCF912-3: Os bombeiros pediram ajuda a o Cebimar ( Centro de Biologia Marinha ) de a USP para *apurar* as causas de a morte de o golfinho .\nCF913-2: O governo vai usar a URV para *corrigir* impostos , garantiu FHC .\nCF913-4: Vai *ter* paridade , já desde o começo » , explicou .\nCF913-5: Quanto a as tarifas públicas , não serão fixadas em URV para *evitar* reajustes diários , mas terão correções periódicas por o indexador .\n"
    }
   ],
   "source": [
    "for corpus in corpora:\n",
    "    print(\"\\n{} - orações principais com sujeito oculto ingênuo: {} / {}\".format(corpus, sum([len(x) for x in root_without_subject[corpus].values()]), total_deprel[corpus][\"|\".join(root_deprel)]))\n",
    "    print(\"{} - orações subordinadas com sujeito oculto ingênuo: {} / {}\".format(corpus, sum([len(x) for x in subordinate_without_subject[corpus].values()]), total_deprel[corpus][\"|\".join(subordinate_deprel)]))\n",
    "\n",
    "for corpus in corpora:\n",
    "    i = 0\n",
    "    ii = 0\n",
    "    print(\"\\n=== {} exemplos de sujeito oculto na oração principal em {} ===\".format(max_examples, corpus))\n",
    "    for sent_id, tokens in root_without_subject[corpus].items():\n",
    "        i += len(tokens)\n",
    "        print(sent_id + \": \" + \" \".join([x.word if t not in tokens else \"*\" + x.word + \"*\" for t, x in enumerate(corpora[corpus].sentences[sent_id].tokens) if not '-' in x.id]))\n",
    "        if i >= max_examples:\n",
    "            break\n",
    "    print(\"\\n=== {} exemplos de sujeito oculto na oração subordinada em {} ===\".format(max_examples, corpus))\n",
    "    for sent_id, tokens in subordinate_without_subject[corpus].items():\n",
    "        ii += len(tokens)\n",
    "        print(sent_id + \": \" + \" \".join([x.word if t not in tokens else \"*\" + x.word + \"*\" for t, x in enumerate(corpora[corpus].sentences[sent_id].tokens) if not '-' in x.id]))\n",
    "        if ii >= max_examples:\n",
    "            break"
   ]
  },
  {
   "cell_type": "markdown",
   "metadata": {},
   "source": [
    "# Filtro A"
   ]
  },
  {
   "cell_type": "code",
   "execution_count": 7,
   "metadata": {},
   "outputs": [],
   "source": [
    "def find_haver_impessoal(sentences, list_tokens):\n",
    "    haver_impessoal = {}\n",
    "    for sent_id in list_tokens:\n",
    "        sentence = sentences[sent_id]\n",
    "        for t, token in enumerate(sentence.tokens):\n",
    "            if t in list_tokens[sent_id] and token.lemma == \"haver\" and \"Number=Sing\" in token.feats and \"Person=3\" in token.feats:\n",
    "                if not sent_id in haver_impessoal:\n",
    "                    haver_impessoal[sent_id] = []\n",
    "                haver_impessoal[sent_id].append(t)\n",
    "    return haver_impessoal\n",
    "                \n",
    "root_haver_impessoal = {}\n",
    "subordinate_haver_impessoal = {}\n",
    "for corpus in corpora:\n",
    "    root_haver_impessoal[corpus] = find_haver_impessoal(corpora[corpus].sentences, root_without_subject[corpus])\n",
    "    subordinate_haver_impessoal[corpus] = find_haver_impessoal(corpora[corpus].sentences, subordinate_without_subject[corpus])\n",
    "    \n",
    "    for sentence in root_haver_impessoal[corpus]:\n",
    "        for token in root_haver_impessoal[corpus][sentence]:\n",
    "            root_without_subject[corpus][sentence].remove(token)\n",
    "    for sentence in subordinate_haver_impessoal[corpus]:\n",
    "        for token in subordinate_haver_impessoal[corpus][sentence]:\n",
    "            subordinate_without_subject[corpus][sentence].remove(token)"
   ]
  },
  {
   "cell_type": "code",
   "execution_count": 9,
   "metadata": {
    "tags": []
   },
   "outputs": [
    {
     "output_type": "stream",
     "name": "stdout",
     "text": "\ndhbb - orações principais com sujeito oculto e haver impessoal: 1083\ndhbb - orações subordinadas com sujeito oculto e haver impessoal: 861\n\nobras - orações principais com sujeito oculto e haver impessoal: 5181\nobras - orações subordinadas com sujeito oculto e haver impessoal: 4395\n\nbosque - orações principais com sujeito oculto e haver impessoal: 124\nbosque - orações subordinadas com sujeito oculto e haver impessoal: 148\n\n=== 20 exemplos de haver impessoal na oração principal em dhbb ===\n486: *Há* entretanto quem julgue , como Alexandre Barbosa Lima Sobrinho , que suas realizações foram motivadas por o afã de projetar nacionalmente o próprio nome de Antônio Carlos , tendo em vista a sucessão de Washington Luís , que assumira a presidência de a República em 15 de novembro de 1926 .\n553: *Houve* idas e vindas a propósito de a data em que seria possível deflagrar a luta armada .\n639: *Houve* críticas , formuladas , segundo Helena Bomeny , « a partir de o pressuposto de que o pacto entre a legião e a Igreja iria favorecer o desenvolvimento de a nova agremiação por a propaganda que a última faria em seu favor .\n693: *Há* uma relação de contraponto entre massa e César .\n1089: Já *havia* , de esse modo , cumprido a pena de um ano e quatro meses de reclusão a que viria a ser condenado em 1928 , devido a a sua participação em a revolta .\n2403: Em o PRP , *houve* desde logo forte resistência a apoiá lo .\n2483: Não *havia* mais nada a esperar . Siqueira Campos iniciou o combate disparando o primeiro tiro em direção a a ilha de Cotunduba , atrás de a qual estavam os encouraçados « São Paulo » e « Minas Gerais » e o destróier « Paraná » .\n2502: *Houve* várias deserções , mas um civil , Otávio Correia , aderiu a os revoltosos e recebeu o pedaço de bandeira destinado a o capitão Euclides .\n2598: Não *houve* luta por o poder , pois Isidoro e Assis Brasil não fizeram objeção a que Prestes assumisse a chefia de o movimento .\n5396: Além de isso , *houve* , em a época , sinais de vazamento de informações de o Banco Central que teriam beneficiado instituições bancárias .\n5539: Não *houve* desrespeito a as garantias legais de os réus e a o devido processo legal .\n5608: *Há* um grito parado em o ar , um sentimento difuso , mas que está presente .\n5625: Em a Europa , *havia* um interesse especial em a Esquerda Democrática e em ex-esquerdistas , como Ignacio Silone , Arthur Koestler , Raymond Aron , Michael Josselson e George Orwell » .\n5699: E *houve* desvio de verbas públicas em os dois casos .\n5727: Mas *havia* um objetivo político claro : precisávamos de três quintos de a Câmara e de o Senado para aprovar reformas constitucionais necessárias a a modernização de o país .\n7135: Junto com esses desentendimentos ligados a a política estadual , em os conflitos entre a FUG e o governador *havia* também grande influência de a questão de a sucessão presidencial , prevista para 1938 .\n8360: *Haveria* , também , prática abusiva e corriqueira de contratação irregular de falsos « comissionados » e falsos « ACTs » ( admissões em caráter temporário ) em a prefeitura , em prejuízo de o concurso público .\n10489: *Há* entretanto quem julgue , como Barbosa Lima Sobrinho , que suas realizações foram motivadas por o afã de projetar nacionalmente seu nome tendo em vista a sucessão de Washington Luís , e ganharam destaque , em a verdade , graças a um bem montado esquema de publicidade .\n10525: A o iniciar se o ano de 1928 , já *havia* fortes indícios de que Washington Luís se fixaria em a candidatura de seu protegido Júlio Prestes , entre outras razões , para garantir a continuidade , em o quadriênio seguinte , de a linha mestra de seu governo , a política monetária de retorno a o padrão-ouro e de fixação de a taxa de câmbio acima de os índices de o mercado , favorecendo as exportações .\n10535: Não *havia* , em perspectiva , maiores problemas para manter o PRM unido em essa direção .\n\n=== 20 exemplos de haver impessoal na oração subordinada em dhbb ===\n695: Não *há* , a estas horas , país que não esteja a a procura de um homem , isto é , de um homem carismático ou marcado por o destino para dar a as aspirações de a massa uma expressão simbólica , imprimindo a unidade de uma vontade dura e poderosa a o caos de angústia e de medo de que se compõe o patos ou a demonia de as representações coletivas .\n696: Não *há* hoje um povo que não clame por um César . \" Em março de 1936 , a o saudar a posse de Afonso Pena Júnior em a reitoria de a Universidade de o Distrito Federal , falou sobre o comunismo : « As monstruosas ideologias internacionalistas visam apenas enfraquecer a humanidade em o homem para transformá lo mais facilmente em animal de um rebanho miserável , tangido por a fome e por o medo .\n697: \" Em julho , discursando acerca de a reintrodução de o ensino religioso em as escolas públicas , explicitou sua posição anticomunista , antes de aludir a a tentativa insurrecional de novembro anterior : « *Há* três laços que reúnem os homens -- a religião , a família e a pátria .\n912: Com efeito , o preâmbulo de o AI-1 afirmava : « O que *houve* e continuará a haver em este momento é uma autêntica revolução ...\n929: Campos acende sua luz *há* um curto-circuito em as instalações democráticas brasileiras . \" Já em o dia 10 , o Comando Supremo de a Revolução suspendeu os direitos políticos de cem pessoas e cassou os mandatos de 40 membros de o Congresso Nacional , medidas a que se seguiram transferências para a reserva de 145 oficiais de as três armas e novas suspensões de direitos políticos , inclusive de 37 oficiais .\n1771: Contestou a afirmação de Genoíno de que *haveria* apenas « políticos conservadores e clientelistas » em os estados de o Norte , citando como exemplo de bancadas de esquerda expressivas a de o\n2325: Criticando o discurso de posse de seu antecessor , que criticara a ditadura , acusou o de não ter considerado que em os anos 1960 , em tempos de Guerra Fria , só *havia* duas opções : « ou os anos de chumbo ou os anos de aço » .\n3245: Admitindo já *há* algum tempo a hipótese de concorrer a um novo mandato de governador de o Paraná , depois de a adesão a o PP , teve sua candidatura lançada por esse partido .\n3355: Em 1977 declarou se contrário a o restabelecimento de a liberdade sindical por considerar que *havia* um bom nível de entendimento entre a CSN e os sindicatos -- notadamente o de os metalúrgicos -- de Volta Redonda ( RJ ) , onde estava sediada a empresa .\n5513: Amparado por inúmeras pesquisas médicas que , uma atrás de a outra , demonstram que *há* um considerável abismo entre o entendimento de a lei e o que a maconha é de fato , ele constata o seguinte : « Ninguém pensa em liberar totalmente o uso .\n5531: Embora expresse certo lamento por o envolvimento de alguns nomes que lutaram por a redemocratização , FHC concorda que *houve* justiça em o caso de o mensalão e argumenta : « Escrevo sem júbilo : é triste ver em a cadeia gente que em outras épocas lutou com desprendimento .\n5632: Observando se o contexto político de a época , a ditadura militar havia lançado o AI-5 em 13 de dezembro , portanto , *há* menos de 60 dias , e elevado a o máximo o estado de terror após o golpe de 64 , como afirma a autora , « desde o início financiado , comandado e sustentado por os Estados Unidos » .\n5649: O « site » http_ / / correiodobrasil.com.br/publicou ainda que não *há* registros imediatos de que o ex-presidente tenha negado ou admitido as denúncias constantes em os livros de Saunders e Leoni .\n5682: Sem « ilusões » quanto a a dificuldade de a disputa , celebrou uma novidade : « Por a primeira vez , *houve* um deslocamento de blocos de o governo . \" O ex-presidente afirmou : « Tanto a Marina quanto o Eduardo saíram ] de o bloco de o governo e foram ] pro outro lado .\n5684: E acho que *há* , por a primeira vez também , uma articulação positiva entre o Eduardo e o Aécio . \" Para FHC , ambos entenderam que precisam « somar forças . \" A o ser perguntado quanto a a aversão de Marina Silva a as alianças de o PSB de Campos com o PSDB , respondeu : « A resistência de ela é outra .\n5689: « FHC concordou que também *há* « fadiga de material » em São Paulo , mas antes acrescentou que , ainda assim , « é difícil que o PT tenha condições de ganhar em São Paulo .\n7434: Explorando a imagem de político tocador de obras , conseguiu eleger também seu sucessor em Contagem , Guido Fonseca , de quem era amigo *havia* mais de 20 anos .\n8363: Como não *havia* ainda manifestado opinião sobre o assunto , disse , em a ocasião , que pediria a a Procuradoria Geral de o Município que entrasse com ação de inconstitucionalidade em a Justiça para derrubar a lei .\n8390: Diante de a sentença , alegou que não *havia* nenhuma irregularidade .\n9072: Em maio de 2008 , por seis votos a cinco , incluindo seu voto favorável , a ação foi julgada improcedente , permitindo se o uso , em pesquisas científicas , de as células-tronco , desde que inviáveis para implantação em o útero materno , congeladas *há* mais de três anos e mediante autorização de os genitores .\n\n=== 20 exemplos de haver impessoal na oração principal em obras ===\n33: *Havia* vinte e tantos anos que em torno de ele se formara , de dia para dia , a mais sólida reputação de virtude e santidade .\n44: Em uma de elas *havia* um grande nicho com a imagem de a Virgem de a Conceição , quase de tamanho natural ; a um de os cantos , uma negra estante , toscamente feita , pejada de grossos alfarrábios amarelecidos por o tempo ; em o centro , uma mesa de madeira escura com um breviário em cima , a o lado de uma candeia de azeite , um pedaço de pão duro e um cilício cru ; junto a a mesa , um banco de pau .\n46: Não *havia* mais ninguém em a cela .\n232: Em a suavidade de as suas faces de moço , *havia* a sombra de as duras penitências e de as grandes vigílias místicas sobre as páginas de o breviário , ou defronte de o altar de a Virgem Santíssima , mas havia também uma juvenil frescura de flor , de essas misteriosas e pálidas , que só a a noite desabrocham e recendem .\n251: Quando as suas primeiras palavras sairam lhe de o coração , em um doce murmúrio de voz angélica , *houve* em todas aquelas pobres criaturas , estafadas por o vício e por a libertinagem , uma inesperada comoção que lhes umedecia os olhos .\n400: Não *há* dúvida que está aí , está cantando a primeira missa e entrando logo em seguida para a capela real .\n408: Não *há* de ser com súplicas e sermões que a França se resgatará , mas a metralha , a canhão e a ponta de baionetas ! --\n552: E em o arruído de as suas vozes ameaçadoras , *há* como que a repercussão de um inferno sufocado por as águas !\n829: *Há* de convir que não dei o menor passo , nem empreguei o menor esforço , para provocar esta união ! ...\n923: *Há* então muitas que o estejam ? -- Oh ! oh !\n1074: *Houve* uma triste concentração em que se ouviram prantos abafados .\n1313: Não *há* dúvida que é muito santa pessoa , mas nunca vi criatura tão triste ! ...\n1401: -- Mas *há* de sempre comer alguma coisa , senão é que me zango deveras ! ... -- Tenho é muito cansaço ...\n1559: Em uma desarranjada alcova de o velho castelo , entre mesas cobertas de frascos de remédio e estojos de cirurgia , *há* uma cama com um cadáver de mulher .\n1568: *Há* muito que a previa ...\n1660: *Há* casos observados de prostração cataléptica , que duram mais de cem dias ...\n1849: Em cada corpo animado *há* um sobressalto de amor .\n1867: *Houve* um instante de espasmo , em que todos aqueles espectros fremiram convulsivamente , chocalhando os ossos uns com os outros .\n1888: Não *há* mulher que de nós desapareça para sempre , quando nós deveras a amamos ! ...\n2306: A o centro *havia* um esplêndido tapete desdobrado em o chão , com uma ceia servida em baixelas de prata e ouro .\n\n=== 20 exemplos de haver impessoal na oração subordinada em obras ===\n106: Abaixou se logo , apoderou se de a cesta , e verificou que dentro de ela *havia* uma criança de o sexo masculino .\n111: Além de isso , por que o depunham a a porta de um mosteiro , frio lugar onde só *havia* alguns pobres religiosos sem recursos para nada ? ...\n161: Não lhe permitiam olhar para o pátio de o convento , onde *havia* uma criação de galinhas e coelhos .\n176: \" E Ângelo , quando estes versetos lhe vinham a o espírito , misturados com os suspiros de a vaga saudade , que ele mal definia e em que mal acreditava , caía em fundas cismas , para as quais só *havia* uma consolação : -- escrever .\n290: Feia , é verdade ; magríssima , não *há* dúvida ; sarapintada de marcas de bexiga , ninguém o nega ; mas afinal é uma mulher !\n323: Foi o assombro de o homem desfibrado e gasto , produzido por o homem ainda forte e perfeito ! Admirou a fresca e delicada flor de o sentimento , que ele supunha *há* muito tempo extinta ; admirou esse estranho Ângelo como se admirasse uma raridade preciosa , uma de as nossas armaduras de os tempos gauleses por exemplo . --\n369: Ora , sucedeu por acaso que essa mísera criança , que o mesmo acaso atirou a as mãos de o padre Ozéas , dispusesse de as mais valentes faculdades mentais , e , não conhecendo ela outro meio além de aquele em que vegetou , e , não tendo outro pasto para seu espírito além de a doutrina cristã e de a manhosa teologia , deu se todo inteiro a estas duas estéreis e sedutoras senhoras , e em o fim de contas apresentou escandalosamente aquele imprevisto tipo , que fez as nossas delícias de a corte em a quinta-feira passada . -- Ah ! disse o conde de Saint-Malô ; não *há* dúvida , porém , de que ele tem muito talento oratório : é uma capacidade em matéria de religião ...\n401: E *há* de fazer carreira ! -- Pois engana se , caro conde , acudiu o doutor ; engana se redondamente . Ângelo não entrará para o quadro de a capela real , posto que o rei já o convidasse .\n438: Pois se até a rainha , que agora pouco sai a a rua , aposto que *há* de vir !\n561: Tua alma devia estar toda voltada para ele e só a ele refletindo , como um grande lago quieto , cristalino e límpido , cuja superfície não toldasse sequer a asa de uma abelha ... -- Bem sei , bem sei , meu pai ! soluçou Ângelo ; mas , a despeito de os meus esforços , outras vozes vinham ainda *há* pouco misturar se a as vozes celestiais , outros perfumes perturbavam os aromas de a igreja , outras idéias distraíam minha alma , outro sangue me pulsava em todo o corpo !\n849: Se *há* um criminoso entre nós , não sou eu decerto : em a minha qualidade de cortesã , sou lógica , não me afasto uma linha de o meu programa ; o senhor é que se afastou de os seus deveres , em a qualidade de chefe de família .\n889: -- Com uma condição , propôs a condessa ; *haja* o que *houver* , o senhor não se baterá com ele ... -- Prometo , mas a senhora não lhe dirá que o ama ... -- Ah !\n1375: vigário , mas ... -- Por que então *há* de fingir se aquilo que não é ? ... por que *há* de dizer o que não sente ? ... por que fazer se má , quando os seus sentimentos são humanos e compassivos ? ...\n1516: Veja o que *há* aí para comer .\n1556: Ângelo apeou se , e a o transpor o largo portão de pedra , em cujo frontal *havia* ainda as armas fidalgas de uma grande família extinta , sentiu a alma tolhida por um vago e áspero pressentimento de desgraça .\n1818: Assim conversam *há* vinte séculos ! ...\n2194: Todas as flores são poucas para em os atirarem ; desde o momento , porém , que os deixamos para trás -- não *há* pedras em o chão que cheguem para satisfazer a sua avidez de quebrar nos a cabeça e as pernas .\n2318: E pensar que *há* por esse mundo gente que fala em tristezas !\n\n=== 20 exemplos de haver impessoal na oração principal em bosque ===\nCF910-2: Não *houve* acordo para uma trégua durante a Copa .\nCF911-6: Já não *há* o império de o mal para combater .\nCF924-4: *Há* uma trama paralela , com Ramon e Esperanza , casal que após a greve se separa .\nCF944-3: Em a areia *há* apenas espreguiçadeiras , coqueiros e barraquinhas de artesanato .\nCF949-2: *Há* cidades que enfrentam programas de racionamento de água .\nCF810-5: Não *houve* tiroteio .\nCF817-5: *Há* algumas brigas engraçadas entre irmãos , cenas de separação conjugal e uma morte .\nCF817-6: Em algumas passagens , *há* diálogos intermináveis e vazios .\nCF836-1: Entretanto , *há* possibilidade de queda em as cotações externas em os próximos meses , em especial em o segundo semestre , quando se verifica a colheita de arroz em o hemisfério Norte .\nCF841-1: Para o diretor de crédito de a Febraban , Christoph Heinrich Von Beackedorff , « não *há* novos tomadores , só estão sendo rolados os empréstimos que estão vencendo » .\nCF844-2: Shows *há* para todos os ouvidos .\nCF780-2: Mas *há* a pesca comercial de atum controlada por norte-americanos de origem portuguesa , chineses de Taiwan e sul-coreanos em embarcações de 1,2 tonelada que valem até US$ 13 milhões .\nCP1000-7: Mas também aqui *há* aspectos pouco claros , já que esta disposição não é seguida por todos .\nCF971-3: Em o projeto não *há* definição de quantos podem ser construídos .\nCF979-1: *Haverá* mais e melhores escolas , laboratórios , universidades e bolsas de estudo .\nCF980-4: Entre cada parte de o submarino *há* isolamento , evitando que acidentes em uma parte atinjam as outras .\nCF858-2: Segundo o professor Vicente Amato Neto , 66 , « *há* informações que todos ouvem , em o sentido de fazer o estacionamento » .\nCP12-4: ( *Há* quem defenda , em o entanto , que se trata de um fax apócrifo , realmente escrito por o deputado José Magalhães , o qual teria , aliás , imitado a letra de o ex-deputado António Barreto .\nCP23-8: *Há* , em o ar , uma certa ideia de invasão .\nCP34-7: Em os prédios com muitos andares , *haverá* um ecoponto para todos os moradores .\n\n=== 20 exemplos de haver impessoal na oração subordinada em bosque ===\nCF939-1: Paula Toller Isso é uma coisa que a gravadora vinha sugerindo para a gente *há* muito tempo .\nCF833-1: Parágrafo 3º. -- Em os contratos celebrados ou convertidos em URV , em que *haja* cláusula de reajuste de valor por índice de preços ou por índice que reflita a variação ponderada de os custos de os insumos utilizados , o cálculo de esses índices , para efeitos de reajuste , deverá ser em esta moeda até a emissão de o real e , de aí em diante , em real , observado o art. 38 de a lei nº. 8.880 de 27.05.94 .\nCF845-2: Vamos verificar o que *houve* com essas matérias-primas . »\nCF971-6: E como não *há* crescimento sem educação , a causa de as causas para nós é a elevação de o nível educacional de o povo brasileiro .\nCP5-9: « A proposta é muito bem vista , porque será mais vantajosa de o que se *houver* só um pólo de interesse em o local » , afirmou o major Carlos Barbosa , de as relações públicas de a Força Aérea , admitindo que , com o parque temático , « se o interesse for diversificado , toda a gente fica a ganhar » .\nCP9-1: Co-produção franco-egípcia , « O Emigrante » inspira se em a história de José , filho de Jacob , contando o percurso de Ram que , *há* 3000 anos , decide abandonar a sua terra árida para se instalar em o Egipto de os faraós , centro de a civilização .\nCP21-1: O russo será uma de as seis línguas principais usadas por João Paulo II amanhã e depois , em o Encontro Mundial de a Juventude , em o Santuário Mariano de Czestokowa , onde se prevê a presença de um milhão de jovens , o dobro de os que *há* dois anos se congregaram em Santiago de Compostela .\nCP24-2: Cavaco Silva não assinou o habitual despacho que dá tolerância de ponto em a terça-feira de Carnaval -- o que significa que , a o contrário de o que é tradicional , este ano não *há* o feriado de o Entrudo .\nCP52-1: *Há* muito tempo que tenho uma estranha relação afectuosa com esta ilha .\nCP52-11: Sobretudo foi bom descobrir que *há* mais gente a fazer parte de o equipamento « imaginário » de a ilha .\nCP52-13: Os seus habitantes são de o mais cosmopolita que *há* .\nCP60-1: E não seria mais útil que o dr. Soares que , enquanto primeiro-ministro , deixou a educação em o caos que se conhece , dirigisse mensagens a lançar o debate sobre o que *há* a reformar em o ensino , em vez de passar a vida a exigir uma televisão tão livre que Eduardo Moniz tenha liberdade para criticar toda a gente excepto .. o dr. Soares ?\nCP94-4: Em o entanto , em o Ministério de a Defesa não há grandes preocupações quanto a a funcionalidade de a gestão se *houver* vacatura com a provável saída de Nogueira .\nCP104-2: O deputado social-democrata Carlos Coelho , por exemplo , até já se deu a o trabalho de comparar os dois documentos , apenas para provar que *há* « inúmeras citações literais » de o diploma em o articulado de o pacto , que assim se transforma « em um repositório de ideias globais , que não acrescenta nada a o que a lei de bases e a Constituição portuguesa preconizam » .\nCP113-4: Se não se incomodarem um a o outro é porque *há* condições para partir para a fase seguinte .\nCP118-1: Mas em os demais casos em que a lei permite a cobrança coerciva por os tribunais fiscais , pode ser discutida a legalidade de a dívida , o que quer dizer que não *há* título executivo .\nCP130-2: Para Jorge Rocha , o inquérito demonstrou « que *há* muitas câmaras de o país que têm uma atitude de grande dignidade por os animais » , apesar de serem letra morta as parcas disposições de a legislação que regulamenta esta matéria e de o imenso atraso em o nosso país em relação a outros países europeus , onde *há* inclusivamente seguros e assistência a a doença .\nCP132-6: A fotografia foi publicada em a imprensa de todo o mundo *há* cerca de um ano , quando de o massacre de Bentalha , em a Argélia , onde morreram cerca de duas centenas de pessoas , em a noite de 22 para 23 de Setembro .\nCP134-2: Parti de Cabo Verde *há* oito anos .\n"
    }
   ],
   "source": [
    "for corpus in corpora:\n",
    "    print(\"\\n{} - orações principais com sujeito oculto e haver impessoal: {}\".format(corpus, sum([len(x) for x in root_haver_impessoal[corpus].values()])))\n",
    "    print(\"{} - orações subordinadas com sujeito oculto e haver impessoal: {}\".format(corpus, sum([len(x) for x in subordinate_haver_impessoal[corpus].values()])))\n",
    "\n",
    "for corpus in corpora:\n",
    "    i = 0\n",
    "    ii = 0\n",
    "    print(\"\\n=== {} exemplos de haver impessoal na oração principal em {} ===\".format(max_examples, corpus))\n",
    "    for sent_id, tokens in root_haver_impessoal[corpus].items():\n",
    "        i += len(tokens)\n",
    "        print(sent_id + \": \" + \" \".join([x.word if t not in tokens else \"*\" + x.word + \"*\" for t, x in enumerate(corpora[corpus].sentences[sent_id].tokens) if not '-' in x.id]))\n",
    "        if i >= max_examples:\n",
    "            break\n",
    "    print(\"\\n=== {} exemplos de haver impessoal na oração subordinada em {} ===\".format(max_examples, corpus))\n",
    "    for sent_id, tokens in subordinate_haver_impessoal[corpus].items():\n",
    "        ii += len(tokens)\n",
    "        print(sent_id + \": \" + \" \".join([x.word if t not in tokens else \"*\" + x.word + \"*\" for t, x in enumerate(corpora[corpus].sentences[sent_id].tokens) if not '-' in x.id]))\n",
    "        if ii >= max_examples:\n",
    "            break"
   ]
  },
  {
   "cell_type": "markdown",
   "metadata": {},
   "source": [
    "# Filtro B"
   ]
  },
  {
   "cell_type": "code",
   "execution_count": 10,
   "metadata": {},
   "outputs": [],
   "source": [
    "def find_nominals(sentences, list_tokens):\n",
    "    nominals = {}\n",
    "    for sent_id in list_tokens:\n",
    "        sentence = sentences[sent_id]\n",
    "        for t, token in enumerate(sentence.tokens):\n",
    "            if t in list_tokens[sent_id] and token.upos != \"VERB\":\n",
    "                is_cop = False\n",
    "                for _token in sentence.tokens:\n",
    "                    if _token.head_token.id == token.id and _token.deprel == \"cop\":\n",
    "                        is_cop = True\n",
    "                        break\n",
    "                if not is_cop:\n",
    "                    if not sent_id in nominals:\n",
    "                        nominals[sent_id] = []\n",
    "                    nominals[sent_id].append(t)\n",
    "    return nominals\n",
    "                \n",
    "root_nominals = {}\n",
    "for corpus in corpora:\n",
    "    root_nominals[corpus] = find_nominals(corpora[corpus].sentences, root_without_subject[corpus])\n",
    "    \n",
    "    for sentence in root_nominals[corpus]:\n",
    "        for token in root_nominals[corpus][sentence]:\n",
    "            root_without_subject[corpus][sentence].remove(token)"
   ]
  },
  {
   "cell_type": "code",
   "execution_count": 11,
   "metadata": {
    "tags": []
   },
   "outputs": [
    {
     "output_type": "stream",
     "name": "stdout",
     "text": "\ndhbb - orações principais com sujeito oculto e nominal: 31599\n\nobras - orações principais com sujeito oculto e nominal: 43326\n\nbosque - orações principais com sujeito oculto e nominal: 1145\n\n=== 20 exemplos de nominais como oração principal em dhbb ===\n28: *Deputados* em fevereiro seguinte .\n110: As *Oposições*\n117: *Magalhães* , o voto de os representantes classistas e de os republicanos paulistas e ainda o beneplácito de Valadares .\n120: *Transcorreria* em 1937 a campanha para a sucessão presidencial .\n133: *Pinto* , visando promover uma manifestação de personalidades que contestavam o Estado Novo .\n138: « *Manifesto* de os mineiros » , primeiro pronunciamento público de setores liberais contra o Estado Novo .\n148: Aleixo fora *um* de os que propuseram o nome de Eduardo Gomes para as eleições presidenciais de 2 de dezembro de 1945 .\n150: Dutra , *ministro* de a Guerra de Vargas , tendo como defensores Benedito Valadares e vários outros políticos ligados a o Estado Novo .\n157: *Dutra* , que contava com o apoio de o PTB .\n187: Em meados de 1963 as articulações políticas entre civis e militares que visavam a a derrubada de Goulart já estavam bem desenvolvidas , contando principalmente com a participação de os generais Humberto de Alencar Castelo Branco , Olímpio Mourão Filho e Osvaldo Cordeiro de Farias e de os líderes udenistas Pedro Aleixo -- que em esse ano se tornara líder de a oposição em a Câmara -- , Adauto Lúcio Cardoso , Olavo Bilac Pinto , *José* de Magalhães Pinto , Daniel Krieger e Paulo Sarasate .\n204: *Pedro* Aleixo e Mílton\n251: Segundo *Carlos*\n255: Em o dia 29 de agosto , segundo Carlos Chagas , notícias sobre o estado de saúde de o presidente foram levadas a os ministros militares -- general Aurélio de Lira Tavares ( Exército ) , almirante Augusto Rademaker ( Marinha ) e brigadeiro Márcio de Sousa e Melo ( Aeronáutica ) -- , mas não a o *vice-presidente* .\n287: « O *peculato* em o direito penal brasileiro » ( 1956 ) , « Imunidades parlamentares » ( 1961 ) e « Em defesa de o Congresso Nacional » ( 1963 ) , além de artigos , pareceres e discursos parlamentares .\n341: Primeira eleição sem a participação direta de Lula desde 1989 , este pleito foi vencido por sua ex-ministra-chefe de a Casa Civil , Dilma Rousseff , a a frente de uma coligação que reuniu 10 partidos , incluindo o PSB de Campos : Partido de os Trabalhadores-PT ; PMDB ; Partido Democrático Trabalhista-PDT ; Partido Comunista de o Brasil-PCdoB ; *Partido* Republicano Brasileiro-PRB ; Partido de a República-PR ; Partido Trabalhista Nacional-PTN ; Partido Social Cristão-PSC e Partido Trabalhista Cristão-PTC .\n349: Em *virtude* de o lançamento de sua pré-candidatura a a presidência de a República , em abril de 2014\n355: Segundo o « *Estado* de S.\n356: *Paulo* »\n360: *Campos* , economista e auditora de o Tribunal de Contas de Pernambuco , com quem teve cinco filhos .\n378: *Deputados* em as jornadas de tisiologia realizadas em São Paulo .\n\n=== 20 exemplos de nominais como oração principal em obras ===\n1: A *MORTALHA* DE ALZIRA Aluísio de Azevedo\n2: A *cela* misteriosa\n10: *Substituir* La Rose ! ...\n20: Que *diabo* !\n49: Para quê , meu *pai* ? -- Para pregar o sermão de Quinta-feira santa . --\n51: Não *te* preocupes com a multidão que lá encontrares , não te preocupes com o que vires !\n55: *Adeus* .\n56: -- Sua *bênção* , meu pai . -- Deus te abençoe .\n58: *Frei* Ozéas e o enjeitado\n62: A *ferocidade* e a perfídia de os tempos bárbaros , os crimes de o feudalismo , todos os erros , todos os abusos e todos os desregramentos de um governo cínico e perverso e de uma magistratura e uma jurisprudência feitas de ignomínia e adulação , eis de o que se compunham os costumes de esse infeliz começo de século .\n65: Só uma *coisa* divertia o público : -- a crápula .\n82: Por mais *brilhante* e intensa que fosse a luz de o seu arrependimento , lá estava o gigantesco espectro de os crimes cometidos , para antepor se entre eles , e encher de sombra e remorso aquela consciência de sacerdote pecador .\n83: Por mais *sincera* e convicta que fosse a sua nova lei de conduta , por mais leal e verdadeira a sua nova linha de virtude , sua alma chorava perdida para sempre , porque para sempre se sentia corrompida e suja .\n87: *Francisco* de Paula , denominados -- « Os mínimos » .\n98: *Deus* a os desamparados por os homens .\n103: Eis a o que nem o próprio Ozéas seria capaz de responder *.*\n107: Um *enjeitado* !\n109: Mas um *enjeitado* de quem ? ...\n116: *Sim* !\n117: *Sim* !\n\n=== 20 exemplos de nominais como oração principal em bosque ===\nCF893-1: Um *Godard* intergaláctico\nCF897-2: De a *FT*\nCF902-1: *Pedro* Ivo , 63 , tel. 289-3609 )\nCF902-4: *Preço* : 18 URVs ( por pessoa )\nCF902-5: *Horário* : em o dia 12 , de as 19h a o último cliente\nCF902-6: *Cartões* : aceita todos\nCF902-7: *Estacionamento* com manobrista\nCF903-6: *Folha* -- o que a mulher precisa hoje , em termos de roupas ?\nCF913-1: *IMPOSTOS* E TARIFAS\nCF913-8: *APOSENTADOS*\nCF921-2: *Ilustração* :\nCF921-3: « *Menina* correndo em a varanda » , óleo s/ tela , Giacomo Balla , 1912\nCF924-2: *Preço* : US$ 74,71 .\nCF928-4: *Execução*\nCF931-1: *Demonização*\nCF933-3: *Editor-assistente* de Ciência\nCF941-1: *Dique* oficial\nCF941-4: *Bola* preta\nCF942-1: *Madonna* em a pele de Madonna\nCF946-4: *Chance* imperdível para aqueles que apreciam enterradas , tocos e a mais primitiva troca de porradas .\n"
    }
   ],
   "source": [
    "for corpus in corpora:\n",
    "    print(\"\\n{} - orações principais com sujeito oculto e nominal: {}\".format(corpus, sum([len(x) for x in root_nominals[corpus].values()])))\n",
    "\n",
    "for corpus in corpora:\n",
    "    i = 0\n",
    "    print(\"\\n=== {} exemplos de nominais como oração principal em {} ===\".format(max_examples, corpus))\n",
    "    for sent_id, tokens in root_nominals[corpus].items():\n",
    "        i += len(tokens)\n",
    "        print(sent_id + \": \" + \" \".join([x.word if t not in tokens else \"*\" + x.word + \"*\" for t, x in enumerate(corpora[corpus].sentences[sent_id].tokens) if not '-' in x.id]))\n",
    "        if i >= max_examples:\n",
    "            break"
   ]
  },
  {
   "cell_type": "markdown",
   "metadata": {},
   "source": [
    "# Filtro C"
   ]
  },
  {
   "cell_type": "code",
   "execution_count": 12,
   "metadata": {},
   "outputs": [],
   "source": [
    "fenomenos_natureza = \"chover|ventar|nevar|chuviscar|garoar|gear|anoitecer|amanhecer|entardecer|relampejar|trovejar\".split(\"|\")\n",
    "def find_natureza(sentences, list_tokens):\n",
    "    natureza = {}\n",
    "    for sent_id in list_tokens:\n",
    "        sentence = sentences[sent_id]\n",
    "        for t, token in enumerate(sentence.tokens):\n",
    "            if t in list_tokens[sent_id] and token.lemma in fenomenos_natureza:\n",
    "                if not sent_id in natureza:\n",
    "                    natureza[sent_id] = []\n",
    "                natureza[sent_id].append(t)\n",
    "    return natureza\n",
    "                \n",
    "root_natureza = {}\n",
    "subordinate_natureza = {}\n",
    "for corpus in corpora:\n",
    "    root_natureza[corpus] = find_natureza(corpora[corpus].sentences, root_without_subject[corpus])\n",
    "    subordinate_natureza[corpus] = find_natureza(corpora[corpus].sentences, subordinate_without_subject[corpus])\n",
    "    \n",
    "    for sentence in root_natureza[corpus]:\n",
    "        for token in root_natureza[corpus][sentence]:\n",
    "            root_without_subject[corpus][sentence].remove(token)\n",
    "    for sentence in subordinate_natureza[corpus]:\n",
    "        for token in subordinate_natureza[corpus][sentence]:\n",
    "            subordinate_without_subject[corpus][sentence].remove(token)"
   ]
  },
  {
   "cell_type": "code",
   "execution_count": 13,
   "metadata": {
    "scrolled": true,
    "tags": []
   },
   "outputs": [
    {
     "output_type": "stream",
     "name": "stdout",
     "text": "\ndhbb - orações principais com sujeito oculto e fenômeno natureza: 0\ndhbb - orações subordinadas com sujeito oculto e fenômeno natureza: 4\n\nobras - orações principais com sujeito oculto e fenômeno natureza: 100\nobras - orações subordinadas com sujeito oculto e fenômeno natureza: 127\n\nbosque - orações principais com sujeito oculto e fenômeno natureza: 1\nbosque - orações subordinadas com sujeito oculto e fenômeno natureza: 2\n\n=== 20 exemplos de fenômeno natureza como oração principal em dhbb ===\n\n=== 20 exemplos de fenômeno natureza como oração subordinada em dhbb ===\n82280: Em Cachoeira de o Sul , o levante se desenrolou sem qualquer contratempo : em o *entardecer* de o dia 4 de outubro , as unidades federais de a cidade já se achavam reorganizadas por os revolucionários , prontas para seguir para o norte de o estado , de onde rumariam para São Paulo e Rio .\n337330: Em o segundo dia de luta , uma companhia de o 5º RI e todo o 6º RI , comandado por o major Raul Cabral Velho , aderiram a a revolta , mas a o *anoitecer* os primeiros reforços legalistas começaram a penetrar em a cidade .\n408100: Em Cachoeira de o Sul , o levante se desenrolou sem qualquer contratempo : em o *entardecer* de o dia 4 de outubro , as unidades federais de a cidade já se achavam reorganizadas por os revolucionários , prontas para seguir para o norte de o estado , de onde rumariam para São Paulo e Rio .\n472113: A o mesmo tempo , deu andamento a um conjunto de obras que visava melhorar os problemas causados por as enchentes que ocorriam em a cidade sempre que *chovia* com intensidade .\n\n=== 20 exemplos de fenômeno natureza como oração principal em obras ===\n5828: Felizmente *chovia* menos .\n18268: Ia *anoitecer* .\n20128: Ia deixar de ver , mas não lhe convinha abrir a janela , por causa de o vento ; além de isso ameaçava chuva ; era até muito natural que estivesse *chuviscando* .\n20236: Ia deixar de ver , mas não lhe convinha abrir a janela , por causa de o vento ; além de isso ameaçava chuva ; era até muito natural que estivesse *chuviscando* .\n26601: A A voz de tua musa um mundo Novo surge , *amanhece*\n28063: Está *chovendo* : tinha certeza de encontrar te em casa .\n40944: Quando a morte aliviou Veneza de aquele díscolo que a depravava , *choveram* os epitáfios e , em todos eles , transparecia o ódio que o grande difamador criara em torno de a sua pessoa detestada e temida .\n42137: Felizmente *chovia* e os fogos lá estavam em a seção pirotécnica de o Rosas .\n57648: Estava *chuviscando* .\n60512: Mal *amanhece* busco a e ponho me logo a trabalhar e , assim como o lavrador enche os carros de ceifa , assim vou enchendo páginas com os meus sonhos .\n61537: *Chovia* torrencialmente quando Maria Augusta apareceu em a ferraria , esbaforida , procurando Nazário .\n62574: Tá *chovendo* ...\n64952: Está *amanhecendo* . -- Amanhecendo ? !\n65343: Sobre o túmulo onde ficou a carne em que morei , *chovem* os psalmos de as religiosas e as flores de os que vão correr o claustro .\n68655: E , repetindo as palavras de o delegado , desceu as escadas , indignado e desesperançado . *Chovia* ainda .\n71321: *Chovia* e a estalagem triste , de desusada tranqüilidade , com as compridas cordas gotejando e oscilando a o vento , as tinas abandonadas , os coradouros vazios , parecia deserta .\n90846: Sim , mas , quando *amanheceu* -- prosseguiu Francisco -- e se viu o rastilho de sangue que ele foi deixando por o caminho afora , seu sargento-mór mandou que eu e Mameluco , seu pagem de confiança , montássemos em os melhores cavalos e lhe fizéssemos companhia , guiados por o rastilho , em busca de o Valentão .\n102918: Após aquela noite de festa , em que dançara desesperadamente com todos os rapazes que lhe pediam essa honra , *amanheceu* mademoiselle Beatriz com febre alta , e uma tosse forte , com grandes dores em o peito .\n103127: Em o quarto dia , porém , *amanheceu* inteiramente boa , voltando a valsar , alegre e jovial , contentíssima como se nada tivesse acontecido .\n103883: Compreendendo , em a sua sabedoria , o que havia sucedido a as duas fragilíssimas criaturas a que pretendera conceder a graça de a imortalidade , *trovejou* o Senhor que eles abandonassem , de pronto , os limites de o Éden .\n\n=== 20 exemplos de fenômeno natureza como oração subordinada em obras ===\n2425: Fujamos antes que *amanheça* ! --\n4857: O monólogo continuava . -- Olhe que vai *chover* !\n5925: Calculou que não tardaria a amanhecer , se é que ainda *amanheceria* : se é que aquela noite infernal não se fosse prolongando infinitamente , sem nunca mais aparecer o sol ! Bebeu um copo d' água , bem cheio , apesar de haver pouco antes tomado outro , e ficou imóvel , de ouvido atento , em a expectativa de escutar as horas de algum relógio de a vizinhança .\n5941: Entretanto , adivinhava se que ia *amanhecer* .\n7617: E as castas propensões de o Coruja , os gostos imaculados que dormiam a sono solto dentro de ele , tudo isso acordou alegremente a os primeiros rumores de a floresta e as primeiras irradiações de a aurora como um bando de pássaros quando vai *amanhecendo* .\n9849: E , notando que *amanhecia* , ergueu se de a mesa , lavou se , mudou de roupa e tomou um cálice de conhaque .\n12642: Ainda outros cheiros a incomodavam : o fartum que se exala de a terra quando *chove* depois de uma grande soalheira , o fedor de o cavalo suado , o de certos remédios preparados com ópio , mercúrio , clorofórmio ; tudo isto agora lhe fazia mal , porém de um modo tão vago , que ela muita vez sentia se indisposta e não atinava porque .\n13686: Parece que vai *chover* ...\n13690: Principiava com efeito a *chuviscar* .\n14248: Cercaram a choupana com valentes toros de madeira e , quando *anoitecia* levantavam uma fogueira defronte de a porta .\n17104: Se eu sair de aqui agora , Onde vou *amanhecer* ? -- Este foi de sentimento !\n21961: Não sei se adormeci : sei apenas que quando *amanheceu* achei me a sós em o cemitério .\n24023: Vinha *amanhecendo* quando o grumete , ainda bêbedo de sono , os olhos apertados , o passo leve , saiu direito a o cais de os Mineiros .\n28146: atravessemos aquela ponte ... -- Isso é uma extravagância : está *chovendo* ! -- Ora ! um chuvisquinho a a toa !\n30216: se era ! ... já tinha *anoitecido* havia mais de uma hora . -- E Vm .\n30420: Quando foi *anoitecendo* , embocaram por a estrada de a mata , e vieram descendo para o porto .\n31025: Ele o que quer é café , e mais café , que é o que dá dinheiro . -- Também , a dizer a verdade , não sei o que será melhor , -- observou outra escrava , -- se estar em a roça trabalhando de enxada , ou aqui pregada em a roda , desde que *amanhece* até nove , dez horas de a noite .\n43369: Quem dirá que ontem *choveu* como *choveu* ... ?\n45272: Quando *chovia* as goteiras eram o pagode de a garotada .\n\n=== 20 exemplos de fenômeno natureza como oração principal em bosque ===\nCP929-4: Desde há já alguns anos que *chove* « a eito » em a centenária Igreja de Ceide .\n\n=== 20 exemplos de fenômeno natureza como oração subordinada em bosque ===\nCP1000-3: A ilustrá lo o exemplo de Piódão , onde as coberturas em telha de as habitações ( mesmo estando em bom estado ) estão a ser substituídas por outras em lousa , enquanto as casas que já têm coberturas em lousa ( ainda que *chova* em o interior ) não beneficiam de qualquer ajuda .\nCP929-5: O último Inverno foi já muito difícil de passar e , recordam os paroquianos , que *chovia* tanto dentro de a igreja como cá fora .\n"
    }
   ],
   "source": [
    "for corpus in corpora:\n",
    "    print(\"\\n{} - orações principais com sujeito oculto e fenômeno natureza: {}\".format(corpus, sum([len(x) for x in root_natureza[corpus].values()])))\n",
    "    print(\"{} - orações subordinadas com sujeito oculto e fenômeno natureza: {}\".format(corpus, sum([len(x) for x in subordinate_natureza[corpus].values()])))\n",
    "    \n",
    "for corpus in corpora:\n",
    "    i = 0\n",
    "    ii = 0\n",
    "    print(\"\\n=== {} exemplos de fenômeno natureza como oração principal em {} ===\".format(max_examples, corpus))\n",
    "    for sent_id, tokens in root_natureza[corpus].items():\n",
    "        i += len(tokens)\n",
    "        print(sent_id + \": \" + \" \".join([x.word if t not in tokens else \"*\" + x.word + \"*\" for t, x in enumerate(corpora[corpus].sentences[sent_id].tokens) if not '-' in x.id]))\n",
    "        if i >= max_examples:\n",
    "            break\n",
    "    print(\"\\n=== {} exemplos de fenômeno natureza como oração subordinada em {} ===\".format(max_examples, corpus))\n",
    "    for sent_id, tokens in subordinate_natureza[corpus].items():\n",
    "        ii += len(tokens)\n",
    "        print(sent_id + \": \" + \" \".join([x.word if t not in tokens else \"*\" + x.word + \"*\" for t, x in enumerate(corpora[corpus].sentences[sent_id].tokens) if not '-' in x.id]))\n",
    "        if ii >= max_examples:\n",
    "            break"
   ]
  },
  {
   "cell_type": "markdown",
   "metadata": {},
   "source": [
    "# Filtro D"
   ]
  },
  {
   "cell_type": "code",
   "execution_count": 14,
   "metadata": {},
   "outputs": [],
   "source": [
    "def find_se(sentences, list_tokens):\n",
    "    se = {\"a\": {}}\n",
    "    for sent_id in list_tokens:\n",
    "        sentence = sentences[sent_id]\n",
    "        for t, token in enumerate(sentence.tokens):\n",
    "            if token.head_token.id != \"_\" and token.lemma == \"se\" and token.upos == \"PRON\" and \"Gender=Unsp\" in token.feats and sentence.map_token_id[token.head_token.id] in list_tokens[sent_id]:\n",
    "                if not sent_id in se[\"a\"]:\n",
    "                    se[\"a\"][sent_id] = []\n",
    "                se[\"a\"][sent_id].append(sentence.map_token_id[token.head_token.id])\n",
    "\n",
    "    return se\n",
    "                \n",
    "root_se = {}\n",
    "subordinate_se = {}\n",
    "for corpus in corpora:\n",
    "    root_se[corpus] = find_se(corpora[corpus].sentences, root_without_subject[corpus])\n",
    "    subordinate_se[corpus] = find_se(corpora[corpus].sentences, subordinate_without_subject[corpus])\n",
    "    \n",
    "    for sentence in root_se[corpus][\"a\"]:\n",
    "        for token in root_se[corpus][\"a\"][sentence]:\n",
    "            if token in root_without_subject[corpus][sentence]:\n",
    "                root_without_subject[corpus][sentence].remove(token)\n",
    "    for sentence in subordinate_se[corpus][\"a\"]:\n",
    "        for token in subordinate_se[corpus][\"a\"][sentence]:\n",
    "            if token in subordinate_without_subject[corpus][sentence]:\n",
    "                subordinate_without_subject[corpus][sentence].remove(token)"
   ]
  },
  {
   "cell_type": "code",
   "execution_count": 15,
   "metadata": {
    "tags": []
   },
   "outputs": [
    {
     "output_type": "stream",
     "name": "stdout",
     "text": "\ndhbb - orações principais com sujeito oculto e se (filtro a): 59\ndhbb - orações subordinadas com sujeito oculto e se (filtro a): 757\n\nobras - orações principais com sujeito oculto e se (filtro a): 215\nobras - orações subordinadas com sujeito oculto e se (filtro a): 155\n\nbosque - orações principais com sujeito oculto e se (filtro a): 31\nbosque - orações subordinadas com sujeito oculto e se (filtro a): 5\n\n=== 20 exemplos de se (filtro a) como filho de oração principal em dhbb ===\n4288: Em o início de 1966 , a o se *formalizar* a criação de dois novos partidos políticos , a Aliança Renovadora Nacional ( Arena ) , de apoio a o governo , e o Movimento Democrático Brasileiro ( MDB ) , de oposição , filiou se a a Arena , tendo sido o primeiro presidente de esse partido em a Guanabara .\n13465: *Recomendava* ainda que se de esse « preferência a o regime estatal » para a exploração de a indústria siderúrgica , propondo a criação de o Conselho Nacional de Minas e Metalurgia e de o Conselho Nacional de Carvão Mineral , além de a nacionalização de os bancos de depósito .\n26479: *Transferindo* se para a Inglaterra e obteve o título de Mestrado e Doutorado em a Hertford College em a Universidade de Oxford , em Oxford .\n34231: *Veja* se que « absoluta prioridade » não é simplesmente uma expressão , mas um princípio constitucional que gera direitos e obrigações jurídicas .\n51684: *Mudando* se para Porto\n67770: *Filiando* se a o Partido de os Trabalhadores ( PT ) em 1980 , legenda de a qual foi um de os fundadores em o estado , desenvolveu intensa militância em o movimento estudantil , sindical e partidário .\n75381: *Habilitando* se para disputar o segundo turno de novembro seguinte com Luís Paulo Conde , de o Partido de a Frente Liberal ( PFL )\n118898: *Transferindo* se para o Partido Social Cristão ( PSC ) , em novembro de 1986 concorreu a deputado federal constituinte .\n125750: *Transferindo* se para Porto\n126114: *Tratava* se de o mesmo órgão que autorizara , em o governo anterior , a dispensa de concorrência para o projeto , e que aprovara o afastamento de a Engenharia de Sistemas de Controle e Automação ( ESCA ) -- única empresa nacional habilitada para assimilar a tecnologia de radares desenvolvida por os fornecedores estrangeiros escolhida para gerenciar o Sivam -- fraudara a previdência social .\n130732: *Devem* se a a sua gestão as seguintes iniciativas : criação de o Balcão de o Empresário , um serviço de informação e orientação a os empresários já constituídos e a aqueles que desejavam montar seu próprio negócio ; a aprovação , por o Banco Central , de resoluções que permitiram o refinanciamento de as dívidas de os microempresários ; a implantação por as instituições financeiras de linhas de crédito especiais que incentivaram a criação de mais de duas mil micro e pequenas empresas ; a aprovação de o Programa de Apoio a Pequenos Produtores Rurais ( Progerar ) .\n143438: *Tratava* se de o seqüestro de o embaixador norte-americano , Charles Burke Elbrick , realizado em o Rio de Janeiro em conjunto com o Movimento Revolucionário 8 de Outubro ( MR-8 ) em o dia 4 de setembro , em meio a a crise política provocada por a substituição de o presidente Artur de a Costa e Silva , gravemente enfermo , por uma junta militar formada por os ministros de as três forças armadas .\n149411: *Transferindo* se para o Brasil como representante de a fábrica de automóveis italiana\n157243: *Tratava* se de o Plano Cohen , que o major Aguinaldo Caiado de Castro descobriu em poder de o capitão Olímpio Mourão Filho e que o EME encampou para justificar o endurecimento de a situação política .\n171690: Em novembro de 1977 , a o se *discutir* a legalização de o Partido Comunista Brasileiro ( PCB ) em o Congresso , Carlos Alberto Oliveira pronunciou se contrário a a medida por julgar que « em as democracias só devem existir partidos democráticos » .\n179120: *Transferindo* se para o Partido de os Trabalhadores ( PT ) , em o pleito de outubro de 1994\n189167: Mas , em os bastidores , removidas as caracterizações , *percebe* se que o projeto é o mesmo em as entrelinhas de o texto ensaiado .\n189909: *Transferindo* se para Porto\n202530: *Transferindo* se para Porto\n204188: *Transferindo* se para Goiânia em 1959\n\n=== 20 exemplos de se (filtro a) como filho de oração subordinada em dhbb ===\n21: *Desligando* se de o PDS em 1988 , permaneceu como vice-prefeito até janeiro de o ano seguinte .\n747: *Referindo* se a o manifesto lançado por Vargas em essa data , observou que o país vivera , « durante mais de 40 anos , em regime constitucional teórico e em estado de inconstitucionalidade crônica , mal dissimulado por instituições que já haviam caducado antes de viver » .\n947: *Transferindo* se para São Paulo e depois para o Rio de Janeiro , formou se em engenharia civil por a Universidade de o Brasil , em 1952 .\n955: *Transferindo* se para Cubatão ( SP ) , foi engenheiro de a prefeitura até 1974 .\n1911: *Mudando* se para o Rio de Janeiro , então Distrito Federal , a a procura de um emprego público , em março de 1939 fez concurso para o Itamaraty , sem ter inclinação especial para a carreira diplomática , como declararia mais tarde , e foi aprovado .\n3019: *Transferindo* se para São Paulo , ingressou em o curso de filosofia de a Pontifícia Universidade Católica ( PUC ) em 1972 e atuou em os movimentos estudantil e sindical paulistas .\n3090: Em 1996 filiou se a o Partido Liberal ( PL ) , *incluindo* se entre os 84 deputados federais pré-candidatos a prefeitos em a eleição de outubro seguinte .\n4038: *Mudando* se para o Rio de Janeiro , então Distrito Federal , em 1906 , estudou em o Ginásio Nacional , atual Colégio Pedro II , e em o Colégio Alfredo Gomes .\n4351: Promovido a general-de-divisão em julho de 1998 , a o se *iniciar* o segundo governo Fernando Henrique Cardoso , em janeiro de 1999 , foi mantido em a Casa Militar .\n7368: *Transferindo* se para Igrejinha ( RS ) , presidiu a Comunidade Católica de a cidade de 1983 a 1984 , e o Círculo de Pais e Mestres de a Escola Olívia Lahmhiri de 1985 a 1986 .\n7441: *Aproximando* se de o presidente de a República José Sarney , defendeu que a Constituinte fixasse o mandato presidencial em cinco anos , contrariando a proposta oposicionista que previa quatro anos e a realização de eleições diretas em 1988 .\n9137: *Filiando* se a o Partido de o Movimento Democrático Brasileiro ( PMDB ) , em o pleito de novembro de 1982 foi eleito deputado federal por o Amazonas com 96 mil votos , a maior votação de o estado .\n9489: *Transferindo* se para Curitiba , iniciou curso de farmácia-bioquímica em a Universidade Federal de o Paraná em 1970 e diplomou se quatro anos depois .\n9817: *Dedicando* se a o cultivo de a cana-de-açúcar em o município de Carpina ( PE ) , então Floresta de os Leões , de 1930 a 1932 foi um de os fornecedores de esse produto a a usina de Petribu , de propriedade de João Cavalcanti de Petribu , que se tornaria seu sogro .\n9980: Iniciou a sua atividade política , em 1972 , a o se *filiar* a Aliança Renovadora Nacional ( ARENA ) partido político de apoio a o regime militar instalado em o país desde abril de 1964 .\n10089: *Transferindo* se para Brasília ( DF ) , foi assistente parlamentar em a Câmara de os\n10150: *Transferindo* se para Januária , em o norte de Minas Gerais , foi vereador ( 1969-1973 ) e prefeito de o município ( 1973 a 1979 ) .\n10952: *Transferindo* se para Rondônia , em 1986 filiou se a o Partido de o Movimento Democrático Brasileiro ( PMDB ) e assumiu a Secretaria Municipal de Saúde de Porto Velho .\n12277: *Transferindo* se para São Paulo , ingressou em a Universidade de São Paulo ( USP ) , por onde se graduou em ciências econômicas por a em 1968 .\n13614: *Transferindo* se para o Partido de a Frente Liberal ( PFL ) , em o ano de 2002 , tornou se mais uma vez primeiro suplente de o deputado federal em as eleições de esse mesmo ano , por a coligação entre o PFL , o Partido Popular Socialista ( PPS ) , o Partido Trabalhista Brasileiro ( PTB ) , o Partido Social Liberal ( PSL ) , o Partido Trabalhista Nacional ( PTN ) , o Partido Social Cristão ( PSC ) e o Partido Republicano ( PRP ) .\n\n=== 20 exemplos de se (filtro a) como filho de oração principal em obras ===\n419: *Encaminhando* se para o Dr.\n2388: *Acalmem* se por quem são !\n5521: *Azedavam* se de este modo as suas entrevistas , esfriando as poucas horas que os dois tinham para o amor .\n6361: *Abracem* se !\n6508: *Aviem* se !\n7143: *Diria* se que nascera encascado em grossa armadura de indiferença , contra a qual se despedaçavam as várias manifestações de o meio em que vivia , sem que elas jamais conseguissem lhe corromper o ânimo .\n9343: E *note* se que nenhuma de elas admite divisões de ternura ; cada uma quer tudo para si e leva o egoísmo a o ponto de não consentir que o objeto de o seu amor pense em outra pessoa que não seja ela !\n10252: E *note* se que , depois que Teobaldo melhorara de circunstâncias , D.\n10352: E *note* se que estes para casar topavam outras dificuldades que já o senhor não encontra para casar com minha filha ! ... -- O meu caso é muito diferente ...\n10628: E *note* se que tão facilmente discorre por a arte moderna , como remonta a a de três séculos atrás ; tão a a vontade se acha falando sobre os pintores de a renascença , como falando de a escultura pagã , como de o teatro grego ou de a poesia hebraica .\n10661: E *note* se que ele faz tudo isso somente porque o tal sujeito foi seu companheiro de colégio !\n13201: *Lembrar* se de o subir a estas alturas ! ...\n15919: *Gabava* se de ter adquirindo grande experiência de o mundo ; conversava a a vontade sobre qualquer assunto tão bem sabia entrar em uma sala de primeira ordem como dar uma palestra entre rapazes em uma redação de jornal ou em a caixa de um teatro .\n17282: *Cale* se com os diabos !\n17396: *Esquecer* se de soprar aquela maldita vela ! ...\n18866: E *lembrar* se que ainda havia surras e assassínios irresponsáveis tanto em as fazendas como em as capitais ! ...\n18867: *Lembrar* se de que ainda nasciam cativos porque muitos fazendeiros , apalavrados com o vigário de a freguesia batizavam ingênuos como nascidos antes de a lei de o ventre livre ! ...\n18868: *Lembrar* se que a conseqüência de tanta perversidade seda uma geração de infelizes , que teriam de passar por aquele inferno em que ele agora se debatia vencido !\n20326: E foi *assentar* se a um canto , segurando carinhosamente o pé . --\n21781: *Abraçam* se em os montes os pinheiros e os ciprestes em os cemitérios ; entrelaçam se flores em o campo ; amam se feras em os covis ; em os ares os passarinhos e os reptis em o charco .\n\n=== 20 exemplos de se (filtro a) como filho de oração subordinada em obras ===\n6472: Muitos cabeças-de-gato viraram casaca , *passando* se para os carapicus , entre os quais um homem podia até arranjar a vida , se soubesse trabalhar com jeito em tempo de eleições .\n6562: Ele pôs se de pé e , a o *encaminhar* se para a sala de jantar , sentiu uma ligeira sombra fugir em sua frente .\n7363: *Achavam* se em o mesmo ponto de abandono , viram se companheiros de solidão , e é natural que se compreendessem e que se tornassem afinal amigos inseparáveis .\n11311: Mas , ah ! justamente quando esta vai fugindo , é que a mulher mais a exige em os seus amantes ; a a moça , bonita e cheia de vida , pouco importa que o homem a quem se *dá* seja tão novo e tão lindo como ela ; para o seu completo deleite chegam lhe os próprios encantos e , vaidosa , contenta se com ser admirada e não precisa admirar ninguém .\n12167: O criado , surpreso com estas palavras , mas sem o dar a perceber , afastou se imediatamente ; a o passo que o amo , *vestindo* se a as pressas e , contra o seu costume , em desalinho , abandonou ainda uma vez o gabinete e ganhou em direitura a o quarto de o enfermo .\n14621: E , porque a ama fizesse um certo ar de estranheza : -- Para não manchar o colchão , como não ? -- Ah ... fez Magdá , *caindo* em si . --\n14875: O populacho de o cortiço e os trabalhadores de a pedreira queriam acabá la , ali mesmo , a unhas e dentes ; porém o médico , muito esbofado , porque viera de a rua lá a passo de lobo , o chapéu de castor em o alto de a cabeça , o suor a inundar lhe o pescoço , os olhos faiscantes , mostrava os punhos e refilava as prezas , rosnando contra quem se *aproximasse* de a « sua enferma » .\n18063: E enchiam se os pratos . -- Famoso ! está famoso ! repetia , levando a a boca grandes colheradas . -- Então as senhoras não em os fazem companhia ? ... disse Raimundo , *voltando* se para as duas . -- Qual ! apressou se o fazendeiro a responder .\n19923: Juro que serei seu esposo ! -- E eu juro que sou tua ! exclamou ela , *lançando* se para acompanhá lo até a a ponta .\n23742: Se houvesse uma caminha larga ... -- Arranja se , meu Deus , *arranja* se , tornou a portuguesa .\n24185: Pouco depois de engolir a cachaça , meio tonto , *empinando* se para não demonstrar fraqueza , mas com a vista caliginosa e um azedume em a língua , retirou se de a venda sem rumo certo , para os lados de o cais Pharoux .\n28304: Que o não aborrecessem ! ... -- Mas non , mas non ! Il ne s ' agite poin d' argent , mon pauvre chéri , obtemperava Lolotte ; je sens que je ferais une grosse *maladie* si je ne rétourne pau au theathre !\n28938: O mísero pegou em a pena , e escreveu , *contendo* se para não fazer outra coisa : « Que fatalidade !\n32315: O patife tem a sem-cerimônia de escrever me , como se entre nós nada *houvesse* , assim com ares de amigo velho , participando me que se acha casado ! ...\n33641: Depois de *demorar* se o tempo que julgou necessário para informar se e ficar ciente de tudo , voltou a a canoa e disse a Inimá que não vira por toda a parte senão festas e regozijos , não ouvira senão aplausos e elogios a Itajiba ; que todos a uma voz diziam que jamais Inimá poderia igualar os feitos gloriosos de Itajiba , e que embora voltasse aquele vitorioso , dentro em oito dias este seria aclamado sucessor de o ilustre Oriçanga e seria o feliz esposo de a meiga e gentil Guaraciaba .\n35031: Esquece me se *puderes* , mas não peças auxílio a o céu para caíres em o inferno !\n35972: Em um contínuo giro o pensamento Tanto a precipitar me se *encaminha* , Que não vejo onde pare o meu tormento .\n41974: Morcegos esvoaçavam a os trissos ríspidos , passavam de esfuzio , *confundindo* se com as últimas andorinhas .\n42744: *Voltando* se para um de os amigos que o cercavam , rouquejou , *referindo* se a as crueldades praticadas em Canudos : -- Que ei de eu dizer a o Eterno quando ele interrogar me : \" Ney , como é que em teu país há um homem que enfurna mulheres e crianças para matá las a querosene ? \" Confesso que , por a primeira vez em a minha vida , quero dizer , em a morte ficarei sem resposta ...\n\n=== 20 exemplos de se (filtro a) como filho de oração principal em bosque ===\nCF834-1: *Aventure* se em o Alasca a bordo de um trenó\nCP999-3: *Veja* se , a título de exemplo , os textos « Coração , vinho e legumes » , PÚBLICO de o passado dia 16 ; « Álcool faz bem a o coração » , 19.11.93 ; « Glórias e misérias de o álcool » , 15.8.93 ; « Álcool protege coração ? » , 3.9.91 ; Vinho contra colesterol ? , 12.8.91 .\nCF863-7: *Habite* se .\nCP24-4: *Registe* se que a terça-feira de Carnaval não é um feriado legal , mas tão-só « tradicional » : ou seja , todos os anos o primeiro-ministro tem que produzir um despacho , publicado em « Diário de a República » , em que decreta a tolerância de ponto .\nCP24-5: Este ano , eventualmente condicionado por a polémica que o opõe a o Presidente de a República em torno de os feriados ( *recorde* se que Soares enviou a lei para o Tribunal Constitucional ) Cavaco decidiu , pura e simplesmente , « acabar » com a terça-feira de Carnaval .\nCP127-1: Entre os episódios mais importantes a transmitir , além de a entrevista com Giacometti , *destaque* se aquele em que se fala de a arte de Modigliani , mais ou menos a meio de a exibição ( nem sempre a ordem é respeitada por a RTP ) .\nCP263-3: *Pense* se em Kingsley Amis , Malcolm Bradbury e Albert Finney .\nCP263-5: *Pense* se em o romance que o primeiro escreveu -- « The Green Man » -- , que o segundo adaptou e o terceiro interpretou .\nCP263-6: *Pense* se em um enredo mirabolante , centrado em um herói desfeito , o anti-herói Maurice Allington , e em a maneira como o impensável -- o fantasma de Thomas Underhill -- o cerca .\nCP268-7: *Encontram* se em todo o lado e , em o entanto , o seu fabrico é proibido por lei .\nCP295-5: *Recorde* se que as receitas são obtidas em a sua quase totalidade em dólares , que depois é necessário converter para a moeda nacional .\nCP301-2: *Recorde* se que Edberg , antes de Roland Garros , estava em o 45º lugar , mas as excelentes exibições em a terra batida parisiense e em a relva londrina permitiram lhe o salto .\nCP401-3: Se quiser telefonar -- serviço manual -- para o Transkei *prepare* se para pagar 51000 por minuto , o mesmo que , por exemplo , para o Afeganistão , Qatar , Gâmbia , Brunei ou Honk-Kong .\nCP485-2: *Referem* se a normas de segurança e de saúde e higiene , regras de iluminação , etc.\nCP493-3: *Recorde* se que a cancerização se produz quando , por alguma razão , as células de o organismo começam a dividir se de forma descontrolada sem chegarem a a maturação .\nCP496-7: *Assinale* se ainda a presença de um « stand » de a Christie's em o espaço de a mostra , bem como de um avaliador oficial de aquela leiloeira inglesa .\nCP547-3: *Diga* se , de uma vez e claramente , o que se quer ou o que se quer mais .\nCP618-7: *Recorde* se que as mesmas pessoas ameaçaram já não votar em as próximas eleições se o problema não for resolvido .\nCP744-4: As inspecções , *recorde* se , começaram em Abril de o ano passado , pouco depois de o fim de a Guerra de o Golfo e resultaram de os acordos de cessar-fogo então assinados .\nCP822-4: *Queixa* se a o senhorio ?\n\n=== 20 exemplos de se (filtro a) como filho de oração subordinada em bosque ===\nCP39-3: « A conveniência de esta rua é palpável ; uma cómoda estrada desobstruída de tortuosidades e declives , desde a Foz a o coração de a cidade , especialmente para seges e carros , o que até aqui mal se consegue antes de chegar a o sítio de o banco de S. Domingos [ *leia* se o Banco Comercial de o Porto , que fora fundado poucos anos antes e detinha autorização para emitir notas ] » .\nCP237-4: Finalmente , o terceiro dia será dedicado a uma reflexão mais profunda sobre essa entidade a que se *chama* Europa -- de o ponto de vista de a sua cultura e de a sua história .\nCP425-5: « As sanções não nos afectarão em este domínio » , disse ainda Kalam , *referindo* se a as penalizações económicas impostas contra a Índia por os EUA , Japão e Canadá .\nCP596-5: A refeição é subitamente interrompida por a aparição de um jipe NIVA 600 de onde saem dois soldados armados -- andar armado em esta região , seja se *civil* ou militar , é medida obrigatória -- com os boletins de voto para o referendo dentro de um grande envelope .\nCP689-1: Uma senhora , porém , que não resistiu a abraçar com algum orgulho o vereador Oliveira Dias , chamando lhe « ex-camarada » ( *recorde* se que Oliveira Dias foi , durante largos anos , o rosto de a CDU em a autarquia portuense ) , abeirou se de Gomes para lhe dizer que os armários que a Câmara instalou em a avenida são exíguos para guardar a mercadoria .\n"
    }
   ],
   "source": [
    "for corpus in corpora:\n",
    "    for filtro in [\"a\"]:\n",
    "        print(\"\\n{} - orações principais com sujeito oculto e se (filtro {}): {}\".format(corpus, filtro, sum([len(x) for x in root_se[corpus][filtro].values()])))\n",
    "        print(\"{} - orações subordinadas com sujeito oculto e se (filtro {}): {}\".format(corpus, filtro, sum([len(x) for x in subordinate_se[corpus][filtro].values()])))\n",
    "\n",
    "for corpus in corpora:\n",
    "    for filtro in [\"a\"]:\n",
    "        i = 0\n",
    "        ii = 0\n",
    "        print(\"\\n=== {} exemplos de se (filtro {}) como filho de oração principal em {} ===\".format(max_examples, filtro, corpus))\n",
    "        for sent_id, tokens in root_se[corpus][filtro].items():\n",
    "            i += len(tokens)\n",
    "            print(sent_id + \": \" + \" \".join([x.word if t not in tokens else \"*\" + x.word + \"*\" for t, x in enumerate(corpora[corpus].sentences[sent_id].tokens) if not '-' in x.id]))\n",
    "            if i >= max_examples:\n",
    "                break\n",
    "        print(\"\\n=== {} exemplos de se (filtro {}) como filho de oração subordinada em {} ===\".format(max_examples, filtro, corpus))\n",
    "        for sent_id, tokens in subordinate_se[corpus][filtro].items():\n",
    "            ii += len(tokens)\n",
    "            print(sent_id + \": \" + \" \".join([x.word if t not in tokens else \"*\" + x.word + \"*\" for t, x in enumerate(corpora[corpus].sentences[sent_id].tokens) if not '-' in x.id]))\n",
    "            if ii >= max_examples:\n",
    "                break"
   ]
  },
  {
   "cell_type": "markdown",
   "metadata": {},
   "source": [
    "# Contagem final"
   ]
  },
  {
   "cell_type": "code",
   "execution_count": 16,
   "metadata": {
    "scrolled": true,
    "tags": []
   },
   "outputs": [
    {
     "output_type": "stream",
     "name": "stdout",
     "text": "\ndhbb - orações principais com sujeito oculto final: 193381 / 480218\ndhbb - orações subordinadas com sujeito oculto final: 188759 / 341133\n\nobras - orações principais com sujeito oculto final: 123302 / 353662\nobras - orações subordinadas com sujeito oculto final: 151364 / 316297\n\nbosque - orações principais com sujeito oculto final: 1476 / 9364\nbosque - orações subordinadas com sujeito oculto final: 2462 / 6842\n\n=== 20 exemplos de sujeito oculto na oração principal em dhbb ===\n2: *Estudou* em o Ginásio Diocesano de São Paulo e bacharelou se em 1910 por a Faculdade de Ciências Jurídicas e Sociais .\n3: Dedicando se a a advocacia , foi *promotor* público em Cunha ( SP ) e depois delegado de polícia em o Rio de Janeiro , então Distrito Federal .\n4: *Iniciou* sua vida política como deputado federal por o Distrito Federal , exercendo o mandato de 1927 a 1929 .\n6: Ligado a o governo federal , *encontrava* se a o lado de o presidente Washington Luís , em o palácio Guanabara , em o momento de sua deposição em o dia 24 de outubro .\n7: Junto com outros companheiros também solidários a o regime deposto e que se haviam asilado em embaixadas e legações , foi *enviado* em novembro para o estrangeiro .\n8: Em outubro de 1932 , estava *presente* em o porto de Alcântara , em Lisboa , para receber os revolucionários constitucionalistas exilados por o governo de Getúlio Vargas após a derrota de a revolução irrompida em julho de esse ano em São Paulo .\n9: Com a redemocratização de o país em 1945 , *candidatou* se por o estado de São Paulo , em a legenda de o Partido Social Democrático ( PSD ) , a as eleições para a Assembléia Nacional Constituinte ( ANC ) realizadas em dezembro de esse ano .\n10: *Obteve* uma suplência e , em julho de 1946 , foi convocado para participar de os trabalhos constituintes .\n11: Com a promulgação de a nova Carta ( 18/9/1946 ) e a transformação de a Constituinte em Congresso ordinário , *integrou* a Comissão Permanente de Obras Públicas de a Câmara Federal , tendo votado em janeiro de 1948 a favor de a cassação de os mandatos de os parlamentares comunistas .\n12: *Deixou* a Câmara em janeiro de 1951 .\n13: Foi ainda *presidente* de a Companhia de Cimento Vale de o Paraíba .\n14: *Faleceu* em o Rio de Janeiro em o dia 17 de maio de 1975 .\n16: Em 1962 *ingressou* , em Recife , em a Faculdade de Ciências Médicas de a Universidade Federal de Pernambuco , por a qual se graduou em 1968 .\n17: Durante o ano seguinte , *frequentou* a residência médica em o Hospital Osvaldo Cruz , também em a capital pernambucana .\n18: Filiando se , em 1982 , a o Partido Democrático Social ( PDS ) , foi *escolhido* para integrar a chapa de o partido como candidato a vice-prefeito de Esperança ( PB ) .\n20: Elegendo se em o pleito de novembro de 1982 , foi *empossado* em o cargo em janeiro de 1983 .\n21: Desligando se de o PDS em 1988 , *permaneceu* como vice-prefeito até janeiro de o ano seguinte .\n22: Em 1989 , *filiou* se a o Partido de o Movimento Democrático Brasileiro ( PMDB ) , em o qual permaneceu até 1990 .\n23: Ingressando , em seguida , em o Partido de a Frente Liberal ( PFL ) , em outubro de este ano *elegeu* se deputado estadual em essa legenda .\n24: Assumindo sua cadeira em a Assembleia Legislativa paraibana em janeiro de 1991 , foi *escolhido* segundo vice-presidente de a mesa de a casa , ocupando essa função até 1992 .\n\n=== 20 exemplos de sujeito oculto na oração subordinada em dhbb ===\n4: Iniciou sua vida política como deputado federal por o Distrito Federal , *exercendo* o mandato de 1927 a 1929 .\n6: *Ligado* a o governo federal , encontrava se a o lado de o presidente Washington Luís , em o palácio Guanabara , em o momento de sua deposição em o dia 24 de outubro .\n8: Em outubro de 1932 , estava presente em o porto de Alcântara , em Lisboa , para *receber* os revolucionários constitucionalistas exilados por o governo de Getúlio Vargas após a derrota de a revolução irrompida em julho de esse ano em São Paulo .\n10: Obteve uma suplência e , em julho de 1946 , foi convocado para *participar* de os trabalhos constituintes .\n11: Com a promulgação de a nova Carta ( 18/9/1946 ) e a transformação de a Constituinte em Congresso ordinário , integrou a Comissão Permanente de Obras Públicas de a Câmara Federal , tendo *votado* em janeiro de 1948 a favor de a cassação de os mandatos de os parlamentares comunistas .\n16: Em 1962 ingressou , em Recife , em a Faculdade de Ciências Médicas de a Universidade Federal de Pernambuco , por a qual se *graduou* em 1968 .\n18: *Filiando* se , em 1982 , a o Partido Democrático Social ( PDS ) , foi escolhido para *integrar* a chapa de o partido como candidato a vice-prefeito de Esperança ( PB ) .\n20: *Elegendo* se em o pleito de novembro de 1982 , foi empossado em o cargo em janeiro de 1983 .\n22: Em 1989 , filiou se a o Partido de o Movimento Democrático Brasileiro ( PMDB ) , em o qual *permaneceu* até 1990 .\n23: *Ingressando* , em seguida , em o Partido de a Frente Liberal ( PFL ) , em outubro de este ano elegeu se deputado estadual em essa legenda .\n24: *Assumindo* sua cadeira em a Assembleia Legislativa paraibana em janeiro de 1991 , foi escolhido segundo vice-presidente de a mesa de a casa , *ocupando* essa função até 1992 .\n25: Em 1993 , retornou a o PMDB , *tornando* se ainda em este ano primeiro vice-presidente de a mesa , cargo que desempenharia até o final de a legislatura .\n26: Em o pleito de outubro de 1994 , elegeu se deputado federal por o PMDB , *tendo* como base eleitoral as regiões de o Brejo Paraibano e de o vale de o Piancó , em o sertão .\n27: *Concluindo* seu mandato em a Assembleia Legislativa paraibana em janeiro de 1995 , assumiu sua cadeira em a Câmara de os\n30: Durante esse seu primeiro ano de mandato , entre as principais matérias votadas em o plenário de a Câmara , Armando Abílio votou a favor de o projeto de emenda constitucional que acabou com o monopólio de os estados em a distribuição de o gás canalizado , de o que *tratava* de a navegação de cabotagem , *permitindo* que as embarcações estrangeiras passassem a operar em o transporte de cargas e passageiros entre portos de o país , de o que *acabou* com o monopólio estatal de as telecomunicações , de o que *acabou* com o monopólio de a Petrobras em a exploração de o petróleo , e de o que prorrogava por 18 meses o Fundo Social de Emergência ( FSE ) , rebatizado de Fundo de Estabilização Fiscal ( FEF ) .\n\n=== 20 exemplos de sujeito oculto na oração principal em obras ===\n3: Em o ano de 17 , Paris , ento muito governado por a Pompadour e um pouco por Luís XV , *palpitava* de entusiasmo com um escândalo original .\n6: Era o *caso* que o famoso pregador La Rose tinha , como todos os anos , de pregar o seu sermão de a Quinta-feira santa em a capela real , e fora acometido por um formidável ataque de asma , justamente em a véspera de esse dia .\n7: *Escreveu* logo a o vigário-geral , seu amigo particular , dando lhe parte de o fato e pedindo lhe que , sem perda de tempo , tratasse de descobrir alguém que o substituísse .\n15: *Davam* se todos por igualmente atacados de a garganta , como se a asma de La Rose , a a semelhança de o que sucedia com o seu estilo oratório , se estendesse de improviso por todos eles , desde o mais pretensioso até a o mínimo de os numerosos pregadores sagrados , que em esse piedoso e alegre tempo enchiam os púlpitos de Paris , com as suas frases retumbantes e com os seus eloqüentes e artísticos soluços .\n25: *Cochichava* se de aqui , cochichava se de ali , bichanava se por todos os cantos e recantos de o palácio , sem nada se resolver que aproveitasse .\n26: E , em o entanto , o tempo *fugia* e era preciso tomar uma resolução .\n28: *Encaminhou* se diretamente para o arcebispo e disse lhe , depois de as reverências de o estilo : -- Comprometo me , se mo permitirem , a apresentar hoje em o púlpito de a capela real alguém que irá dignamente substituir o padre La Rose .\n29: *Fez* se em torno de estas simples palavras um profundo silêncio de pasmo e de desabafo .\n30: *Bastava* só , porém , a presença de frei\n34: De quem *disporia* o singular frade para fazer substituir La Rose ? ...\n35: E *começou* logo o sussurro de os comentários .\n37: Pouco depois , descia frei Ozéas as escadas de o paço , *metia* se em o carro que o esperava a a entrada de o jardim , dizia a o cocheiro que tocasse depressa para o convento de S.\n52: *Fecha* te contigo mesmo e fala como se conversasses com o teu anjo de a guarda .\n53: Abre o teu coração , quando abrires os teus lábios , e deixa de ele sair , imperturbável e cristalina , a tua alma de bem-aventurado . -- Bem , meu pai . -- De aqui a pouco *virá* a roupa com que tens de ir .\n54: Dentro de uma hora *virei* buscar te . -- Estarei pronto , e a as suas ordens , meu pai . -- Reza a Nossa Senhora enquanto me esperas .\n57: E *frei* Ozéas tornou a sair , fechando se de novo sobre ele a porta , silenciosamente .\n61: Até aí *fingiu* se ainda ; de aí em diante ninguém mais procurou ocultar os seus vícios .\n75: Havia feito seus estudos e recebera as primeiras ordens em o seminário de Borgonha , sua província natal ; depois *atirou* se para Paris , onde se ordenou , justamente em o começo de a regência de o duque de Orléans .\n77: *Chegou* a fazer parte de essas ridículas e terríveis sociedades secretas , que infestavam o reinado de Luís XV , centros criados com o fim exclusivo de exercer o gozo , mas o gozo requintado , torturado , burilado a ponta de agulha ; gozo como só se inventou em esse tempo , gozo a a Chambonas e a a Pompadour , de quem ele tirou o estilo complicado e extravagante .\n79: Mas quando Ozéas chegou a os quarenta e cinco a cinqüenta anos , *começou* a cair em si , e por a primeira vez pensou em a perdição de a sua alma , tão comprometida ; e , ou fosse que os requintados prazeres lhe desfibrassem as energias de a carne , ou fosse que uma grande e miraculosa transformação moral se operasse com efeito em todo o seu ser , o fato é que ele , fulminado de súbito por a consciência de os seus pecados sem remissão , desabou em fundo arrependimento e protestou nunca mais , nunca mais , cometer a menor ação que de longe pudesse envergonhar a sua responsabilidade de sacerdote .\n\n=== 20 exemplos de sujeito oculto na oração subordinada em obras ===\n5: Esclapon e de a duquesa de Mazarin , e esquecia se até de *ouvir* as pilhérias de a magra , feia e adorada Guimard , para só *ter* atenção para o novo escândalo que acabava de surgir inesperadamente .\n7: Escreveu logo a o vigário-geral , seu amigo particular , *dando* lhe parte de o fato e pedindo lhe que , sem perda de tempo , *tratasse* de descobrir alguém que o substituísse .\n9: Quem teria a coragem de ir , a a última hora , *substituir* La Rose em o púlpito de a capela real , em um de os sermões mais importantes de a Quaresma ? ...\n12: E era preciso que ele com efeito estivesse deveras doente , para *faltar* a o sermão de Quinta-feira santa , porque La Rose prezava muito os seus triunfos em a tribuna sacra , e não esperdiçaria facilmente uma boa ocasião de orar perante o rei e toda sua corte de fidalgos , e toda a sua corte de letrados .\n13: Entretanto , sabia se também que La Rose , desde que *sentisse* a menor alteração em a voz , não seria *capaz* de falar em público , nem a a mão de Deus Padre , porque era precisamente em a *maneira* especial de jogar com a sua bela e sedutora voz , que consistia o grande segredo de os seus incomparáveis triunfos .\n15: Davam se todos por igualmente atacados de a garganta , como se a asma de La Rose , a a semelhança de o que *sucedia* com o seu estilo oratório , se estendesse de improviso por todos eles , desde o mais pretensioso até a o mínimo de os numerosos pregadores sagrados , que em esse piedoso e alegre tempo enchiam os púlpitos de Paris , com as suas frases retumbantes e com os seus eloqüentes e artísticos soluços .\n18: E se era *devoto* , era também homem de gosto exigente ; não compreendia uma Quinta-feira santa sem sermão , mas não compreendia um sermão de Quinta-feira santa sem La Rose .\n22: Empregaram se os últimos recursos para *descobrir* alguém que , sem grande escândalo , fosse *capaz* de improvisar um sermão digno de a real ressaca ; ofereceram se bonitas somas ; fizeram se as mais lindas promessas .\n23: O cabido inteiro agitou se , remexeu se , sorveu consecutivas pitadas , esfregou mil vezes o lenço encarnado em o nariz , mas ninguém teve coragem para *aceitar* a espinhosa missão .\n24: As salas de o palácio arquiepiscopal pareciam formigueiros ; as batinas esfervilhavam irrequietas , *entrando* e saindo , *trazendo* e levando recados .\n25: Cochichava se de aqui , *cochichava* se de ali , *bichanava* se por todos os cantos e recantos de o palácio , sem nada se resolver que *aproveitasse* .\n27: O arcebispo , já desesperado , ia estender o braço para *tomar* a o acaso o primeiro de os seus sufragâneos , e ordenar lhe que *subisse* a o púlpito e despejasse , com um milhão de raios ! um sermão qualquer , quando de improviso *rasgou* se o reposteiro de a sala , em que ele se achava entre uma negra nuvem de batinas , e viu se surgir a veneranda figura de frei Ozéas , com as suas grandes barbas brancas e a sua enorme calva de profeta .\n\n=== 20 exemplos de sujeito oculto na oração principal em bosque ===\nCF896-2: De os fumantes , 18,1 milhões são *homens* e 12,5 milhões , mulheres .\nCF899-2: Em a sua administração , *executou* um plano viário com largas avenidas interligando os bairros , que provocaram um boom imobiliário .\nCF902-3: Quem não quiser beber durante o jantar , *poderá* levar o champanhe para casa .\nCF904-6: É *o* que confirmam as estatísticas de o Campeonato Brasileiro , encerrado ontem com o novo título palmeirense .\nCF908-4: Diariamente , está *promovendo* desfiles de moda para seus consumidores .\nCF911-1: Era uma *época* em que os cariocas imperavam em campo e fora de ele .\nCF913-4: Vai ter paridade , já desde o começo » , *explicou* .\nCF913-5: Quanto a as tarifas públicas , não serão *fixadas* em URV para evitar reajustes diários , mas terão correções periódicas por o indexador .\nCF913-6: « De o ponto de vista de proteção a o consumidor , vou *reajustar* o preço de a tarifa pública em o dia normal como se ela fosse URV .\nCF913-7: Ou seja , por a média real de os últimos quatro meses » , *disse* .\nCF913-9: Serão *beneficiados* porque hoje demoram até 12 dias para receber seus benefícios , vinculados a o salário mínimo :\nCF916-4: Sustentadas em depoimentos a a PF , foram *confirmadas* em três perícias .\nCF917-4: *Pode* ser condenado a o açoite , como seu compatriota Michael Fay , 18 , preso em a mesma ocasião .\nCF918-1: « Não *damos* conta de atendê los .\nCF919-6: « Se isso acontecer , tem que ser rápido , de o contrário não adianta mais » , *afirmou* .\nCF920-1: *Saiba* quem é Barrichello\nCF923-4: « Foi um *ato* muito rigoroso .\nCF926-2: « *Queremos* dar um visto por dez anos .\nCF926-3: É mais *eficiente* de o que por apenas quatro anos .\nCF926-4: Estamos sendo *forçados* , a o invés , a reduzir o prazo para três meses .\n\n=== 20 exemplos de sujeito oculto na oração subordinada em bosque ===\nCF893-4: Para *construir* o ambiente futurista de o filme , Godard recorreu quase que totalmente a a fotografia .\nCF895-2: O problema é político porque *envolve* , por exemplo , a gratuidade de a educação , de a saúde , de a previdência mínima .\nCF895-3: *Excetuada* a educação básica de primeiro grau , que deve ser gratuita e obrigatória , para todo o resto é preciso discriminar quem pode pagar .\nCF897-1: PF prende dois por *cobrar* ágio\nCF897-3: A PF ( Polícia Federal ) indiciou ontem duas pessoas por *vender* carro com ágio .\nCF900-2: Dallari orientou os produtores a *negociarem* com a indústria .\nCF901-1: Esses aspectos podem ser observados em os relatos de as pacientes : « quando tenho que *arrumar* a casa e não estou com vontade , escuto vozes que me incentivam a começar a tarefa .\nCF901-2: Depois de um tempo , as vozes aumentam e acabo ficando atordoada e não consigo terminar o que *comecei* » .\nCF901-3: Estes problemas não são frequentes em os homens , pois além de *terem* uma possibilidade menor de casarem e terem filhos , esses não são os tipos de papéis socialmente esperados para o sexo masculino .\nCF903-2: « As pessoas estão cansadas de o hype que se *cria* em torno de as roupas , de os estilistas e de o luxo abusivo .\nCF911-3: O torcedor paulista sonhava com uma era futura , em que São Paulo chegaria a a supremacia , se possível de *forma* arrasadora .\nCF911-4: Passaram se uns 50 anos e o sonho se realizou , *trazendo* alegria e também , inesperadamente , frustração .\nCF911-6: Já não há o império de o mal para *combater* .\nCF912-1: O bombeiro suspeita que o golfinho tenha morrido *afogado* .\nCF912-2: Ele teria ficado preso em uma rede de pesca sem condições de *subir* a a tona para *respirar* .\nCF912-3: Os bombeiros pediram ajuda a o Cebimar ( Centro de Biologia Marinha ) de a USP para *apurar* as causas de a morte de o golfinho .\nCF913-2: O governo vai usar a URV para *corrigir* impostos , garantiu FHC .\nCF913-4: Vai *ter* paridade , já desde o começo » , explicou .\nCF913-5: Quanto a as tarifas públicas , não serão fixadas em URV para *evitar* reajustes diários , mas terão correções periódicas por o indexador .\n"
    }
   ],
   "source": [
    "for corpus in corpora:\n",
    "    print(\"\\n{} - orações principais com sujeito oculto final: {} / {}\".format(corpus, sum([len(x) for x in root_without_subject[corpus].values()]), total_deprel[corpus][\"|\".join(root_deprel)]))\n",
    "    print(\"{} - orações subordinadas com sujeito oculto final: {} / {}\".format(corpus, sum([len(x) for x in subordinate_without_subject[corpus].values()]), total_deprel[corpus][\"|\".join(subordinate_deprel)]))\n",
    "\n",
    "for corpus in corpora:\n",
    "    i = 0\n",
    "    ii = 0\n",
    "    print(\"\\n=== {} exemplos de sujeito oculto na oração principal em {} ===\".format(max_examples, corpus))\n",
    "    for sent_id, tokens in root_without_subject[corpus].items():\n",
    "        if len(tokens):\n",
    "            i += len(tokens)\n",
    "            print(sent_id + \": \" + \" \".join([x.word if t not in tokens else \"*\" + x.word + \"*\" for t, x in enumerate(corpora[corpus].sentences[sent_id].tokens) if not '-' in x.id]))\n",
    "            if i >= max_examples:\n",
    "                break\n",
    "    print(\"\\n=== {} exemplos de sujeito oculto na oração subordinada em {} ===\".format(max_examples, corpus))\n",
    "    for sent_id, tokens in subordinate_without_subject[corpus].items():\n",
    "        if len(tokens):\n",
    "            ii += len(tokens)\n",
    "            print(sent_id + \": \" + \" \".join([x.word if t not in tokens else \"*\" + x.word + \"*\" for t, x in enumerate(corpora[corpus].sentences[sent_id].tokens) if not '-' in x.id]))\n",
    "            if ii >= max_examples:\n",
    "                break"
   ]
  },
  {
   "cell_type": "markdown",
   "metadata": {},
   "source": [
    "# Pickle Bosque para posterior reconstituição"
   ]
  },
  {
   "cell_type": "code",
   "execution_count": 17,
   "metadata": {},
   "outputs": [],
   "source": [
    "import pickle\n",
    "\n",
    "for corpus in path:\n",
    "    for sentence in list(root_without_subject[corpus].keys()):\n",
    "        if not root_without_subject[corpus][sentence]:\n",
    "            del root_without_subject[corpus][sentence]\n",
    "        \n",
    "    for sentence in list(subordinate_without_subject[corpus].keys()):\n",
    "        if not subordinate_without_subject[corpus][sentence]:\n",
    "            del subordinate_without_subject[corpus][sentence]\n",
    "\n",
    "    if corpus == \"bosque\":\n",
    "        with open(\"{}_root.p\".format(corpus), \"wb\") as f:\n",
    "            pickle.dump(root_without_subject[corpus], f)\n",
    "        with open(\"{}_subordinate.p\".format(corpus), \"wb\") as f:\n",
    "            pickle.dump(subordinate_without_subject[corpus], f)"
   ]
  },
  {
   "cell_type": "markdown",
   "metadata": {},
   "source": [
    "# Reconstituição"
   ]
  },
  {
   "cell_type": "code",
   "execution_count": 18,
   "metadata": {},
   "outputs": [],
   "source": [
    "import estrutura_ud\n",
    "import pickle\n",
    "\n",
    "with open(\"bosque_root.p\", \"rb\") as f:\n",
    "    root = pickle.load(f)\n",
    "with open(\"bosque_subordinate.p\", \"rb\") as f:\n",
    "    subordinate = pickle.load(f)\n",
    "    \n",
    "len_root = sum([len(root[x]) for x in root])\n",
    "len_subordinate = sum([len(subordinate[x]) for x in subordinate])\n",
    "    \n",
    "bosque = estrutura_ud.Corpus(recursivo=True)\n",
    "bosque.load(\"bosque-ud-2.6.conllu\")\n",
    "\n",
    "dic_pronouns = {\n",
    "    '1Sing': ['eu', 'eu'],\n",
    "    '1SingMale': ['eu', 'eu'],\n",
    "    '1SingFem': ['eu', 'eu'],\n",
    "    '2Sing': ['tu', 'tu'],\n",
    "    '2SingMale': ['tu', 'tu'],\n",
    "    '2SingFem': ['tu', 'tu'],\n",
    "    '3SingMale': ['ele', 'ele'],\n",
    "    '3SingFem': ['ela', 'ela'],\n",
    "    '1Plur': ['nós', 'nós'],\n",
    "    '1PlurMale': ['nós', 'nós'],\n",
    "    '1PlurFem': ['nós', 'nós'],\n",
    "    '2Plur': ['vós', 'vós'],\n",
    "    '2PlurMale': ['vós', 'vós'],\n",
    "    '2PlurFem': ['vós', 'vós'],\n",
    "    '3PlurMale': ['eles', 'eles'],\n",
    "    '3PlurFem': ['elas', 'elas']\n",
    "}\n",
    "\n",
    "bosque.sentences[\"CP493-7\"].tokens[bosque.sentences[\"CP493-7\"].map_token_id[\"26\"]].deprel = \"advcl\"\n",
    "bosque.sentences[\"CP493-7\"].tokens[bosque.sentences[\"CP493-7\"].map_token_id[\"26\"]].dephead = \"13\"            "
   ]
  },
  {
   "cell_type": "code",
   "execution_count": 19,
   "metadata": {},
   "outputs": [],
   "source": [
    "def find_feats(feat, token):\n",
    "    if not feat in token.feats:\n",
    "        return \"\"\n",
    "    return token.feats.split(feat + \"=\")[1].split(\"|\")[0]"
   ]
  },
  {
   "cell_type": "code",
   "execution_count": 20,
   "metadata": {},
   "outputs": [],
   "source": [
    "def insert_phrase(sentence, first_token_id, phrase):\n",
    "    sintagmas_anteriores = []\n",
    "    for t, token in enumerate(sentence.tokens):\n",
    "        if t < sentence.map_token_id[first_token_id]:\n",
    "            if token.dephead == first_token_id and (token.upos == \"ADV\" or (token.lemma == \"se\" and token.upos == \"PRON\") or token.deprel == \"cop\" or token.upos == \"AUX\"):\n",
    "                is_sintagma = True\n",
    "                for _token in sentence.tokens:\n",
    "                    if _token.upos == \"PUNCT\" and _token.dephead == token.id:\n",
    "                        is_sintagma = False\n",
    "                        break\n",
    "                if is_sintagma:\n",
    "                    sintagmas_anteriores.append(sentence.tokens[t].id)\n",
    "    who_head = first_token_id\n",
    "    first_token_id = min(sintagmas_anteriores) if sintagmas_anteriores else first_token_id\n",
    "\n",
    "    for new_token in reversed(phrase):\n",
    "        token = estrutura_ud.Token()\n",
    "        token.build(new_token.to_str())\n",
    "        token.dephead = str(int(token.dephead) - int(token.id) + int(who_head.split(\"-\")[0]))\n",
    "        token.id = first_token_id.split(\"-\")[0]\n",
    "        if first_token_id == \"1\":\n",
    "            if token.word != \"<SUBJ>\":\n",
    "                token.word = token.word.title()\n",
    "            sentence.tokens[0].word = sentence.tokens[0].word.lower()\n",
    "        token.misc = \"|\".join(sorted([x for x in token.misc.split(\"|\") + [\"<SUBJ>\"] if x != \"_\"]))\n",
    "        sentence.tokens.insert(sentence.map_token_id[first_token_id], token)\n",
    "        \n",
    "        t_first_token_id = sentence.map_token_id[first_token_id]\n",
    "        for t, token in enumerate(sentence.tokens):\n",
    "            if t > t_first_token_id:\n",
    "                token.id = str(int(token.id)+1) if not '-' in token.id else str(int(token.id.split(\"-\")[0])+1) + \"-\" + str(int(token.id.split(\"-\")[1])+1)\n",
    "            sentence.map_token_id[token.id] = t\n",
    "        for t, token in enumerate(sentence.tokens):\n",
    "            if token.dephead not in [\"0\", \"_\"] and sentence.map_token_id[token.dephead] >= sentence.map_token_id[first_token_id]:\n",
    "                token.dephead = str(int(token.dephead)+1)\n",
    "        \n",
    "    sentence.refresh_map_token_id()\n",
    "                      \n",
    "    sentence.metadados['text'] = \" \".join([x.word for x in sentence.tokens if not '-' in x.id])\n",
    "    return sentence"
   ]
  },
  {
   "cell_type": "code",
   "execution_count": 21,
   "metadata": {
    "scrolled": true,
    "tags": []
   },
   "outputs": [
    {
     "output_type": "stream",
     "name": "stdout",
     "text": "Reconstituídos: 13 / 1476\n\nCP40-3:\nQuando o povo suíço recusou, em 92, a adesão ao Espaço Económico Europeu, como já fizera com a ONU, cometeu um grave engano.\nQuando o povo suíço recusou , em 92 , a adesão a o Espaço Económico Europeu , como já fizera com a ONU , o povo suíço cometeu um grave engano .\n\nCP88-5:\nSó quando Moniz Pereira lhe surge na frente, se compenetra de que era mesmo verdade.\nSó quando Moniz Pereira lhe surge em a frente , Moniz Pereira se compenetra de que era mesmo verdade .\n\nCP94-5:\nSe os chefes militares, actualmente, despacham com o ministro de 15 em 15 dias, farão o mesmo com o primeiro-ministro e o secretário de Estado governa o Ministério.\nSe os chefes militares , actualmente , despacham com o ministro de 15 em 15 dias , os chefes militares farão o mesmo com o primeiro-ministro e o secretário de Estado governa o Ministério .\n\nCP493-7:\nComo o vírus tem uma propensão para infectar as células humanas, consegue em princípio fazer penetrar o gene dentro das células cancerosas, servindo de «cavalo de Tróia» aos genes p53.\nComo o vírus tem uma propensão para infectar as células humanas , o vírus consegue em princípio fazer penetrar o gene dentro de as células cancerosas , servindo de « cavalo de Tróia » a os genes p53 .\n\nCP505-12:\nQuando, aos 38', Veron decidiu uma pequena pausa em dois passes laterais sem progressão, levou uma monumental assobiadela.\nQuando , a os 38' , Veron decidiu uma pequena pausa em dois passes laterais sem progressão , Veron levou uma monumental assobiadela .\n\nCP716-3:\nComo quem faz avisos à navegação, alerta para um facto:\nComo quem faz avisos a a navegação , quem alerta para um facto :\n\nCP826-6:\n«A chuva serve-nos perfeitamente porque ' esconde ' as diferenças de potência dos motores», regozijou-se, apesar de considerar as condições perigosas:\n« A chuva serve nos perfeitamente porque ' esconde ' as diferenças de potência de os motores » , A chuva regozijou se , apesar de considerar as condições perigosas :\n\nCF8-9:\nSe eu dirigisse uma federação, apresentaria balanços mensais e liberaria minhas contas bancárias.\nSe eu dirigisse uma federação , eu apresentaria balanços mensais e liberaria minhas contas bancárias .\n\nCF427-2:\nSe o jogo terminasse 6 a 0 no primeiro tempo não seria mais que o fiel espelho da partida.\nSe o jogo terminasse 6 a 0 em o primeiro tempo o jogo não seria mais que o fiel espelho de a partida .\n\nCF533-5:\nQuando astronautas embarcarem numa estação orbital ou, eventualmente, estiverem a caminho de Marte, terão como companhia necessária alguns bilhões ou trilhões de micróbios comilões.\nQuando astronautas embarcarem em uma estação orbital ou , eventualmente , estiverem a caminho de Marte , astronautas terão como companhia necessária alguns bilhões ou trilhões de micróbios comilões .\n\nCF579-3:\nPara quem paga, pode não ser um grande negócio ter de pagar mais dinheiro todos os dias.\nPara quem paga , quem pode não ser um grande negócio ter de pagar mais dinheiro todos os dias .\n\nCF579-6:\nSe você tem um pai pão duro, não tenha dúvidas peça a URV na sua mesada.\nSe você tem um pai pão duro , você não tenha dúvidas peça a URV em a sua mesada .\n\nCF743-2:\nQuando a gente se diz engajado, corre o risco de evocar modelos anteriores e o engajamento hoje deve encontrar formas novas.\nQuando a gente se diz engajado , a gente corre o risco de evocar modelos anteriores e o engajamento hoje deve encontrar formas novas .\n"
    }
   ],
   "source": [
    "#ADVCL à esquerda com mesmo PESSNUM (root)\n",
    "reconstituidos = []\n",
    "for sent_id, tokens in list(root.items()):\n",
    "    sentence = bosque.sentences[sent_id]\n",
    "    sentence_qualifies = False\n",
    "    to_add = {}\n",
    "    for t in tokens:\n",
    "        for _t, _token in enumerate(sentence.tokens):\n",
    "            if _token.deprel == \"advcl\" and sentence.tokens[t].id == _token.dephead and _t < t and find_feats(\"Person\", _token) == find_feats(\"Person\", sentence.tokens[t]) and find_feats(\"Number\", _token) == find_feats(\"Number\", sentence.tokens[t]):\n",
    "                for __token in sentence.tokens:\n",
    "                    if __token.deprel in [\"nsubj\", \"csubj\", \"nsubj:pass\"] and __token.dephead == _token.id:\n",
    "                        sentence_qualifies = True\n",
    "                        to_add[t] = []\n",
    "                        for ___token in sentence.tokens:\n",
    "                            if ___token.dephead == __token.id or ___token.id == __token.id:\n",
    "                                to_add[t].append(___token)\n",
    "                        break\n",
    "    \n",
    "    if sentence_qualifies:\n",
    "        for i, t in enumerate(to_add):\n",
    "            bosque.sentences[sent_id] = insert_phrase(bosque.sentences[sent_id], str(int(bosque.sentences[sent_id].tokens[t+i].id)), to_add[t])\n",
    "        del root[sent_id]\n",
    "        reconstituidos.append(sent_id + \":\\n\" + bosque.sentences[sent_id].text + \"\\n\" + bosque.sentences[sent_id].metadados['text'])\n",
    "\n",
    "print(\"Reconstituídos: {} / {}\".format(len(reconstituidos), len_root))\n",
    "print(\"\\n\" + \"\\n\\n\".join(reconstituidos[:20]))"
   ]
  },
  {
   "cell_type": "code",
   "execution_count": 22,
   "metadata": {
    "scrolled": false,
    "tags": []
   },
   "outputs": [
    {
     "output_type": "stream",
     "name": "stdout",
     "text": "Reconstituídos: 3 / 2462\n\nCP636-2:\nOs dirigentes da Fenprof avisam no entanto desde já que se Couto dos Santos insistir nalgumas das directrizes dos seus antecessores arranjará lenha para se queimar.\nOs dirigentes de a Fenprof avisam em o entanto desde já que se Couto de os Santos insistir em algumas de as directrizes de os seus antecessores Couto Santos arranjará lenha para se queimar .\n\nCF619-5:\nCabe perguntar: Se o Supremo não está de acordo com a suposta falta de regra das duas moedas, que existem de fato desde a emissão da última medida provisória, por que não a proclamou imediatamente inconstitucional e se serviu dela privadamente?\nCabe perguntar : Se o Supremo não está de acordo com a suposta falta de regra de as duas moedas , que existem de fato desde a emissão de a última medida provisória , por que o Supremo não a proclamou imediatamente inconstitucional e se serviu de ela privadamente ?\n\nCF740-3:\nNotamos ainda que, quando um passageiro brasileiro se inscreve num programa de milhagem de uma companhia aérea internacional que serve o Brasil, passados 30 dias, recebe a proposta da Iapa.\nNotamos ainda que , quando um passageiro brasileiro se inscreve em um programa de milhagem de uma companhia aérea internacional que serve o Brasil , passados 30 dias , um passageiro brasileiro recebe a proposta de a Iapa .\n"
    }
   ],
   "source": [
    "#ADVCL à esquerda com mesmo PESSNUM (subordinate)\n",
    "reconstituidos = []\n",
    "for sent_id, tokens in list(subordinate.items()):\n",
    "    sentence = bosque.sentences[sent_id]\n",
    "    sentence_qualifies = False\n",
    "    to_add = {}\n",
    "    for t in tokens:\n",
    "        for _t, _token in enumerate(sentence.tokens):\n",
    "            if _token.deprel == \"advcl\" and sentence.tokens[t].id == _token.dephead and _t < t and find_feats(\"Person\", _token) == find_feats(\"Person\", sentence.tokens[t]) and find_feats(\"Number\", _token) == find_feats(\"Number\", sentence.tokens[t]):\n",
    "                for __token in sentence.tokens:\n",
    "                    if __token.deprel in [\"nsubj\", \"csubj\", \"nsubj:pass\"] and __token.dephead == _token.id:\n",
    "                        sentence_qualifies = True\n",
    "                        to_add[t] = []\n",
    "                        for ___token in sentence.tokens:\n",
    "                            if ___token.dephead == __token.id or ___token.id == __token.id:\n",
    "                                to_add[t].append(___token)\n",
    "                        break\n",
    "    \n",
    "    if sentence_qualifies:\n",
    "        for i, t in enumerate(to_add):\n",
    "            bosque.sentences[sent_id] = insert_phrase(bosque.sentences[sent_id], str(int(bosque.sentences[sent_id].tokens[t+i].id)), to_add[t])\n",
    "        del subordinate[sent_id]\n",
    "        reconstituidos.append(sent_id + \":\\n\" + bosque.sentences[sent_id].text + \"\\n\" + bosque.sentences[sent_id].metadados['text'])\n",
    "\n",
    "print(\"Reconstituídos: {} / {}\".format(len(reconstituidos), len_subordinate))\n",
    "print(\"\\n\" + \"\\n\\n\".join(reconstituidos[:20]))"
   ]
  },
  {
   "cell_type": "code",
   "execution_count": 23,
   "metadata": {
    "tags": []
   },
   "outputs": [
    {
     "output_type": "stream",
     "name": "stdout",
     "text": "Reconstituídos: 1463 / 1476\n\nCF896-2:\nDos fumantes, 18,1 milhões são homens e 12,5 milhões, mulheres.\nDe os fumantes , 18,1 milhões <SUBJ> são homens e 12,5 milhões , mulheres .\n\nCF899-2:\nNa sua administração, executou um plano viário com largas avenidas interligando os bairros, que provocaram um boom imobiliário.\nEm a sua administração , <SUBJ> executou um plano viário com largas avenidas interligando os bairros , que provocaram um boom imobiliário .\n\nCF902-3:\nQuem não quiser beber durante o jantar, poderá levar o champanhe para casa.\nQuem não quiser beber durante o jantar , <SUBJ> poderá levar o champanhe para casa .\n\nCF904-6:\nÉ o que confirmam as estatísticas do Campeonato Brasileiro, encerrado ontem com o novo título palmeirense.\n<SUBJ> é o que confirmam as estatísticas de o Campeonato Brasileiro , encerrado ontem com o novo título palmeirense .\n\nCF908-4:\nDiariamente, está promovendo desfiles de moda para seus consumidores.\nDiariamente , <SUBJ> está promovendo desfiles de moda para seus consumidores .\n\nCF911-1:\nEra uma época em que os cariocas imperavam em campo e fora dele.\n<SUBJ> era uma época em que os cariocas imperavam em campo e fora de ele .\n\nCF913-4:\nVai ter paridade, já desde o começo», explicou.\nVai ter paridade , já desde o começo » , <SUBJ> explicou .\n\nCF913-5:\nQuanto às tarifas públicas, não serão fixadas em URV para evitar reajustes diários, mas terão correções periódicas pelo indexador.\nQuanto a as tarifas públicas , <SUBJ> não serão fixadas em URV para evitar reajustes diários , mas terão correções periódicas por o indexador .\n\nCF913-6:\n«Do ponto de vista de proteção ao consumidor, vou reajustar o preço da tarifa pública no dia normal como se ela fosse URV.\n« De o ponto de vista de proteção a o consumidor , eu vou reajustar o preço de a tarifa pública em o dia normal como se ela fosse URV .\n\nCF913-7:\nOu seja, pela média real dos últimos quatro meses», disse.\nOu seja , por a média real de os últimos quatro meses » , <SUBJ> disse .\n\nCF913-9:\nSerão beneficiados porque hoje demoram até 12 dias para receber seus benefícios, vinculados ao salário mínimo:\n<SUBJ> serão beneficiados porque hoje demoram até 12 dias para receber seus benefícios , vinculados a o salário mínimo :\n\nCF916-4:\nSustentadas em depoimentos à PF, foram confirmadas em três perícias.\nSustentadas em depoimentos a a PF , <SUBJ> foram confirmadas em três perícias .\n\nCF917-4:\nPode ser condenado ao açoite, como seu compatriota Michael Fay, 18, preso na mesma ocasião.\n<SUBJ> pode ser condenado a o açoite , como seu compatriota Michael Fay , 18 , preso em a mesma ocasião .\n\nCF918-1:\n«Não damos conta de atendê-los.\n« nós Não damos conta de atendê los .\n\nCF919-6:\n«Se isso acontecer, tem que ser rápido, do contrário não adianta mais», afirmou.\n« Se isso acontecer , tem que ser rápido , de o contrário não adianta mais » , <SUBJ> afirmou .\n\nCF920-1:\nSaiba quem é Barrichello\nTu saiba quem é Barrichello\n\nCF923-4:\n«Foi um ato muito rigoroso.\n« <SUBJ> Foi um ato muito rigoroso .\n\nCF926-2:\n«Queremos dar um visto por dez anos.\n« nós Queremos dar um visto por dez anos .\n\nCF926-3:\nÉ mais eficiente do que por apenas quatro anos.\n<SUBJ> é mais eficiente de o que por apenas quatro anos .\n\nCF926-4:\nEstamos sendo forçados, ao invés, a reduzir o prazo para três meses.\nNós estamos sendo forçados , a o invés , a reduzir o prazo para três meses .\n"
    }
   ],
   "source": [
    "#DESINÊNCIA (root)\n",
    "reconstituidos = []\n",
    "for sent_id, tokens in list(root.items()):\n",
    "    sentence = bosque.sentences[sent_id]\n",
    "    to_add = {}\n",
    "    for i, t in enumerate(tokens):\n",
    "        has_aux = False\n",
    "        for _t, _token in enumerate(sentence.tokens):\n",
    "            if _token.dephead == sentence.tokens[t].id and _token.upos == \"AUX\":\n",
    "                person = find_feats(\"Person\", sentence.tokens[_t])\n",
    "                number = find_feats(\"Number\", sentence.tokens[_t])\n",
    "                gender = find_feats(\"Gender\", sentence.tokens[_t])\n",
    "                has_aux = True\n",
    "                break\n",
    "        if not has_aux:\n",
    "            person = find_feats(\"Person\", sentence.tokens[t])\n",
    "            number = find_feats(\"Number\", sentence.tokens[t])\n",
    "            gender = find_feats(\"Gender\", sentence.tokens[t])\n",
    "        feats = []\n",
    "        if person:\n",
    "            feats.append(\"Person=\" + person)\n",
    "        if number:\n",
    "            feats.append(\"Number=\" + number)\n",
    "        if gender:\n",
    "            feats.append(\"Gender=\" + gender)\n",
    "        feats = \"|\".join(sorted(feats)) if feats else \"_\"\n",
    "        pronoun = person + number + gender\n",
    "        if pronoun in dic_pronouns:\n",
    "            pronoun = [\"1\", dic_pronouns[pronoun][0], dic_pronouns[pronoun][1], 'PRON', '_', feats, \"1\", 'nsubj', '_', '_']\n",
    "        else:\n",
    "            pronoun = [\"1\", \"<SUBJ>\", \"<SUBJ>\", \"NOUN\", \"_\", feats, \"1\", \"nsubj\", \"_\", \"_\"]\n",
    "        new_token = estrutura_ud.Token()\n",
    "        new_token.build(\"\\t\".join(pronoun))\n",
    "    \n",
    "        bosque.sentences[sent_id] = insert_phrase(bosque.sentences[sent_id], str(int(bosque.sentences[sent_id].tokens[t+i].id)), [new_token])\n",
    "    del root[sent_id]\n",
    "    reconstituidos.append(sent_id + \":\\n\" + bosque.sentences[sent_id].text + \"\\n\" + bosque.sentences[sent_id].metadados['text'])\n",
    "\n",
    "print(\"Reconstituídos: {} / {}\".format(len(reconstituidos), len_root))\n",
    "print(\"\\n\" + \"\\n\\n\".join(reconstituidos[:20]))"
   ]
  },
  {
   "cell_type": "code",
   "execution_count": 24,
   "metadata": {
    "tags": []
   },
   "outputs": [
    {
     "output_type": "stream",
     "name": "stdout",
     "text": "Reconstituídos: 2027 / 2462\n\nCF893-4:\nPara construir o ambiente futurista do filme, Godard recorreu quase que totalmente à fotografia.\nPara <SUBJ> construir o ambiente futurista de o filme , Godard recorreu quase que totalmente a a fotografia .\n\nCF895-2:\nO problema é político porque envolve, por exemplo, a gratuidade da educação, da saúde, da previdência mínima.\nO problema é político porque <SUBJ> envolve , por exemplo , a gratuidade de a educação , de a saúde , de a previdência mínima .\n\nCF895-3:\nExcetuada a educação básica de primeiro grau, que deve ser gratuita e obrigatória, para todo o resto é preciso discriminar quem pode pagar.\n<SUBJ> excetuada a educação básica de primeiro grau , que deve ser gratuita e obrigatória , para todo o resto é preciso discriminar quem pode pagar .\n\nCF897-1:\nPF prende dois por cobrar ágio\nPF prende dois por <SUBJ> cobrar ágio\n\nCF897-3:\nA PF (Polícia Federal) indiciou ontem duas pessoas por vender carro com ágio.\nA PF ( Polícia Federal ) indiciou ontem duas pessoas por <SUBJ> vender carro com ágio .\n\nCF900-2:\nDallari orientou os produtores a negociarem com a indústria.\nDallari orientou os produtores a <SUBJ> negociarem com a indústria .\n\nCF901-1:\nEsses aspectos podem ser observados nos relatos das pacientes: «quando tenho que arrumar a casa e não estou com vontade, escuto vozes que me incentivam a começar a tarefa.\nEsses aspectos podem ser observados em os relatos de as pacientes : « eu quando tenho que arrumar a casa e não estou com vontade , escuto vozes que me incentivam a começar a tarefa .\n\nCF901-2:\nDepois de um tempo, as vozes aumentam e acabo ficando atordoada e não consigo terminar o que comecei».\nDepois de um tempo , as vozes aumentam e acabo ficando atordoada e não consigo terminar o que eu comecei » .\n\nCF901-3:\nEstes problemas não são frequentes nos homens, pois além de terem uma possibilidade menor de casarem e terem filhos, esses não são os tipos de papéis socialmente esperados para o sexo masculino.\nEstes problemas não são frequentes em os homens , pois <SUBJ> além de terem uma possibilidade menor de casarem e terem filhos , esses não são os tipos de papéis socialmente esperados para o sexo masculino .\n\nCF903-2:\n«As pessoas estão cansadas do hype que se cria em torno das roupas, dos estilistas e do luxo abusivo.\n« As pessoas estão cansadas de o hype que <SUBJ> se cria em torno de as roupas , de os estilistas e de o luxo abusivo .\n\nCF911-3:\nO torcedor paulista sonhava com uma era futura, em que São Paulo chegaria à supremacia, se possível de forma arrasadora.\nO torcedor paulista sonhava com uma era futura , em que São Paulo chegaria a a supremacia , se possível de <SUBJ> forma arrasadora .\n\nCF911-4:\nPassaram-se uns 50 anos e o sonho se realizou, trazendo alegria e também, inesperadamente, frustração.\nPassaram se uns 50 anos e o sonho se realizou , <SUBJ> trazendo alegria e também , inesperadamente , frustração .\n\nCF911-6:\nJá não há o império do mal para combater.\nJá não há o império de o mal para <SUBJ> combater .\n\nCF912-1:\nO bombeiro suspeita que o golfinho tenha morrido afogado.\nO bombeiro suspeita que o golfinho tenha morrido <SUBJ> afogado .\n\nCF912-2:\nEle teria ficado preso em uma rede de pesca sem condições de subir à tona para respirar.\nEle teria ficado preso em uma rede de pesca sem condições de <SUBJ> subir a a tona para <SUBJ> respirar .\n\nCF912-3:\nOs bombeiros pediram ajuda ao Cebimar (Centro de Biologia Marinha) da USP para apurar as causas da morte do golfinho.\nOs bombeiros pediram ajuda a o Cebimar ( Centro de Biologia Marinha ) de a USP para <SUBJ> apurar as causas de a morte de o golfinho .\n\nCF913-2:\nO governo vai usar a URV para corrigir impostos, garantiu FHC.\nO governo vai usar a URV para <SUBJ> corrigir impostos , garantiu FHC .\n\nCF913-4:\nVai ter paridade, já desde o começo», explicou.\n<SUBJ> vai ter paridade , já desde o começo » , <SUBJ> explicou .\n\nCF913-5:\nQuanto às tarifas públicas, não serão fixadas em URV para evitar reajustes diários, mas terão correções periódicas pelo indexador.\nQuanto a as tarifas públicas , <SUBJ> não serão fixadas em URV <SUBJ> para evitar reajustes diários , mas terão correções periódicas por o indexador .\n\nCF913-9:\nSerão beneficiados porque hoje demoram até 12 dias para receber seus benefícios, vinculados ao salário mínimo:\n<SUBJ> serão beneficiados porque <SUBJ> hoje demoram até 12 dias <SUBJ> para receber seus benefícios , vinculados a o salário mínimo :\n"
    }
   ],
   "source": [
    "#DESINÊNCIA (subordinate)\n",
    "reconstituidos = []\n",
    "for sent_id, tokens in list(subordinate.items()):\n",
    "    sentence = bosque.sentences[sent_id]\n",
    "    to_add = {}\n",
    "    for i, t in enumerate(tokens):\n",
    "        has_aux = False\n",
    "        for _t, _token in enumerate(sentence.tokens):\n",
    "            if _token.dephead == sentence.tokens[t].id and _token.upos == \"AUX\":\n",
    "                person = find_feats(\"Person\", sentence.tokens[_t])\n",
    "                number = find_feats(\"Number\", sentence.tokens[_t])\n",
    "                gender = find_feats(\"Gender\", sentence.tokens[_t])\n",
    "                has_aux = True\n",
    "                break\n",
    "        if not has_aux:\n",
    "            person = find_feats(\"Person\", sentence.tokens[t])\n",
    "            number = find_feats(\"Number\", sentence.tokens[t])\n",
    "            gender = find_feats(\"Gender\", sentence.tokens[t])\n",
    "        feats = []\n",
    "        if person:\n",
    "            feats.append(\"Person=\" + person)\n",
    "        if number:\n",
    "            feats.append(\"Number=\" + number)\n",
    "        if gender:\n",
    "            feats.append(\"Gender=\" + gender)\n",
    "        feats = \"|\".join(sorted(feats)) if feats else \"_\"\n",
    "        pronoun = person + number + gender\n",
    "        if pronoun in dic_pronouns:\n",
    "            pronoun = [\"1\", dic_pronouns[pronoun][0], dic_pronouns[pronoun][1], 'PRON', '_', feats, \"1\", 'nsubj', '_', '_']\n",
    "        else:\n",
    "            pronoun = [\"1\", \"<SUBJ>\", \"<SUBJ>\", \"NOUN\", \"_\", feats, \"1\", \"nsubj\", \"_\", \"_\"]\n",
    "        new_token = estrutura_ud.Token()\n",
    "        new_token.build(\"\\t\".join(pronoun)) \n",
    "\n",
    "        bosque.sentences[sent_id] = insert_phrase(bosque.sentences[sent_id], bosque.sentences[sent_id].tokens[t+i].id, [new_token])\n",
    "    del subordinate[sent_id]\n",
    "    reconstituidos.append(sent_id + \":\\n\" + bosque.sentences[sent_id].text + \"\\n\" + bosque.sentences[sent_id].metadados['text'])\n",
    "\n",
    "print(\"Reconstituídos: {} / {}\".format(len(reconstituidos), len_subordinate))\n",
    "print(\"\\n\" + \"\\n\\n\".join(reconstituidos[:20]))"
   ]
  },
  {
   "cell_type": "code",
   "execution_count": 25,
   "metadata": {},
   "outputs": [],
   "source": [
    "# Salvar modificado\n",
    "bosque.save(\"bosque-ud-2.6-desocultado.conllu\")"
   ]
  },
  {
   "source": [
    "# Avaliação"
   ],
   "cell_type": "markdown",
   "metadata": {}
  },
  {
   "cell_type": "markdown",
   "metadata": {},
   "source": [
    "# Debugagem"
   ]
  },
  {
   "cell_type": "code",
   "execution_count": null,
   "metadata": {},
   "outputs": [],
   "source": [
    "print(corpora['obras'].sentences[\"540\"].to_str())"
   ]
  },
  {
   "cell_type": "code",
   "execution_count": null,
   "metadata": {},
   "outputs": [],
   "source": [
    "#root_nominals[\"obras\"]\n",
    "root_without_subject[\"obras\"]"
   ]
  },
  {
   "cell_type": "code",
   "execution_count": null,
   "metadata": {},
   "outputs": [],
   "source": []
  }
 ],
 "metadata": {
  "kernelspec": {
   "display_name": "Python 3",
   "language": "python",
   "name": "python3"
  },
  "language_info": {
   "codemirror_mode": {
    "name": "ipython",
    "version": 3
   },
   "file_extension": ".py",
   "mimetype": "text/x-python",
   "name": "python",
   "nbconvert_exporter": "python",
   "pygments_lexer": "ipython3",
   "version": "3.6.9-final"
  }
 },
 "nbformat": 4,
 "nbformat_minor": 4
}