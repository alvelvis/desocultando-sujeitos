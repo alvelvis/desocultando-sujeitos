{
 "cells": [
  {
   "cell_type": "code",
   "execution_count": null,
   "metadata": {},
   "outputs": [],
   "source": [
    "! ./udpipe-1.2.0 --tokenize --tag --parse bosque-ud-2.6.udpipe dhbb.raw > dhbb.conllu\n",
    "! ./udpipe-1.2.0 --tokenize --tag --parse bosque-ud-2.6.udpipe obras.raw > obras.conllu"
   ]
  },
  {
   "cell_type": "code",
   "execution_count": null,
   "metadata": {},
   "outputs": [],
   "source": [
    "import resource\n",
    "gb = 10**6\n",
    "resource.setrlimit(resource.RLIMIT_AS, (8*gb,-1))"
   ]
  },
  {
   "cell_type": "code",
   "execution_count": 1,
   "metadata": {},
   "outputs": [],
   "source": [
    "# Definindo variáveis iniciais\n",
    "import estrutura_ud\n",
    "import os\n",
    "\n",
    "root_deprel = [\"root\"]\n",
    "subordinate_deprel = [\"acl:relcl\", \"ccomp\", \"advcl\"]\n",
    "max_examples = 20\n",
    "\n",
    "path = {\n",
    "    'bosque': \"bosque-ud-2.6.conllu\",\n",
    "    'dhbb': \"dhbb.conllu\",\n",
    "    \"obras\": \"obras.conllu\"\n",
    "}"
   ]
  },
  {
   "cell_type": "code",
   "execution_count": 2,
   "metadata": {},
   "outputs": [
    {
     "output_type": "stream",
     "name": "stdout",
     "text": [
      "bosque ok\n",
      "dhbb ok\n",
      "obras ok\n"
     ]
    }
   ],
   "source": [
    "# Carregamento dos corpora (demora muito!)\n",
    "bosque = estrutura_ud.Corpus(recursivo=True)\n",
    "dhbb = estrutura_ud.Corpus(recursivo=True)\n",
    "obras = estrutura_ud.Corpus(recursivo=True)\n",
    "bosque.load(path[\"bosque\"])\n",
    "print(\"bosque ok\")\n",
    "dhbb.load(path[\"dhbb\"])\n",
    "print(\"dhbb ok\")\n",
    "obras.load(path[\"obras\"])\n",
    "print(\"obras ok\")\n",
    "\n",
    "corpora = {\n",
    "    'dhbb': dhbb,\n",
    "    'obras': obras,\n",
    "    'bosque': bosque\n",
    "}"
   ]
  },
  {
   "cell_type": "code",
   "execution_count": 3,
   "metadata": {
    "tags": []
   },
   "outputs": [
    {
     "output_type": "stream",
     "name": "stdout",
     "text": [
      "{'dhbb': {'size': 960964.294921875, 'n_tokens': 16037286, 'n_sentences': 480218}, 'obras': {'size': 480188.513671875, 'n_tokens': 7863261, 'n_sentences': 353662}, 'bosque': {'size': 14846.041015625, 'n_tokens': 227825, 'n_sentences': 9364}}\n"
     ]
    }
   ],
   "source": [
    "# Estatísticas dos corpora\n",
    "stats_corpora = {}\n",
    "for corpus in corpora:\n",
    "    stats_corpora[corpus] = {\n",
    "        \"size\": os.path.getsize(path[corpus])/1024, \n",
    "        \"n_tokens\": 0, \n",
    "        \"n_sentences\": 0,\n",
    "    }\n",
    "    \n",
    "for corpus in corpora:\n",
    "    for sentence in corpora[corpus].sentences.values():\n",
    "        stats_corpora[corpus]['n_sentences'] += 1\n",
    "        for token in sentence.tokens:\n",
    "            if not '-' in token.id:\n",
    "                stats_corpora[corpus]['n_tokens'] += 1\n",
    "    \n",
    "print(stats_corpora)"
   ]
  },
  {
   "cell_type": "code",
   "execution_count": 4,
   "metadata": {
    "tags": []
   },
   "outputs": [
    {
     "output_type": "stream",
     "name": "stdout",
     "text": [
      "{'dhbb': {'root': 480218, 'acl:relcl|ccomp|advcl': 341133}, 'obras': {'root': 353662, 'acl:relcl|ccomp|advcl': 316297}, 'bosque': {'root': 9364, 'acl:relcl|ccomp|advcl': 6842}}\n"
     ]
    }
   ],
   "source": [
    "# Números de orações\n",
    "total_deprel = {}\n",
    "for corpus in corpora:\n",
    "    total_deprel[corpus] = {\n",
    "        \"|\".join(root_deprel): 0,\n",
    "        \"|\".join(subordinate_deprel): 0\n",
    "    }\n",
    "    for sentence in corpora[corpus].sentences.values():\n",
    "        for token in sentence.tokens:\n",
    "            if token.deprel in root_deprel:\n",
    "                total_deprel[corpus][\"|\".join(root_deprel)] += 1\n",
    "            if token.deprel in subordinate_deprel:\n",
    "                total_deprel[corpus][\"|\".join(subordinate_deprel)] += 1\n",
    "print(total_deprel)"
   ]
  },
  {
   "cell_type": "markdown",
   "metadata": {},
   "source": [
    "# Busca ingênua tanto em root quanto em subordinada"
   ]
  },
  {
   "cell_type": "code",
   "execution_count": 5,
   "metadata": {},
   "outputs": [],
   "source": [
    "def find_clause_without_subject(sentences, deprel_list):\n",
    "    clauses_without_subject = {}\n",
    "    for sent_id, sentence in sentences.items():\n",
    "        for t, token in enumerate(sentence.tokens):\n",
    "            if token.deprel in deprel_list:\n",
    "                has_subj = False\n",
    "                for _token in sentence.tokens:\n",
    "                    if _token.dephead == token.id and _token.deprel in [\"nsubj\", \"csubj\", \"nsubj:pass\"]:\n",
    "                        has_subj = True\n",
    "                        break\n",
    "                if not has_subj:\n",
    "                    if not sent_id in clauses_without_subject:\n",
    "                        clauses_without_subject[sent_id] = []\n",
    "                    clauses_without_subject[sent_id].append(t)\n",
    "    return clauses_without_subject\n",
    "\n",
    "root_without_subject = {}\n",
    "subordinate_without_subject = {}\n",
    "for corpus in corpora:\n",
    "    root_without_subject[corpus] = find_clause_without_subject(corpora[corpus].sentences, root_deprel)\n",
    "    subordinate_without_subject[corpus] = find_clause_without_subject(corpora[corpus].sentences, subordinate_deprel)"
   ]
  },
  {
   "cell_type": "code",
   "execution_count": 6,
   "metadata": {
    "tags": []
   },
   "outputs": [
    {
     "output_type": "stream",
     "name": "stdout",
     "text": [
      "\n",
      "dhbb - orações principais com sujeito oculto ingênuo: 226122 / 480218\n",
      "dhbb - orações subordinadas com sujeito oculto ingênuo: 190381 / 341133\n",
      "\n",
      "obras - orações principais com sujeito oculto ingênuo: 172124 / 353662\n",
      "obras - orações subordinadas com sujeito oculto ingênuo: 156040 / 316297\n",
      "\n",
      "bosque - orações principais com sujeito oculto ingênuo: 2777 / 9364\n",
      "bosque - orações subordinadas com sujeito oculto ingênuo: 2617 / 6842\n",
      "\n",
      "=== 20 exemplos de sujeito oculto na oração principal em dhbb ===\n",
      "2: *Estudou* em o Ginásio Diocesano de São Paulo e bacharelou se em 1910 por a Faculdade de Ciências Jurídicas e Sociais .\n",
      "3: Dedicando se a a advocacia , foi *promotor* público em Cunha ( SP ) e depois delegado de polícia em o Rio de Janeiro , então Distrito Federal .\n",
      "4: *Iniciou* sua vida política como deputado federal por o Distrito Federal , exercendo o mandato de 1927 a 1929 .\n",
      "6: Ligado a o governo federal , *encontrava* se a o lado de o presidente Washington Luís , em o palácio Guanabara , em o momento de sua deposição em o dia 24 de outubro .\n",
      "7: Junto com outros companheiros também solidários a o regime deposto e que se haviam asilado em embaixadas e legações , foi *enviado* em novembro para o estrangeiro .\n",
      "8: Em outubro de 1932 , estava *presente* em o porto de Alcântara , em Lisboa , para receber os revolucionários constitucionalistas exilados por o governo de Getúlio Vargas após a derrota de a revolução irrompida em julho de esse ano em São Paulo .\n",
      "9: Com a redemocratização de o país em 1945 , *candidatou* se por o estado de São Paulo , em a legenda de o Partido Social Democrático ( PSD ) , a as eleições para a Assembléia Nacional Constituinte ( ANC ) realizadas em dezembro de esse ano .\n",
      "10: *Obteve* uma suplência e , em julho de 1946 , foi convocado para participar de os trabalhos constituintes .\n",
      "11: Com a promulgação de a nova Carta ( 18/9/1946 ) e a transformação de a Constituinte em Congresso ordinário , *integrou* a Comissão Permanente de Obras Públicas de a Câmara Federal , tendo votado em janeiro de 1948 a favor de a cassação de os mandatos de os parlamentares comunistas .\n",
      "12: *Deixou* a Câmara em janeiro de 1951 .\n",
      "13: Foi ainda *presidente* de a Companhia de Cimento Vale de o Paraíba .\n",
      "14: *Faleceu* em o Rio de Janeiro em o dia 17 de maio de 1975 .\n",
      "16: Em 1962 *ingressou* , em Recife , em a Faculdade de Ciências Médicas de a Universidade Federal de Pernambuco , por a qual se graduou em 1968 .\n",
      "17: Durante o ano seguinte , *frequentou* a residência médica em o Hospital Osvaldo Cruz , também em a capital pernambucana .\n",
      "18: Filiando se , em 1982 , a o Partido Democrático Social ( PDS ) , foi *escolhido* para integrar a chapa de o partido como candidato a vice-prefeito de Esperança ( PB ) .\n",
      "20: Elegendo se em o pleito de novembro de 1982 , foi *empossado* em o cargo em janeiro de 1983 .\n",
      "21: Desligando se de o PDS em 1988 , *permaneceu* como vice-prefeito até janeiro de o ano seguinte .\n",
      "22: Em 1989 , *filiou* se a o Partido de o Movimento Democrático Brasileiro ( PMDB ) , em o qual permaneceu até 1990 .\n",
      "23: Ingressando , em seguida , em o Partido de a Frente Liberal ( PFL ) , em outubro de este ano *elegeu* se deputado estadual em essa legenda .\n",
      "24: Assumindo sua cadeira em a Assembleia Legislativa paraibana em janeiro de 1991 , foi *escolhido* segundo vice-presidente de a mesa de a casa , ocupando essa função até 1992 .\n",
      "\n",
      "=== 20 exemplos de sujeito oculto na oração subordinada em dhbb ===\n",
      "4: Iniciou sua vida política como deputado federal por o Distrito Federal , *exercendo* o mandato de 1927 a 1929 .\n",
      "6: *Ligado* a o governo federal , encontrava se a o lado de o presidente Washington Luís , em o palácio Guanabara , em o momento de sua deposição em o dia 24 de outubro .\n",
      "8: Em outubro de 1932 , estava presente em o porto de Alcântara , em Lisboa , para *receber* os revolucionários constitucionalistas exilados por o governo de Getúlio Vargas após a derrota de a revolução irrompida em julho de esse ano em São Paulo .\n",
      "10: Obteve uma suplência e , em julho de 1946 , foi convocado para *participar* de os trabalhos constituintes .\n",
      "11: Com a promulgação de a nova Carta ( 18/9/1946 ) e a transformação de a Constituinte em Congresso ordinário , integrou a Comissão Permanente de Obras Públicas de a Câmara Federal , tendo *votado* em janeiro de 1948 a favor de a cassação de os mandatos de os parlamentares comunistas .\n",
      "16: Em 1962 ingressou , em Recife , em a Faculdade de Ciências Médicas de a Universidade Federal de Pernambuco , por a qual se *graduou* em 1968 .\n",
      "18: *Filiando* se , em 1982 , a o Partido Democrático Social ( PDS ) , foi escolhido para *integrar* a chapa de o partido como candidato a vice-prefeito de Esperança ( PB ) .\n",
      "20: *Elegendo* se em o pleito de novembro de 1982 , foi empossado em o cargo em janeiro de 1983 .\n",
      "21: *Desligando* se de o PDS em 1988 , permaneceu como vice-prefeito até janeiro de o ano seguinte .\n",
      "22: Em 1989 , filiou se a o Partido de o Movimento Democrático Brasileiro ( PMDB ) , em o qual *permaneceu* até 1990 .\n",
      "23: *Ingressando* , em seguida , em o Partido de a Frente Liberal ( PFL ) , em outubro de este ano elegeu se deputado estadual em essa legenda .\n",
      "24: *Assumindo* sua cadeira em a Assembleia Legislativa paraibana em janeiro de 1991 , foi escolhido segundo vice-presidente de a mesa de a casa , *ocupando* essa função até 1992 .\n",
      "25: Em 1993 , retornou a o PMDB , *tornando* se ainda em este ano primeiro vice-presidente de a mesa , cargo que desempenharia até o final de a legislatura .\n",
      "26: Em o pleito de outubro de 1994 , elegeu se deputado federal por o PMDB , *tendo* como base eleitoral as regiões de o Brejo Paraibano e de o vale de o Piancó , em o sertão .\n",
      "27: *Concluindo* seu mandato em a Assembleia Legislativa paraibana em janeiro de 1995 , assumiu sua cadeira em a Câmara de os\n",
      "30: Durante esse seu primeiro ano de mandato , entre as principais matérias votadas em o plenário de a Câmara , Armando Abílio votou a favor de o projeto de emenda constitucional que acabou com o monopólio de os estados em a distribuição de o gás canalizado , de o que *tratava* de a navegação de cabotagem , *permitindo* que as embarcações estrangeiras passassem a operar em o transporte de cargas e passageiros entre portos de o país , de o que *acabou* com o monopólio estatal de as telecomunicações , de o que *acabou* com o monopólio de a Petrobras em a exploração de o petróleo , e de o que prorrogava por 18 meses o Fundo Social de Emergência ( FSE ) , rebatizado de Fundo de Estabilização Fiscal ( FEF ) .\n",
      "\n",
      "=== 20 exemplos de sujeito oculto na oração principal em obras ===\n",
      "1: A *MORTALHA* DE ALZIRA Aluísio de Azevedo\n",
      "2: A *cela* misteriosa\n",
      "3: Em o ano de 17 , Paris , ento muito governado por a Pompadour e um pouco por Luís XV , *palpitava* de entusiasmo com um escândalo original .\n",
      "6: Era o *caso* que o famoso pregador La Rose tinha , como todos os anos , de pregar o seu sermão de a Quinta-feira santa em a capela real , e fora acometido por um formidável ataque de asma , justamente em a véspera de esse dia .\n",
      "7: *Escreveu* logo a o vigário-geral , seu amigo particular , dando lhe parte de o fato e pedindo lhe que , sem perda de tempo , tratasse de descobrir alguém que o substituísse .\n",
      "10: *Substituir* La Rose ! ...\n",
      "15: *Davam* se todos por igualmente atacados de a garganta , como se a asma de La Rose , a a semelhança de o que sucedia com o seu estilo oratório , se estendesse de improviso por todos eles , desde o mais pretensioso até a o mínimo de os numerosos pregadores sagrados , que em esse piedoso e alegre tempo enchiam os púlpitos de Paris , com as suas frases retumbantes e com os seus eloqüentes e artísticos soluços .\n",
      "20: Que *diabo* !\n",
      "25: *Cochichava* se de aqui , cochichava se de ali , bichanava se por todos os cantos e recantos de o palácio , sem nada se resolver que aproveitasse .\n",
      "26: E , em o entanto , o tempo *fugia* e era preciso tomar uma resolução .\n",
      "28: *Encaminhou* se diretamente para o arcebispo e disse lhe , depois de as reverências de o estilo : -- Comprometo me , se mo permitirem , a apresentar hoje em o púlpito de a capela real alguém que irá dignamente substituir o padre La Rose .\n",
      "29: *Fez* se em torno de estas simples palavras um profundo silêncio de pasmo e de desabafo .\n",
      "30: *Bastava* só , porém , a presença de frei\n",
      "33: *Havia* vinte e tantos anos que em torno de ele se formara , de dia para dia , a mais sólida reputação de virtude e santidade .\n",
      "34: De quem *disporia* o singular frade para fazer substituir La Rose ? ...\n",
      "35: E *começou* logo o sussurro de os comentários .\n",
      "37: Pouco depois , descia frei Ozéas as escadas de o paço , *metia* se em o carro que o esperava a a entrada de o jardim , dizia a o cocheiro que tocasse depressa para o convento de S.\n",
      "44: Em uma de elas *havia* um grande nicho com a imagem de a Virgem de a Conceição , quase de tamanho natural ; a um de os cantos , uma negra estante , toscamente feita , pejada de grossos alfarrábios amarelecidos por o tempo ; em o centro , uma mesa de madeira escura com um breviário em cima , a o lado de uma candeia de azeite , um pedaço de pão duro e um cilício cru ; junto a a mesa , um banco de pau .\n",
      "46: Não *havia* mais ninguém em a cela .\n",
      "49: Para quê , meu *pai* ? -- Para pregar o sermão de Quinta-feira santa . --\n",
      "\n",
      "=== 20 exemplos de sujeito oculto na oração subordinada em obras ===\n",
      "5: Esclapon e de a duquesa de Mazarin , e esquecia se até de *ouvir* as pilhérias de a magra , feia e adorada Guimard , para só *ter* atenção para o novo escândalo que acabava de surgir inesperadamente .\n",
      "7: Escreveu logo a o vigário-geral , seu amigo particular , *dando* lhe parte de o fato e pedindo lhe que , sem perda de tempo , *tratasse* de descobrir alguém que o substituísse .\n",
      "9: Quem teria a coragem de ir , a a última hora , *substituir* La Rose em o púlpito de a capela real , em um de os sermões mais importantes de a Quaresma ? ...\n",
      "12: E era preciso que ele com efeito estivesse deveras doente , para *faltar* a o sermão de Quinta-feira santa , porque La Rose prezava muito os seus triunfos em a tribuna sacra , e não esperdiçaria facilmente uma boa ocasião de orar perante o rei e toda sua corte de fidalgos , e toda a sua corte de letrados .\n",
      "13: Entretanto , sabia se também que La Rose , desde que *sentisse* a menor alteração em a voz , não seria *capaz* de falar em público , nem a a mão de Deus Padre , porque era precisamente em a *maneira* especial de jogar com a sua bela e sedutora voz , que consistia o grande segredo de os seus incomparáveis triunfos .\n",
      "15: Davam se todos por igualmente atacados de a garganta , como se a asma de La Rose , a a semelhança de o que *sucedia* com o seu estilo oratório , se estendesse de improviso por todos eles , desde o mais pretensioso até a o mínimo de os numerosos pregadores sagrados , que em esse piedoso e alegre tempo enchiam os púlpitos de Paris , com as suas frases retumbantes e com os seus eloqüentes e artísticos soluços .\n",
      "18: E se era *devoto* , era também homem de gosto exigente ; não compreendia uma Quinta-feira santa sem sermão , mas não compreendia um sermão de Quinta-feira santa sem La Rose .\n",
      "22: Empregaram se os últimos recursos para *descobrir* alguém que , sem grande escândalo , fosse *capaz* de improvisar um sermão digno de a real ressaca ; ofereceram se bonitas somas ; fizeram se as mais lindas promessas .\n",
      "23: O cabido inteiro agitou se , remexeu se , sorveu consecutivas pitadas , esfregou mil vezes o lenço encarnado em o nariz , mas ninguém teve coragem para *aceitar* a espinhosa missão .\n",
      "24: As salas de o palácio arquiepiscopal pareciam formigueiros ; as batinas esfervilhavam irrequietas , *entrando* e saindo , *trazendo* e levando recados .\n",
      "25: Cochichava se de aqui , *cochichava* se de ali , *bichanava* se por todos os cantos e recantos de o palácio , sem nada se resolver que *aproveitasse* .\n",
      "27: O arcebispo , já desesperado , ia estender o braço para *tomar* a o acaso o primeiro de os seus sufragâneos , e ordenar lhe que *subisse* a o púlpito e despejasse , com um milhão de raios ! um sermão qualquer , quando de improviso *rasgou* se o reposteiro de a sala , em que ele se achava entre uma negra nuvem de batinas , e viu se surgir a veneranda figura de frei Ozéas , com as suas grandes barbas brancas e a sua enorme calva de profeta .\n",
      "\n",
      "=== 20 exemplos de sujeito oculto na oração principal em bosque ===\n",
      "CF893-1: Um *Godard* intergaláctico\n",
      "CF896-2: De os fumantes , 18,1 milhões são *homens* e 12,5 milhões , mulheres .\n",
      "CF897-2: De a *FT*\n",
      "CF899-2: Em a sua administração , *executou* um plano viário com largas avenidas interligando os bairros , que provocaram um boom imobiliário .\n",
      "CF902-1: *Pedro* Ivo , 63 , tel. 289-3609 )\n",
      "CF902-3: Quem não quiser beber durante o jantar , *poderá* levar o champanhe para casa .\n",
      "CF902-4: *Preço* : 18 URVs ( por pessoa )\n",
      "CF902-5: *Horário* : em o dia 12 , de as 19h a o último cliente\n",
      "CF902-6: *Cartões* : aceita todos\n",
      "CF902-7: *Estacionamento* com manobrista\n",
      "CF903-6: *Folha* -- o que a mulher precisa hoje , em termos de roupas ?\n",
      "CF904-6: É *o* que confirmam as estatísticas de o Campeonato Brasileiro , encerrado ontem com o novo título palmeirense .\n",
      "CF908-4: Diariamente , está *promovendo* desfiles de moda para seus consumidores .\n",
      "CF910-2: Não *houve* acordo para uma trégua durante a Copa .\n",
      "CF911-1: Era uma *época* em que os cariocas imperavam em campo e fora de ele .\n",
      "CF911-6: Já não *há* o império de o mal para combater .\n",
      "CF913-1: *IMPOSTOS* E TARIFAS\n",
      "CF913-4: Vai ter paridade , já desde o começo » , *explicou* .\n",
      "CF913-5: Quanto a as tarifas públicas , não serão *fixadas* em URV para evitar reajustes diários , mas terão correções periódicas por o indexador .\n",
      "CF913-6: « De o ponto de vista de proteção a o consumidor , vou *reajustar* o preço de a tarifa pública em o dia normal como se ela fosse URV .\n",
      "\n",
      "=== 20 exemplos de sujeito oculto na oração subordinada em bosque ===\n",
      "CF893-4: Para *construir* o ambiente futurista de o filme , Godard recorreu quase que totalmente a a fotografia .\n",
      "CF895-2: O problema é político porque *envolve* , por exemplo , a gratuidade de a educação , de a saúde , de a previdência mínima .\n",
      "CF895-3: *Excetuada* a educação básica de primeiro grau , que deve ser gratuita e obrigatória , para todo o resto é preciso discriminar quem pode pagar .\n",
      "CF897-1: PF prende dois por *cobrar* ágio\n",
      "CF897-3: A PF ( Polícia Federal ) indiciou ontem duas pessoas por *vender* carro com ágio .\n",
      "CF900-2: Dallari orientou os produtores a *negociarem* com a indústria .\n",
      "CF901-1: Esses aspectos podem ser observados em os relatos de as pacientes : « quando tenho que *arrumar* a casa e não estou com vontade , escuto vozes que me incentivam a começar a tarefa .\n",
      "CF901-2: Depois de um tempo , as vozes aumentam e acabo ficando atordoada e não consigo terminar o que *comecei* » .\n",
      "CF901-3: Estes problemas não são frequentes em os homens , pois além de *terem* uma possibilidade menor de casarem e terem filhos , esses não são os tipos de papéis socialmente esperados para o sexo masculino .\n",
      "CF903-2: « As pessoas estão cansadas de o hype que se *cria* em torno de as roupas , de os estilistas e de o luxo abusivo .\n",
      "CF911-3: O torcedor paulista sonhava com uma era futura , em que São Paulo chegaria a a supremacia , se possível de *forma* arrasadora .\n",
      "CF911-4: Passaram se uns 50 anos e o sonho se realizou , *trazendo* alegria e também , inesperadamente , frustração .\n",
      "CF911-6: Já não há o império de o mal para *combater* .\n",
      "CF912-1: O bombeiro suspeita que o golfinho tenha morrido *afogado* .\n",
      "CF912-2: Ele teria ficado preso em uma rede de pesca sem condições de *subir* a a tona para *respirar* .\n",
      "CF912-3: Os bombeiros pediram ajuda a o Cebimar ( Centro de Biologia Marinha ) de a USP para *apurar* as causas de a morte de o golfinho .\n",
      "CF913-2: O governo vai usar a URV para *corrigir* impostos , garantiu FHC .\n",
      "CF913-4: Vai *ter* paridade , já desde o começo » , explicou .\n",
      "CF913-5: Quanto a as tarifas públicas , não serão fixadas em URV para *evitar* reajustes diários , mas terão correções periódicas por o indexador .\n"
     ]
    }
   ],
   "source": [
    "for corpus in corpora:\n",
    "    print(\"\\n{} - orações principais com sujeito oculto ingênuo: {} / {}\".format(corpus, sum([len(x) for x in root_without_subject[corpus].values()]), total_deprel[corpus][\"|\".join(root_deprel)]))\n",
    "    print(\"{} - orações subordinadas com sujeito oculto ingênuo: {} / {}\".format(corpus, sum([len(x) for x in subordinate_without_subject[corpus].values()]), total_deprel[corpus][\"|\".join(subordinate_deprel)]))\n",
    "\n",
    "for corpus in corpora:\n",
    "    i = 0\n",
    "    ii = 0\n",
    "    print(\"\\n=== {} exemplos de sujeito oculto na oração principal em {} ===\".format(max_examples, corpus))\n",
    "    for sent_id, tokens in root_without_subject[corpus].items():\n",
    "        i += len(tokens)\n",
    "        print(sent_id + \": \" + \" \".join([x.word if t not in tokens else \"*\" + x.word + \"*\" for t, x in enumerate(corpora[corpus].sentences[sent_id].tokens) if not '-' in x.id]))\n",
    "        if i >= max_examples:\n",
    "            break\n",
    "    print(\"\\n=== {} exemplos de sujeito oculto na oração subordinada em {} ===\".format(max_examples, corpus))\n",
    "    for sent_id, tokens in subordinate_without_subject[corpus].items():\n",
    "        ii += len(tokens)\n",
    "        print(sent_id + \": \" + \" \".join([x.word if t not in tokens else \"*\" + x.word + \"*\" for t, x in enumerate(corpora[corpus].sentences[sent_id].tokens) if not '-' in x.id]))\n",
    "        if ii >= max_examples:\n",
    "            break"
   ]
  },
  {
   "cell_type": "markdown",
   "metadata": {},
   "source": [
    "# Filtro A"
   ]
  },
  {
   "cell_type": "code",
   "execution_count": 7,
   "metadata": {},
   "outputs": [],
   "source": [
    "def find_haver_impessoal(sentences, list_tokens):\n",
    "    haver_impessoal = {}\n",
    "    for sent_id in list_tokens:\n",
    "        sentence = sentences[sent_id]\n",
    "        for t, token in enumerate(sentence.tokens):\n",
    "            if t in list_tokens[sent_id] and token.lemma == \"haver\" and \"Number=Sing\" in token.feats and \"Person=3\" in token.feats:\n",
    "                if not sent_id in haver_impessoal:\n",
    "                    haver_impessoal[sent_id] = []\n",
    "                haver_impessoal[sent_id].append(t)\n",
    "    return haver_impessoal\n",
    "                \n",
    "root_haver_impessoal = {}\n",
    "subordinate_haver_impessoal = {}\n",
    "for corpus in corpora:\n",
    "    root_haver_impessoal[corpus] = find_haver_impessoal(corpora[corpus].sentences, root_without_subject[corpus])\n",
    "    subordinate_haver_impessoal[corpus] = find_haver_impessoal(corpora[corpus].sentences, subordinate_without_subject[corpus])\n",
    "    \n",
    "    for sentence in root_haver_impessoal[corpus]:\n",
    "        for token in root_haver_impessoal[corpus][sentence]:\n",
    "            root_without_subject[corpus][sentence].remove(token)\n",
    "    for sentence in subordinate_haver_impessoal[corpus]:\n",
    "        for token in subordinate_haver_impessoal[corpus][sentence]:\n",
    "            subordinate_without_subject[corpus][sentence].remove(token)"
   ]
  },
  {
   "cell_type": "code",
   "execution_count": 8,
   "metadata": {
    "tags": []
   },
   "outputs": [
    {
     "output_type": "stream",
     "name": "stdout",
     "text": [
      "\ndhbb - orações principais com sujeito oculto e haver impessoal: 1083\ndhbb - orações subordinadas com sujeito oculto e haver impessoal: 861\n\nobras - orações principais com sujeito oculto e haver impessoal: 5181\nobras - orações subordinadas com sujeito oculto e haver impessoal: 4395\n\nbosque - orações principais com sujeito oculto e haver impessoal: 124\nbosque - orações subordinadas com sujeito oculto e haver impessoal: 148\n\n=== 20 exemplos de haver impessoal na oração principal em dhbb ===\n486: *Há* entretanto quem julgue , como Alexandre Barbosa Lima Sobrinho , que suas realizações foram motivadas por o afã de projetar nacionalmente o próprio nome de Antônio Carlos , tendo em vista a sucessão de Washington Luís , que assumira a presidência de a República em 15 de novembro de 1926 .\n553: *Houve* idas e vindas a propósito de a data em que seria possível deflagrar a luta armada .\n639: *Houve* críticas , formuladas , segundo Helena Bomeny , « a partir de o pressuposto de que o pacto entre a legião e a Igreja iria favorecer o desenvolvimento de a nova agremiação por a propaganda que a última faria em seu favor .\n693: *Há* uma relação de contraponto entre massa e César .\n1089: Já *havia* , de esse modo , cumprido a pena de um ano e quatro meses de reclusão a que viria a ser condenado em 1928 , devido a a sua participação em a revolta .\n2403: Em o PRP , *houve* desde logo forte resistência a apoiá lo .\n2483: Não *havia* mais nada a esperar . Siqueira Campos iniciou o combate disparando o primeiro tiro em direção a a ilha de Cotunduba , atrás de a qual estavam os encouraçados « São Paulo » e « Minas Gerais » e o destróier « Paraná » .\n2502: *Houve* várias deserções , mas um civil , Otávio Correia , aderiu a os revoltosos e recebeu o pedaço de bandeira destinado a o capitão Euclides .\n2598: Não *houve* luta por o poder , pois Isidoro e Assis Brasil não fizeram objeção a que Prestes assumisse a chefia de o movimento .\n5396: Além de isso , *houve* , em a época , sinais de vazamento de informações de o Banco Central que teriam beneficiado instituições bancárias .\n5539: Não *houve* desrespeito a as garantias legais de os réus e a o devido processo legal .\n5608: *Há* um grito parado em o ar , um sentimento difuso , mas que está presente .\n5625: Em a Europa , *havia* um interesse especial em a Esquerda Democrática e em ex-esquerdistas , como Ignacio Silone , Arthur Koestler , Raymond Aron , Michael Josselson e George Orwell » .\n5699: E *houve* desvio de verbas públicas em os dois casos .\n5727: Mas *havia* um objetivo político claro : precisávamos de três quintos de a Câmara e de o Senado para aprovar reformas constitucionais necessárias a a modernização de o país .\n7135: Junto com esses desentendimentos ligados a a política estadual , em os conflitos entre a FUG e o governador *havia* também grande influência de a questão de a sucessão presidencial , prevista para 1938 .\n8360: *Haveria* , também , prática abusiva e corriqueira de contratação irregular de falsos « comissionados » e falsos « ACTs » ( admissões em caráter temporário ) em a prefeitura , em prejuízo de o concurso público .\n10489: *Há* entretanto quem julgue , como Barbosa Lima Sobrinho , que suas realizações foram motivadas por o afã de projetar nacionalmente seu nome tendo em vista a sucessão de Washington Luís , e ganharam destaque , em a verdade , graças a um bem montado esquema de publicidade .\n10525: A o iniciar se o ano de 1928 , já *havia* fortes indícios de que Washington Luís se fixaria em a candidatura de seu protegido Júlio Prestes , entre outras razões , para garantir a continuidade , em o quadriênio seguinte , de a linha mestra de seu governo , a política monetária de retorno a o padrão-ouro e de fixação de a taxa de câmbio acima de os índices de o mercado , favorecendo as exportações .\n10535: Não *havia* , em perspectiva , maiores problemas para manter o PRM unido em essa direção .\n\n=== 20 exemplos de haver impessoal na oração subordinada em dhbb ===\n695: Não *há* , a estas horas , país que não esteja a a procura de um homem , isto é , de um homem carismático ou marcado por o destino para dar a as aspirações de a massa uma expressão simbólica , imprimindo a unidade de uma vontade dura e poderosa a o caos de angústia e de medo de que se compõe o patos ou a demonia de as representações coletivas .\n696: Não *há* hoje um povo que não clame por um César . \" Em março de 1936 , a o saudar a posse de Afonso Pena Júnior em a reitoria de a Universidade de o Distrito Federal , falou sobre o comunismo : « As monstruosas ideologias internacionalistas visam apenas enfraquecer a humanidade em o homem para transformá lo mais facilmente em animal de um rebanho miserável , tangido por a fome e por o medo .\n697: \" Em julho , discursando acerca de a reintrodução de o ensino religioso em as escolas públicas , explicitou sua posição anticomunista , antes de aludir a a tentativa insurrecional de novembro anterior : « *Há* três laços que reúnem os homens -- a religião , a família e a pátria .\n912: Com efeito , o preâmbulo de o AI-1 afirmava : « O que *houve* e continuará a haver em este momento é uma autêntica revolução ...\n929: Campos acende sua luz *há* um curto-circuito em as instalações democráticas brasileiras . \" Já em o dia 10 , o Comando Supremo de a Revolução suspendeu os direitos políticos de cem pessoas e cassou os mandatos de 40 membros de o Congresso Nacional , medidas a que se seguiram transferências para a reserva de 145 oficiais de as três armas e novas suspensões de direitos políticos , inclusive de 37 oficiais .\n1771: Contestou a afirmação de Genoíno de que *haveria* apenas « políticos conservadores e clientelistas » em os estados de o Norte , citando como exemplo de bancadas de esquerda expressivas a de o\n2325: Criticando o discurso de posse de seu antecessor , que criticara a ditadura , acusou o de não ter considerado que em os anos 1960 , em tempos de Guerra Fria , só *havia* duas opções : « ou os anos de chumbo ou os anos de aço » .\n3245: Admitindo já *há* algum tempo a hipótese de concorrer a um novo mandato de governador de o Paraná , depois de a adesão a o PP , teve sua candidatura lançada por esse partido .\n3355: Em 1977 declarou se contrário a o restabelecimento de a liberdade sindical por considerar que *havia* um bom nível de entendimento entre a CSN e os sindicatos -- notadamente o de os metalúrgicos -- de Volta Redonda ( RJ ) , onde estava sediada a empresa .\n5513: Amparado por inúmeras pesquisas médicas que , uma atrás de a outra , demonstram que *há* um considerável abismo entre o entendimento de a lei e o que a maconha é de fato , ele constata o seguinte : « Ninguém pensa em liberar totalmente o uso .\n5531: Embora expresse certo lamento por o envolvimento de alguns nomes que lutaram por a redemocratização , FHC concorda que *houve* justiça em o caso de o mensalão e argumenta : « Escrevo sem júbilo : é triste ver em a cadeia gente que em outras épocas lutou com desprendimento .\n5632: Observando se o contexto político de a época , a ditadura militar havia lançado o AI-5 em 13 de dezembro , portanto , *há* menos de 60 dias , e elevado a o máximo o estado de terror após o golpe de 64 , como afirma a autora , « desde o início financiado , comandado e sustentado por os Estados Unidos » .\n5649: O « site » http_ / / correiodobrasil.com.br/publicou ainda que não *há* registros imediatos de que o ex-presidente tenha negado ou admitido as denúncias constantes em os livros de Saunders e Leoni .\n5682: Sem « ilusões » quanto a a dificuldade de a disputa , celebrou uma novidade : « Por a primeira vez , *houve* um deslocamento de blocos de o governo . \" O ex-presidente afirmou : « Tanto a Marina quanto o Eduardo saíram ] de o bloco de o governo e foram ] pro outro lado .\n5684: E acho que *há* , por a primeira vez também , uma articulação positiva entre o Eduardo e o Aécio . \" Para FHC , ambos entenderam que precisam « somar forças . \" A o ser perguntado quanto a a aversão de Marina Silva a as alianças de o PSB de Campos com o PSDB , respondeu : « A resistência de ela é outra .\n5689: « FHC concordou que também *há* « fadiga de material » em São Paulo , mas antes acrescentou que , ainda assim , « é difícil que o PT tenha condições de ganhar em São Paulo .\n7434: Explorando a imagem de político tocador de obras , conseguiu eleger também seu sucessor em Contagem , Guido Fonseca , de quem era amigo *havia* mais de 20 anos .\n8363: Como não *havia* ainda manifestado opinião sobre o assunto , disse , em a ocasião , que pediria a a Procuradoria Geral de o Município que entrasse com ação de inconstitucionalidade em a Justiça para derrubar a lei .\n8390: Diante de a sentença , alegou que não *havia* nenhuma irregularidade .\n9072: Em maio de 2008 , por seis votos a cinco , incluindo seu voto favorável , a ação foi julgada improcedente , permitindo se o uso , em pesquisas científicas , de as células-tronco , desde que inviáveis para implantação em o útero materno , congeladas *há* mais de três anos e mediante autorização de os genitores .\n\n=== 20 exemplos de haver impessoal na oração principal em obras ===\n33: *Havia* vinte e tantos anos que em torno de ele se formara , de dia para dia , a mais sólida reputação de virtude e santidade .\n44: Em uma de elas *havia* um grande nicho com a imagem de a Virgem de a Conceição , quase de tamanho natural ; a um de os cantos , uma negra estante , toscamente feita , pejada de grossos alfarrábios amarelecidos por o tempo ; em o centro , uma mesa de madeira escura com um breviário em cima , a o lado de uma candeia de azeite , um pedaço de pão duro e um cilício cru ; junto a a mesa , um banco de pau .\n46: Não *havia* mais ninguém em a cela .\n232: Em a suavidade de as suas faces de moço , *havia* a sombra de as duras penitências e de as grandes vigílias místicas sobre as páginas de o breviário , ou defronte de o altar de a Virgem Santíssima , mas havia também uma juvenil frescura de flor , de essas misteriosas e pálidas , que só a a noite desabrocham e recendem .\n251: Quando as suas primeiras palavras sairam lhe de o coração , em um doce murmúrio de voz angélica , *houve* em todas aquelas pobres criaturas , estafadas por o vício e por a libertinagem , uma inesperada comoção que lhes umedecia os olhos .\n400: Não *há* dúvida que está aí , está cantando a primeira missa e entrando logo em seguida para a capela real .\n408: Não *há* de ser com súplicas e sermões que a França se resgatará , mas a metralha , a canhão e a ponta de baionetas ! --\n552: E em o arruído de as suas vozes ameaçadoras , *há* como que a repercussão de um inferno sufocado por as águas !\n829: *Há* de convir que não dei o menor passo , nem empreguei o menor esforço , para provocar esta união ! ...\n923: *Há* então muitas que o estejam ? -- Oh ! oh !\n1074: *Houve* uma triste concentração em que se ouviram prantos abafados .\n1313: Não *há* dúvida que é muito santa pessoa , mas nunca vi criatura tão triste ! ...\n1401: -- Mas *há* de sempre comer alguma coisa , senão é que me zango deveras ! ... -- Tenho é muito cansaço ...\n1559: Em uma desarranjada alcova de o velho castelo , entre mesas cobertas de frascos de remédio e estojos de cirurgia , *há* uma cama com um cadáver de mulher .\n1568: *Há* muito que a previa ...\n1660: *Há* casos observados de prostração cataléptica , que duram mais de cem dias ...\n1849: Em cada corpo animado *há* um sobressalto de amor .\n1867: *Houve* um instante de espasmo , em que todos aqueles espectros fremiram convulsivamente , chocalhando os ossos uns com os outros .\n1888: Não *há* mulher que de nós desapareça para sempre , quando nós deveras a amamos ! ...\n2306: A o centro *havia* um esplêndido tapete desdobrado em o chão , com uma ceia servida em baixelas de prata e ouro .\n\n=== 20 exemplos de haver impessoal na oração subordinada em obras ===\n106: Abaixou se logo , apoderou se de a cesta , e verificou que dentro de ela *havia* uma criança de o sexo masculino .\n111: Além de isso , por que o depunham a a porta de um mosteiro , frio lugar onde só *havia* alguns pobres religiosos sem recursos para nada ? ...\n161: Não lhe permitiam olhar para o pátio de o convento , onde *havia* uma criação de galinhas e coelhos .\n176: \" E Ângelo , quando estes versetos lhe vinham a o espírito , misturados com os suspiros de a vaga saudade , que ele mal definia e em que mal acreditava , caía em fundas cismas , para as quais só *havia* uma consolação : -- escrever .\n290: Feia , é verdade ; magríssima , não *há* dúvida ; sarapintada de marcas de bexiga , ninguém o nega ; mas afinal é uma mulher !\n323: Foi o assombro de o homem desfibrado e gasto , produzido por o homem ainda forte e perfeito ! Admirou a fresca e delicada flor de o sentimento , que ele supunha *há* muito tempo extinta ; admirou esse estranho Ângelo como se admirasse uma raridade preciosa , uma de as nossas armaduras de os tempos gauleses por exemplo . --\n369: Ora , sucedeu por acaso que essa mísera criança , que o mesmo acaso atirou a as mãos de o padre Ozéas , dispusesse de as mais valentes faculdades mentais , e , não conhecendo ela outro meio além de aquele em que vegetou , e , não tendo outro pasto para seu espírito além de a doutrina cristã e de a manhosa teologia , deu se todo inteiro a estas duas estéreis e sedutoras senhoras , e em o fim de contas apresentou escandalosamente aquele imprevisto tipo , que fez as nossas delícias de a corte em a quinta-feira passada . -- Ah ! disse o conde de Saint-Malô ; não *há* dúvida , porém , de que ele tem muito talento oratório : é uma capacidade em matéria de religião ...\n401: E *há* de fazer carreira ! -- Pois engana se , caro conde , acudiu o doutor ; engana se redondamente . Ângelo não entrará para o quadro de a capela real , posto que o rei já o convidasse .\n438: Pois se até a rainha , que agora pouco sai a a rua , aposto que *há* de vir !\n561: Tua alma devia estar toda voltada para ele e só a ele refletindo , como um grande lago quieto , cristalino e límpido , cuja superfície não toldasse sequer a asa de uma abelha ... -- Bem sei , bem sei , meu pai ! soluçou Ângelo ; mas , a despeito de os meus esforços , outras vozes vinham ainda *há* pouco misturar se a as vozes celestiais , outros perfumes perturbavam os aromas de a igreja , outras idéias distraíam minha alma , outro sangue me pulsava em todo o corpo !\n849: Se *há* um criminoso entre nós , não sou eu decerto : em a minha qualidade de cortesã , sou lógica , não me afasto uma linha de o meu programa ; o senhor é que se afastou de os seus deveres , em a qualidade de chefe de família .\n889: -- Com uma condição , propôs a condessa ; *haja* o que *houver* , o senhor não se baterá com ele ... -- Prometo , mas a senhora não lhe dirá que o ama ... -- Ah !\n1375: vigário , mas ... -- Por que então *há* de fingir se aquilo que não é ? ... por que *há* de dizer o que não sente ? ... por que fazer se má , quando os seus sentimentos são humanos e compassivos ? ...\n1516: Veja o que *há* aí para comer .\n1556: Ângelo apeou se , e a o transpor o largo portão de pedra , em cujo frontal *havia* ainda as armas fidalgas de uma grande família extinta , sentiu a alma tolhida por um vago e áspero pressentimento de desgraça .\n1818: Assim conversam *há* vinte séculos ! ...\n2194: Todas as flores são poucas para em os atirarem ; desde o momento , porém , que os deixamos para trás -- não *há* pedras em o chão que cheguem para satisfazer a sua avidez de quebrar nos a cabeça e as pernas .\n2318: E pensar que *há* por esse mundo gente que fala em tristezas !\n\n=== 20 exemplos de haver impessoal na oração principal em bosque ===\nCF910-2: Não *houve* acordo para uma trégua durante a Copa .\nCF911-6: Já não *há* o império de o mal para combater .\nCF924-4: *Há* uma trama paralela , com Ramon e Esperanza , casal que após a greve se separa .\nCF944-3: Em a areia *há* apenas espreguiçadeiras , coqueiros e barraquinhas de artesanato .\nCF949-2: *Há* cidades que enfrentam programas de racionamento de água .\nCF810-5: Não *houve* tiroteio .\nCF817-5: *Há* algumas brigas engraçadas entre irmãos , cenas de separação conjugal e uma morte .\nCF817-6: Em algumas passagens , *há* diálogos intermináveis e vazios .\nCF836-1: Entretanto , *há* possibilidade de queda em as cotações externas em os próximos meses , em especial em o segundo semestre , quando se verifica a colheita de arroz em o hemisfério Norte .\nCF841-1: Para o diretor de crédito de a Febraban , Christoph Heinrich Von Beackedorff , « não *há* novos tomadores , só estão sendo rolados os empréstimos que estão vencendo » .\nCF844-2: Shows *há* para todos os ouvidos .\nCF780-2: Mas *há* a pesca comercial de atum controlada por norte-americanos de origem portuguesa , chineses de Taiwan e sul-coreanos em embarcações de 1,2 tonelada que valem até US$ 13 milhões .\nCP1000-7: Mas também aqui *há* aspectos pouco claros , já que esta disposição não é seguida por todos .\nCF971-3: Em o projeto não *há* definição de quantos podem ser construídos .\nCF979-1: *Haverá* mais e melhores escolas , laboratórios , universidades e bolsas de estudo .\nCF980-4: Entre cada parte de o submarino *há* isolamento , evitando que acidentes em uma parte atinjam as outras .\nCF858-2: Segundo o professor Vicente Amato Neto , 66 , « *há* informações que todos ouvem , em o sentido de fazer o estacionamento » .\nCP12-4: ( *Há* quem defenda , em o entanto , que se trata de um fax apócrifo , realmente escrito por o deputado José Magalhães , o qual teria , aliás , imitado a letra de o ex-deputado António Barreto .\nCP23-8: *Há* , em o ar , uma certa ideia de invasão .\nCP34-7: Em os prédios com muitos andares , *haverá* um ecoponto para todos os moradores .\n\n=== 20 exemplos de haver impessoal na oração subordinada em bosque ===\nCF939-1: Paula Toller Isso é uma coisa que a gravadora vinha sugerindo para a gente *há* muito tempo .\nCF833-1: Parágrafo 3º. -- Em os contratos celebrados ou convertidos em URV , em que *haja* cláusula de reajuste de valor por índice de preços ou por índice que reflita a variação ponderada de os custos de os insumos utilizados , o cálculo de esses índices , para efeitos de reajuste , deverá ser em esta moeda até a emissão de o real e , de aí em diante , em real , observado o art. 38 de a lei nº. 8.880 de 27.05.94 .\nCF845-2: Vamos verificar o que *houve* com essas matérias-primas . »\nCF971-6: E como não *há* crescimento sem educação , a causa de as causas para nós é a elevação de o nível educacional de o povo brasileiro .\nCP5-9: « A proposta é muito bem vista , porque será mais vantajosa de o que se *houver* só um pólo de interesse em o local » , afirmou o major Carlos Barbosa , de as relações públicas de a Força Aérea , admitindo que , com o parque temático , « se o interesse for diversificado , toda a gente fica a ganhar » .\nCP9-1: Co-produção franco-egípcia , « O Emigrante » inspira se em a história de José , filho de Jacob , contando o percurso de Ram que , *há* 3000 anos , decide abandonar a sua terra árida para se instalar em o Egipto de os faraós , centro de a civilização .\nCP21-1: O russo será uma de as seis línguas principais usadas por João Paulo II amanhã e depois , em o Encontro Mundial de a Juventude , em o Santuário Mariano de Czestokowa , onde se prevê a presença de um milhão de jovens , o dobro de os que *há* dois anos se congregaram em Santiago de Compostela .\nCP24-2: Cavaco Silva não assinou o habitual despacho que dá tolerância de ponto em a terça-feira de Carnaval -- o que significa que , a o contrário de o que é tradicional , este ano não *há* o feriado de o Entrudo .\nCP52-1: *Há* muito tempo que tenho uma estranha relação afectuosa com esta ilha .\nCP52-11: Sobretudo foi bom descobrir que *há* mais gente a fazer parte de o equipamento « imaginário » de a ilha .\nCP52-13: Os seus habitantes são de o mais cosmopolita que *há* .\nCP60-1: E não seria mais útil que o dr. Soares que , enquanto primeiro-ministro , deixou a educação em o caos que se conhece , dirigisse mensagens a lançar o debate sobre o que *há* a reformar em o ensino , em vez de passar a vida a exigir uma televisão tão livre que Eduardo Moniz tenha liberdade para criticar toda a gente excepto .. o dr. Soares ?\nCP94-4: Em o entanto , em o Ministério de a Defesa não há grandes preocupações quanto a a funcionalidade de a gestão se *houver* vacatura com a provável saída de Nogueira .\nCP104-2: O deputado social-democrata Carlos Coelho , por exemplo , até já se deu a o trabalho de comparar os dois documentos , apenas para provar que *há* « inúmeras citações literais » de o diploma em o articulado de o pacto , que assim se transforma « em um repositório de ideias globais , que não acrescenta nada a o que a lei de bases e a Constituição portuguesa preconizam » .\nCP113-4: Se não se incomodarem um a o outro é porque *há* condições para partir para a fase seguinte .\nCP118-1: Mas em os demais casos em que a lei permite a cobrança coerciva por os tribunais fiscais , pode ser discutida a legalidade de a dívida , o que quer dizer que não *há* título executivo .\nCP130-2: Para Jorge Rocha , o inquérito demonstrou « que *há* muitas câmaras de o país que têm uma atitude de grande dignidade por os animais » , apesar de serem letra morta as parcas disposições de a legislação que regulamenta esta matéria e de o imenso atraso em o nosso país em relação a outros países europeus , onde *há* inclusivamente seguros e assistência a a doença .\nCP132-6: A fotografia foi publicada em a imprensa de todo o mundo *há* cerca de um ano , quando de o massacre de Bentalha , em a Argélia , onde morreram cerca de duas centenas de pessoas , em a noite de 22 para 23 de Setembro .\nCP134-2: Parti de Cabo Verde *há* oito anos .\n"
     ]
    }
   ],
   "source": [
    "for corpus in corpora:\n",
    "    print(\"\\n{} - orações principais com sujeito oculto e haver impessoal: {}\".format(corpus, sum([len(x) for x in root_haver_impessoal[corpus].values()])))\n",
    "    print(\"{} - orações subordinadas com sujeito oculto e haver impessoal: {}\".format(corpus, sum([len(x) for x in subordinate_haver_impessoal[corpus].values()])))\n",
    "\n",
    "for corpus in corpora:\n",
    "    i = 0\n",
    "    ii = 0\n",
    "    print(\"\\n=== {} exemplos de haver impessoal na oração principal em {} ===\".format(max_examples, corpus))\n",
    "    for sent_id, tokens in root_haver_impessoal[corpus].items():\n",
    "        i += len(tokens)\n",
    "        print(sent_id + \": \" + \" \".join([x.word if t not in tokens else \"*\" + x.word + \"*\" for t, x in enumerate(corpora[corpus].sentences[sent_id].tokens) if not '-' in x.id]))\n",
    "        if i >= max_examples:\n",
    "            break\n",
    "    print(\"\\n=== {} exemplos de haver impessoal na oração subordinada em {} ===\".format(max_examples, corpus))\n",
    "    for sent_id, tokens in subordinate_haver_impessoal[corpus].items():\n",
    "        ii += len(tokens)\n",
    "        print(sent_id + \": \" + \" \".join([x.word if t not in tokens else \"*\" + x.word + \"*\" for t, x in enumerate(corpora[corpus].sentences[sent_id].tokens) if not '-' in x.id]))\n",
    "        if ii >= max_examples:\n",
    "            break"
   ]
  },
  {
   "cell_type": "markdown",
   "metadata": {},
   "source": [
    "# Filtro B"
   ]
  },
  {
   "cell_type": "code",
   "execution_count": 9,
   "metadata": {},
   "outputs": [],
   "source": [
    "def find_nominals(sentences, list_tokens):\n",
    "    nominals = {}\n",
    "    for sent_id in list_tokens:\n",
    "        sentence = sentences[sent_id]\n",
    "        for t, token in enumerate(sentence.tokens):\n",
    "            if t in list_tokens[sent_id] and token.upos != \"VERB\":\n",
    "                is_cop = False\n",
    "                for _token in sentence.tokens:\n",
    "                    if _token.head_token.id == token.id and _token.deprel == \"cop\":\n",
    "                        is_cop = True\n",
    "                        break\n",
    "                if not is_cop:\n",
    "                    if not sent_id in nominals:\n",
    "                        nominals[sent_id] = []\n",
    "                    nominals[sent_id].append(t)\n",
    "    return nominals\n",
    "                \n",
    "root_nominals = {}\n",
    "for corpus in corpora:\n",
    "    root_nominals[corpus] = find_nominals(corpora[corpus].sentences, root_without_subject[corpus])\n",
    "    \n",
    "    for sentence in root_nominals[corpus]:\n",
    "        for token in root_nominals[corpus][sentence]:\n",
    "            root_without_subject[corpus][sentence].remove(token)"
   ]
  },
  {
   "cell_type": "code",
   "execution_count": 10,
   "metadata": {
    "tags": []
   },
   "outputs": [
    {
     "output_type": "stream",
     "name": "stdout",
     "text": [
      "\ndhbb - orações principais com sujeito oculto e nominal: 31599\n\nobras - orações principais com sujeito oculto e nominal: 43326\n\nbosque - orações principais com sujeito oculto e nominal: 1145\n\n=== 20 exemplos de nominais como oração principal em dhbb ===\n28: *Deputados* em fevereiro seguinte .\n110: As *Oposições*\n117: *Magalhães* , o voto de os representantes classistas e de os republicanos paulistas e ainda o beneplácito de Valadares .\n120: *Transcorreria* em 1937 a campanha para a sucessão presidencial .\n133: *Pinto* , visando promover uma manifestação de personalidades que contestavam o Estado Novo .\n138: « *Manifesto* de os mineiros » , primeiro pronunciamento público de setores liberais contra o Estado Novo .\n148: Aleixo fora *um* de os que propuseram o nome de Eduardo Gomes para as eleições presidenciais de 2 de dezembro de 1945 .\n150: Dutra , *ministro* de a Guerra de Vargas , tendo como defensores Benedito Valadares e vários outros políticos ligados a o Estado Novo .\n157: *Dutra* , que contava com o apoio de o PTB .\n187: Em meados de 1963 as articulações políticas entre civis e militares que visavam a a derrubada de Goulart já estavam bem desenvolvidas , contando principalmente com a participação de os generais Humberto de Alencar Castelo Branco , Olímpio Mourão Filho e Osvaldo Cordeiro de Farias e de os líderes udenistas Pedro Aleixo -- que em esse ano se tornara líder de a oposição em a Câmara -- , Adauto Lúcio Cardoso , Olavo Bilac Pinto , *José* de Magalhães Pinto , Daniel Krieger e Paulo Sarasate .\n204: *Pedro* Aleixo e Mílton\n251: Segundo *Carlos*\n255: Em o dia 29 de agosto , segundo Carlos Chagas , notícias sobre o estado de saúde de o presidente foram levadas a os ministros militares -- general Aurélio de Lira Tavares ( Exército ) , almirante Augusto Rademaker ( Marinha ) e brigadeiro Márcio de Sousa e Melo ( Aeronáutica ) -- , mas não a o *vice-presidente* .\n287: « O *peculato* em o direito penal brasileiro » ( 1956 ) , « Imunidades parlamentares » ( 1961 ) e « Em defesa de o Congresso Nacional » ( 1963 ) , além de artigos , pareceres e discursos parlamentares .\n341: Primeira eleição sem a participação direta de Lula desde 1989 , este pleito foi vencido por sua ex-ministra-chefe de a Casa Civil , Dilma Rousseff , a a frente de uma coligação que reuniu 10 partidos , incluindo o PSB de Campos : Partido de os Trabalhadores-PT ; PMDB ; Partido Democrático Trabalhista-PDT ; Partido Comunista de o Brasil-PCdoB ; *Partido* Republicano Brasileiro-PRB ; Partido de a República-PR ; Partido Trabalhista Nacional-PTN ; Partido Social Cristão-PSC e Partido Trabalhista Cristão-PTC .\n349: Em *virtude* de o lançamento de sua pré-candidatura a a presidência de a República , em abril de 2014\n355: Segundo o « *Estado* de S.\n356: *Paulo* »\n360: *Campos* , economista e auditora de o Tribunal de Contas de Pernambuco , com quem teve cinco filhos .\n378: *Deputados* em as jornadas de tisiologia realizadas em São Paulo .\n\n=== 20 exemplos de nominais como oração principal em obras ===\n1: A *MORTALHA* DE ALZIRA Aluísio de Azevedo\n2: A *cela* misteriosa\n10: *Substituir* La Rose ! ...\n20: Que *diabo* !\n49: Para quê , meu *pai* ? -- Para pregar o sermão de Quinta-feira santa . --\n51: Não *te* preocupes com a multidão que lá encontrares , não te preocupes com o que vires !\n55: *Adeus* .\n56: -- Sua *bênção* , meu pai . -- Deus te abençoe .\n58: *Frei* Ozéas e o enjeitado\n62: A *ferocidade* e a perfídia de os tempos bárbaros , os crimes de o feudalismo , todos os erros , todos os abusos e todos os desregramentos de um governo cínico e perverso e de uma magistratura e uma jurisprudência feitas de ignomínia e adulação , eis de o que se compunham os costumes de esse infeliz começo de século .\n65: Só uma *coisa* divertia o público : -- a crápula .\n82: Por mais *brilhante* e intensa que fosse a luz de o seu arrependimento , lá estava o gigantesco espectro de os crimes cometidos , para antepor se entre eles , e encher de sombra e remorso aquela consciência de sacerdote pecador .\n83: Por mais *sincera* e convicta que fosse a sua nova lei de conduta , por mais leal e verdadeira a sua nova linha de virtude , sua alma chorava perdida para sempre , porque para sempre se sentia corrompida e suja .\n87: *Francisco* de Paula , denominados -- « Os mínimos » .\n98: *Deus* a os desamparados por os homens .\n103: Eis a o que nem o próprio Ozéas seria capaz de responder *.*\n107: Um *enjeitado* !\n109: Mas um *enjeitado* de quem ? ...\n116: *Sim* !\n117: *Sim* !\n\n=== 20 exemplos de nominais como oração principal em bosque ===\nCF893-1: Um *Godard* intergaláctico\nCF897-2: De a *FT*\nCF902-1: *Pedro* Ivo , 63 , tel. 289-3609 )\nCF902-4: *Preço* : 18 URVs ( por pessoa )\nCF902-5: *Horário* : em o dia 12 , de as 19h a o último cliente\nCF902-6: *Cartões* : aceita todos\nCF902-7: *Estacionamento* com manobrista\nCF903-6: *Folha* -- o que a mulher precisa hoje , em termos de roupas ?\nCF913-1: *IMPOSTOS* E TARIFAS\nCF913-8: *APOSENTADOS*\nCF921-2: *Ilustração* :\nCF921-3: « *Menina* correndo em a varanda » , óleo s/ tela , Giacomo Balla , 1912\nCF924-2: *Preço* : US$ 74,71 .\nCF928-4: *Execução*\nCF931-1: *Demonização*\nCF933-3: *Editor-assistente* de Ciência\nCF941-1: *Dique* oficial\nCF941-4: *Bola* preta\nCF942-1: *Madonna* em a pele de Madonna\nCF946-4: *Chance* imperdível para aqueles que apreciam enterradas , tocos e a mais primitiva troca de porradas .\n"
     ]
    }
   ],
   "source": [
    "for corpus in corpora:\n",
    "    print(\"\\n{} - orações principais com sujeito oculto e nominal: {}\".format(corpus, sum([len(x) for x in root_nominals[corpus].values()])))\n",
    "\n",
    "for corpus in corpora:\n",
    "    i = 0\n",
    "    print(\"\\n=== {} exemplos de nominais como oração principal em {} ===\".format(max_examples, corpus))\n",
    "    for sent_id, tokens in root_nominals[corpus].items():\n",
    "        i += len(tokens)\n",
    "        print(sent_id + \": \" + \" \".join([x.word if t not in tokens else \"*\" + x.word + \"*\" for t, x in enumerate(corpora[corpus].sentences[sent_id].tokens) if not '-' in x.id]))\n",
    "        if i >= max_examples:\n",
    "            break"
   ]
  },
  {
   "cell_type": "markdown",
   "metadata": {},
   "source": [
    "# Filtro C"
   ]
  },
  {
   "cell_type": "code",
   "execution_count": 11,
   "metadata": {},
   "outputs": [],
   "source": [
    "fenomenos_natureza = \"chover|ventar|nevar|chuviscar|garoar|gear|anoitecer|amanhecer|entardecer|relampejar|trovejar\".split(\"|\")\n",
    "def find_natureza(sentences, list_tokens):\n",
    "    natureza = {}\n",
    "    for sent_id in list_tokens:\n",
    "        sentence = sentences[sent_id]\n",
    "        for t, token in enumerate(sentence.tokens):\n",
    "            if t in list_tokens[sent_id] and token.lemma in fenomenos_natureza:\n",
    "                if not sent_id in natureza:\n",
    "                    natureza[sent_id] = []\n",
    "                natureza[sent_id].append(t)\n",
    "    return natureza\n",
    "                \n",
    "root_natureza = {}\n",
    "subordinate_natureza = {}\n",
    "for corpus in corpora:\n",
    "    root_natureza[corpus] = find_natureza(corpora[corpus].sentences, root_without_subject[corpus])\n",
    "    subordinate_natureza[corpus] = find_natureza(corpora[corpus].sentences, subordinate_without_subject[corpus])\n",
    "    \n",
    "    for sentence in root_natureza[corpus]:\n",
    "        for token in root_natureza[corpus][sentence]:\n",
    "            root_without_subject[corpus][sentence].remove(token)\n",
    "    for sentence in subordinate_natureza[corpus]:\n",
    "        for token in subordinate_natureza[corpus][sentence]:\n",
    "            subordinate_without_subject[corpus][sentence].remove(token)"
   ]
  },
  {
   "cell_type": "code",
   "execution_count": 12,
   "metadata": {
    "scrolled": true,
    "tags": []
   },
   "outputs": [
    {
     "output_type": "stream",
     "name": "stdout",
     "text": [
      "\ndhbb - orações principais com sujeito oculto e fenômeno natureza: 0\ndhbb - orações subordinadas com sujeito oculto e fenômeno natureza: 4\n\nobras - orações principais com sujeito oculto e fenômeno natureza: 100\nobras - orações subordinadas com sujeito oculto e fenômeno natureza: 127\n\nbosque - orações principais com sujeito oculto e fenômeno natureza: 1\nbosque - orações subordinadas com sujeito oculto e fenômeno natureza: 2\n\n=== 20 exemplos de fenômeno natureza como oração principal em dhbb ===\n\n=== 20 exemplos de fenômeno natureza como oração subordinada em dhbb ===\n82280: Em Cachoeira de o Sul , o levante se desenrolou sem qualquer contratempo : em o *entardecer* de o dia 4 de outubro , as unidades federais de a cidade já se achavam reorganizadas por os revolucionários , prontas para seguir para o norte de o estado , de onde rumariam para São Paulo e Rio .\n337330: Em o segundo dia de luta , uma companhia de o 5º RI e todo o 6º RI , comandado por o major Raul Cabral Velho , aderiram a a revolta , mas a o *anoitecer* os primeiros reforços legalistas começaram a penetrar em a cidade .\n408100: Em Cachoeira de o Sul , o levante se desenrolou sem qualquer contratempo : em o *entardecer* de o dia 4 de outubro , as unidades federais de a cidade já se achavam reorganizadas por os revolucionários , prontas para seguir para o norte de o estado , de onde rumariam para São Paulo e Rio .\n472113: A o mesmo tempo , deu andamento a um conjunto de obras que visava melhorar os problemas causados por as enchentes que ocorriam em a cidade sempre que *chovia* com intensidade .\n\n=== 20 exemplos de fenômeno natureza como oração principal em obras ===\n5828: Felizmente *chovia* menos .\n18268: Ia *anoitecer* .\n20128: Ia deixar de ver , mas não lhe convinha abrir a janela , por causa de o vento ; além de isso ameaçava chuva ; era até muito natural que estivesse *chuviscando* .\n20236: Ia deixar de ver , mas não lhe convinha abrir a janela , por causa de o vento ; além de isso ameaçava chuva ; era até muito natural que estivesse *chuviscando* .\n26601: A A voz de tua musa um mundo Novo surge , *amanhece*\n28063: Está *chovendo* : tinha certeza de encontrar te em casa .\n40944: Quando a morte aliviou Veneza de aquele díscolo que a depravava , *choveram* os epitáfios e , em todos eles , transparecia o ódio que o grande difamador criara em torno de a sua pessoa detestada e temida .\n42137: Felizmente *chovia* e os fogos lá estavam em a seção pirotécnica de o Rosas .\n57648: Estava *chuviscando* .\n60512: Mal *amanhece* busco a e ponho me logo a trabalhar e , assim como o lavrador enche os carros de ceifa , assim vou enchendo páginas com os meus sonhos .\n61537: *Chovia* torrencialmente quando Maria Augusta apareceu em a ferraria , esbaforida , procurando Nazário .\n62574: Tá *chovendo* ...\n64952: Está *amanhecendo* . -- Amanhecendo ? !\n65343: Sobre o túmulo onde ficou a carne em que morei , *chovem* os psalmos de as religiosas e as flores de os que vão correr o claustro .\n68655: E , repetindo as palavras de o delegado , desceu as escadas , indignado e desesperançado . *Chovia* ainda .\n71321: *Chovia* e a estalagem triste , de desusada tranqüilidade , com as compridas cordas gotejando e oscilando a o vento , as tinas abandonadas , os coradouros vazios , parecia deserta .\n90846: Sim , mas , quando *amanheceu* -- prosseguiu Francisco -- e se viu o rastilho de sangue que ele foi deixando por o caminho afora , seu sargento-mór mandou que eu e Mameluco , seu pagem de confiança , montássemos em os melhores cavalos e lhe fizéssemos companhia , guiados por o rastilho , em busca de o Valentão .\n102918: Após aquela noite de festa , em que dançara desesperadamente com todos os rapazes que lhe pediam essa honra , *amanheceu* mademoiselle Beatriz com febre alta , e uma tosse forte , com grandes dores em o peito .\n103127: Em o quarto dia , porém , *amanheceu* inteiramente boa , voltando a valsar , alegre e jovial , contentíssima como se nada tivesse acontecido .\n103883: Compreendendo , em a sua sabedoria , o que havia sucedido a as duas fragilíssimas criaturas a que pretendera conceder a graça de a imortalidade , *trovejou* o Senhor que eles abandonassem , de pronto , os limites de o Éden .\n\n=== 20 exemplos de fenômeno natureza como oração subordinada em obras ===\n2425: Fujamos antes que *amanheça* ! --\n4857: O monólogo continuava . -- Olhe que vai *chover* !\n5925: Calculou que não tardaria a amanhecer , se é que ainda *amanheceria* : se é que aquela noite infernal não se fosse prolongando infinitamente , sem nunca mais aparecer o sol ! Bebeu um copo d' água , bem cheio , apesar de haver pouco antes tomado outro , e ficou imóvel , de ouvido atento , em a expectativa de escutar as horas de algum relógio de a vizinhança .\n5941: Entretanto , adivinhava se que ia *amanhecer* .\n7617: E as castas propensões de o Coruja , os gostos imaculados que dormiam a sono solto dentro de ele , tudo isso acordou alegremente a os primeiros rumores de a floresta e as primeiras irradiações de a aurora como um bando de pássaros quando vai *amanhecendo* .\n9849: E , notando que *amanhecia* , ergueu se de a mesa , lavou se , mudou de roupa e tomou um cálice de conhaque .\n12642: Ainda outros cheiros a incomodavam : o fartum que se exala de a terra quando *chove* depois de uma grande soalheira , o fedor de o cavalo suado , o de certos remédios preparados com ópio , mercúrio , clorofórmio ; tudo isto agora lhe fazia mal , porém de um modo tão vago , que ela muita vez sentia se indisposta e não atinava porque .\n13686: Parece que vai *chover* ...\n13690: Principiava com efeito a *chuviscar* .\n14248: Cercaram a choupana com valentes toros de madeira e , quando *anoitecia* levantavam uma fogueira defronte de a porta .\n17104: Se eu sair de aqui agora , Onde vou *amanhecer* ? -- Este foi de sentimento !\n21961: Não sei se adormeci : sei apenas que quando *amanheceu* achei me a sós em o cemitério .\n24023: Vinha *amanhecendo* quando o grumete , ainda bêbedo de sono , os olhos apertados , o passo leve , saiu direito a o cais de os Mineiros .\n28146: atravessemos aquela ponte ... -- Isso é uma extravagância : está *chovendo* ! -- Ora ! um chuvisquinho a a toa !\n30216: se era ! ... já tinha *anoitecido* havia mais de uma hora . -- E Vm .\n30420: Quando foi *anoitecendo* , embocaram por a estrada de a mata , e vieram descendo para o porto .\n31025: Ele o que quer é café , e mais café , que é o que dá dinheiro . -- Também , a dizer a verdade , não sei o que será melhor , -- observou outra escrava , -- se estar em a roça trabalhando de enxada , ou aqui pregada em a roda , desde que *amanhece* até nove , dez horas de a noite .\n43369: Quem dirá que ontem *choveu* como *choveu* ... ?\n45272: Quando *chovia* as goteiras eram o pagode de a garotada .\n\n=== 20 exemplos de fenômeno natureza como oração principal em bosque ===\nCP929-4: Desde há já alguns anos que *chove* « a eito » em a centenária Igreja de Ceide .\n\n=== 20 exemplos de fenômeno natureza como oração subordinada em bosque ===\nCP1000-3: A ilustrá lo o exemplo de Piódão , onde as coberturas em telha de as habitações ( mesmo estando em bom estado ) estão a ser substituídas por outras em lousa , enquanto as casas que já têm coberturas em lousa ( ainda que *chova* em o interior ) não beneficiam de qualquer ajuda .\nCP929-5: O último Inverno foi já muito difícil de passar e , recordam os paroquianos , que *chovia* tanto dentro de a igreja como cá fora .\n"
     ]
    }
   ],
   "source": [
    "for corpus in corpora:\n",
    "    print(\"\\n{} - orações principais com sujeito oculto e fenômeno natureza: {}\".format(corpus, sum([len(x) for x in root_natureza[corpus].values()])))\n",
    "    print(\"{} - orações subordinadas com sujeito oculto e fenômeno natureza: {}\".format(corpus, sum([len(x) for x in subordinate_natureza[corpus].values()])))\n",
    "    \n",
    "for corpus in corpora:\n",
    "    i = 0\n",
    "    ii = 0\n",
    "    print(\"\\n=== {} exemplos de fenômeno natureza como oração principal em {} ===\".format(max_examples, corpus))\n",
    "    for sent_id, tokens in root_natureza[corpus].items():\n",
    "        i += len(tokens)\n",
    "        print(sent_id + \": \" + \" \".join([x.word if t not in tokens else \"*\" + x.word + \"*\" for t, x in enumerate(corpora[corpus].sentences[sent_id].tokens) if not '-' in x.id]))\n",
    "        if i >= max_examples:\n",
    "            break\n",
    "    print(\"\\n=== {} exemplos de fenômeno natureza como oração subordinada em {} ===\".format(max_examples, corpus))\n",
    "    for sent_id, tokens in subordinate_natureza[corpus].items():\n",
    "        ii += len(tokens)\n",
    "        print(sent_id + \": \" + \" \".join([x.word if t not in tokens else \"*\" + x.word + \"*\" for t, x in enumerate(corpora[corpus].sentences[sent_id].tokens) if not '-' in x.id]))\n",
    "        if ii >= max_examples:\n",
    "            break"
   ]
  },
  {
   "cell_type": "markdown",
   "metadata": {},
   "source": [
    "# Filtro D"
   ]
  },
  {
   "cell_type": "code",
   "execution_count": 13,
   "metadata": {},
   "outputs": [],
   "source": [
    "def find_se(sentences, list_tokens):\n",
    "    se = {\"1\": {}, \"2\": {}, \"3\": {}}\n",
    "    for sent_id in list_tokens:\n",
    "        sentence = sentences[sent_id]\n",
    "        for t, token in enumerate(sentence.tokens):\n",
    "            if token.head_token.id != \"_\" and token.lemma == \"se\" and token.upos == \"PRON\" and \"Gender=Unsp\" in token.feats and sentence.map_token_id[token.head_token.id] in list_tokens[sent_id]:\n",
    "                if not sent_id in se[\"1\"]:\n",
    "                    se[\"1\"][sent_id] = []\n",
    "                se[\"1\"][sent_id].append(sentence.map_token_id[token.head_token.id])\n",
    "            if token.head_token.id != \"_\" and token.lemma == \"se\" and token.upos == \"PRON\" and \"VerbForm=Inf\" in token.head_token.feats and sentence.map_token_id[token.head_token.id] in list_tokens[sent_id]:\n",
    "                if not sent_id in se[\"2\"]:\n",
    "                    se[\"2\"][sent_id] = []\n",
    "                se[\"2\"][sent_id].append(sentence.map_token_id[token.head_token.id])\n",
    "            if token.head_token.id != \"_\" and token.lemma == \"se\" and token.upos == \"PRON\" and sentence.map_token_id[token.head_token.id] in list_tokens[sent_id]:\n",
    "                for _token in sentence.tokens:\n",
    "                    if _token.deprel == \"case\" and _token.head_token.head_token.id == token.head_token.id:\n",
    "                        if not sent_id in se[\"3\"]:\n",
    "                            se[\"3\"][sent_id] = []\n",
    "                        se[\"3\"][sent_id].append(sentence.map_token_id[token.head_token.id])\n",
    "                        break\n",
    "    return se\n",
    "                \n",
    "root_se = {}\n",
    "subordinate_se = {}\n",
    "for corpus in corpora:\n",
    "    if corpus in [\"bosque\"]:\n",
    "        root_se[corpus] = find_se(corpora[corpus].sentences, root_without_subject[corpus])\n",
    "        subordinate_se[corpus] = find_se(corpora[corpus].sentences, subordinate_without_subject[corpus])\n",
    "        \n",
    "        for filtro in [\"1\", \"2\", \"3\"]:\n",
    "            for sentence in root_se[corpus][filtro]:\n",
    "                for token in root_se[corpus][filtro][sentence]:\n",
    "                    if token in root_without_subject[corpus][sentence]:\n",
    "                        root_without_subject[corpus][sentence].remove(token)\n",
    "            if filtro in [\"1\"]:\n",
    "                for sentence in subordinate_se[corpus][filtro]:\n",
    "                    for token in subordinate_se[corpus][filtro][sentence]:\n",
    "                        if token in subordinate_without_subject[corpus][sentence]:\n",
    "                            subordinate_without_subject[corpus][sentence].remove(token)"
   ]
  },
  {
   "cell_type": "code",
   "execution_count": 14,
   "metadata": {
    "tags": []
   },
   "outputs": [
    {
     "output_type": "stream",
     "name": "stdout",
     "text": [
      "\nbosque - orações principais com sujeito oculto e se (filtro 1): 31\nbosque - orações subordinadas com sujeito oculto e se (filtro 1): 5\n\nbosque - orações principais com sujeito oculto e se (filtro 2): 2\n\nbosque - orações principais com sujeito oculto e se (filtro 3): 57\n\n=== 20 exemplos de se (filtro 1) como filho de oração principal em bosque ===\nCF834-1: *Aventure* se em o Alasca a bordo de um trenó\nCP999-3: *Veja* se , a título de exemplo , os textos « Coração , vinho e legumes » , PÚBLICO de o passado dia 16 ; « Álcool faz bem a o coração » , 19.11.93 ; « Glórias e misérias de o álcool » , 15.8.93 ; « Álcool protege coração ? » , 3.9.91 ; Vinho contra colesterol ? , 12.8.91 .\nCF863-7: *Habite* se .\nCP24-4: *Registe* se que a terça-feira de Carnaval não é um feriado legal , mas tão-só « tradicional » : ou seja , todos os anos o primeiro-ministro tem que produzir um despacho , publicado em « Diário de a República » , em que decreta a tolerância de ponto .\nCP24-5: Este ano , eventualmente condicionado por a polémica que o opõe a o Presidente de a República em torno de os feriados ( *recorde* se que Soares enviou a lei para o Tribunal Constitucional ) Cavaco decidiu , pura e simplesmente , « acabar » com a terça-feira de Carnaval .\nCP127-1: Entre os episódios mais importantes a transmitir , além de a entrevista com Giacometti , *destaque* se aquele em que se fala de a arte de Modigliani , mais ou menos a meio de a exibição ( nem sempre a ordem é respeitada por a RTP ) .\nCP263-3: *Pense* se em Kingsley Amis , Malcolm Bradbury e Albert Finney .\nCP263-5: *Pense* se em o romance que o primeiro escreveu -- « The Green Man » -- , que o segundo adaptou e o terceiro interpretou .\nCP263-6: *Pense* se em um enredo mirabolante , centrado em um herói desfeito , o anti-herói Maurice Allington , e em a maneira como o impensável -- o fantasma de Thomas Underhill -- o cerca .\nCP268-7: *Encontram* se em todo o lado e , em o entanto , o seu fabrico é proibido por lei .\nCP295-5: *Recorde* se que as receitas são obtidas em a sua quase totalidade em dólares , que depois é necessário converter para a moeda nacional .\nCP301-2: *Recorde* se que Edberg , antes de Roland Garros , estava em o 45º lugar , mas as excelentes exibições em a terra batida parisiense e em a relva londrina permitiram lhe o salto .\nCP401-3: Se quiser telefonar -- serviço manual -- para o Transkei *prepare* se para pagar 51000 por minuto , o mesmo que , por exemplo , para o Afeganistão , Qatar , Gâmbia , Brunei ou Honk-Kong .\nCP485-2: *Referem* se a normas de segurança e de saúde e higiene , regras de iluminação , etc.\nCP493-3: *Recorde* se que a cancerização se produz quando , por alguma razão , as células de o organismo começam a dividir se de forma descontrolada sem chegarem a a maturação .\nCP496-7: *Assinale* se ainda a presença de um « stand » de a Christie's em o espaço de a mostra , bem como de um avaliador oficial de aquela leiloeira inglesa .\nCP547-3: *Diga* se , de uma vez e claramente , o que se quer ou o que se quer mais .\nCP618-7: *Recorde* se que as mesmas pessoas ameaçaram já não votar em as próximas eleições se o problema não for resolvido .\nCP744-4: As inspecções , *recorde* se , começaram em Abril de o ano passado , pouco depois de o fim de a Guerra de o Golfo e resultaram de os acordos de cessar-fogo então assinados .\nCP822-4: *Queixa* se a o senhorio ?\n\n=== 20 exemplos de se (filtro 1) como filho de oração subordinada em bosque ===\nCP39-3: « A conveniência de esta rua é palpável ; uma cómoda estrada desobstruída de tortuosidades e declives , desde a Foz a o coração de a cidade , especialmente para seges e carros , o que até aqui mal se consegue antes de chegar a o sítio de o banco de S. Domingos [ *leia* se o Banco Comercial de o Porto , que fora fundado poucos anos antes e detinha autorização para emitir notas ] » .\nCP237-4: Finalmente , o terceiro dia será dedicado a uma reflexão mais profunda sobre essa entidade a que se *chama* Europa -- de o ponto de vista de a sua cultura e de a sua história .\nCP425-5: « As sanções não nos afectarão em este domínio » , disse ainda Kalam , *referindo* se a as penalizações económicas impostas contra a Índia por os EUA , Japão e Canadá .\nCP596-5: A refeição é subitamente interrompida por a aparição de um jipe NIVA 600 de onde saem dois soldados armados -- andar armado em esta região , seja se *civil* ou militar , é medida obrigatória -- com os boletins de voto para o referendo dentro de um grande envelope .\nCP689-1: Uma senhora , porém , que não resistiu a abraçar com algum orgulho o vereador Oliveira Dias , chamando lhe « ex-camarada » ( *recorde* se que Oliveira Dias foi , durante largos anos , o rosto de a CDU em a autarquia portuense ) , abeirou se de Gomes para lhe dizer que os armários que a Câmara instalou em a avenida são exíguos para guardar a mercadoria .\n\n=== 20 exemplos de se (filtro 2) como filho de oração principal em bosque ===\nCP144-7: E a *portar* se a a Cintra , não dando cavaco , sequer , a o jogador , que até já vendera a casa lá em a Old England .\nCF359-2: Tem que se *demonstrar* através de contas e de raciocínios que o expurgo significará perda .\n\n=== 20 exemplos de se (filtro 3) como filho de oração principal em bosque ===\nCF834-1: *Aventure* se em o Alasca a bordo de um trenó\nCF835-3: E se *encontram* a a noite em o bar Cabral , embora não se conheçam .\nCP999-3: *Veja* se , a título de exemplo , os textos « Coração , vinho e legumes » , PÚBLICO de o passado dia 16 ; « Álcool faz bem a o coração » , 19.11.93 ; « Glórias e misérias de o álcool » , 15.8.93 ; « Álcool protege coração ? » , 3.9.91 ; Vinho contra colesterol ? , 12.8.91 .\nCP52-2: Em o quiosque *vendem* se de essas revistas de viagens que agora proliferam e que perpetuam as fantasias sobre ilhas exóticas .\nCP71-19: *Apaixonou* se por um cego que não era aluno de ele .\nCP88-3: *Abraça* se a o irmão , que ficou em 8º lugar .\nCP89-3: Para o presidente Carlos de Sousa , *trata* se de um orçamento « típico de um concelho rural e pobre com poucas receitas » .\nCP127-1: Entre os episódios mais importantes a transmitir , além de a entrevista com Giacometti , *destaque* se aquele em que se fala de a arte de Modigliani , mais ou menos a meio de a exibição ( nem sempre a ordem é respeitada por a RTP ) .\nCP144-7: E a *portar* se a a Cintra , não dando cavaco , sequer , a o jogador , que até já vendera a casa lá em a Old England .\nCP145-4: *Chamaram* se a si mesmos « actionistas » , embora o movimento , que se espalhou largamente até a os anos 70 , seja designado globalmente por « body art » , ou surja em os textos de Bowie como « arte ritual » .\nCP177-5: *Trata* se de a aliança entre a Adobe , a mais importante empresa em o ramo de a concepção de produtos para edição electrónica e a Netscape , que em seis meses capturou 75 por cento de o mercado de programas de navegação em a Internet com o produto que lhe deu o nome .\nCP243-2: *Revê* se em o Mercedes de Goebbels , apreendido em a Alemanha e entregue a o marechal Oslikovsky , sentado com a filha pequena , Lora , em o assento posterior .\nCP263-3: *Pense* se em Kingsley Amis , Malcolm Bradbury e Albert Finney .\nCP263-5: *Pense* se em o romance que o primeiro escreveu -- « The Green Man » -- , que o segundo adaptou e o terceiro interpretou .\nCP263-6: *Pense* se em um enredo mirabolante , centrado em um herói desfeito , o anti-herói Maurice Allington , e em a maneira como o impensável -- o fantasma de Thomas Underhill -- o cerca .\nCP268-7: *Encontram* se em todo o lado e , em o entanto , o seu fabrico é proibido por lei .\nCP301-2: *Recorde* se que Edberg , antes de Roland Garros , estava em o 45º lugar , mas as excelentes exibições em a terra batida parisiense e em a relva londrina permitiram lhe o salto .\nCP394-4: Já se *definiu* uma vez como « moço de recados » de Deus .\nCP425-4: Segundo o assessor científico de o primeiro-ministro indiano , Atal Behari Valpayee , *trata* se de um Agni melhorado , com um alcance de 2500 metros , em um « estado avançado de desenvolvimento » e cuja produção já recebeu a aprovação de o Governo .\n"
     ]
    }
   ],
   "source": [
    "for corpus in corpora:\n",
    "    if corpus in [\"bosque\"]:\n",
    "        for filtro in [\"1\", \"2\", \"3\"]:\n",
    "            print(\"\\n{} - orações principais com sujeito oculto e se (filtro {}): {}\".format(corpus, filtro, sum([len(x) for x in root_se[corpus][filtro].values()])))\n",
    "            if filtro in [\"1\"]:\n",
    "                print(\"{} - orações subordinadas com sujeito oculto e se (filtro {}): {}\".format(corpus, filtro, sum([len(x) for x in subordinate_se[corpus][filtro].values()])))\n",
    "\n",
    "for corpus in corpora:\n",
    "    if corpus in [\"bosque\"]:\n",
    "        for filtro in [\"1\", \"2\", \"3\"]:\n",
    "            i = 0\n",
    "            ii = 0\n",
    "            print(\"\\n=== {} exemplos de se (filtro {}) como filho de oração principal em {} ===\".format(max_examples, filtro, corpus))\n",
    "            for sent_id, tokens in root_se[corpus][filtro].items():\n",
    "                i += len(tokens)\n",
    "                print(sent_id + \": \" + \" \".join([x.word if t not in tokens else \"*\" + x.word + \"*\" for t, x in enumerate(corpora[corpus].sentences[sent_id].tokens) if not '-' in x.id]))\n",
    "                if i >= max_examples:\n",
    "                    break\n",
    "            if filtro in [\"1\"]:\n",
    "                print(\"\\n=== {} exemplos de se (filtro {}) como filho de oração subordinada em {} ===\".format(max_examples, filtro, corpus))\n",
    "                for sent_id, tokens in subordinate_se[corpus][filtro].items():\n",
    "                    ii += len(tokens)\n",
    "                    print(sent_id + \": \" + \" \".join([x.word if t not in tokens else \"*\" + x.word + \"*\" for t, x in enumerate(corpora[corpus].sentences[sent_id].tokens) if not '-' in x.id]))\n",
    "                    if ii >= max_examples:\n",
    "                        break"
   ]
  },
  {
   "cell_type": "markdown",
   "metadata": {},
   "source": [
    "# Filtro E"
   ]
  },
  {
   "cell_type": "code",
   "execution_count": 19,
   "metadata": {},
   "outputs": [],
   "source": [
    "def find_tratarse(sentences, list_tokens):\n",
    "    tratarse = {}\n",
    "    for sent_id in list_tokens:\n",
    "        sentence = sentences[sent_id]\n",
    "        for t, token in enumerate(sentence.tokens):\n",
    "            if token.lemma == \"tratar\" and token.next_token.lemma == \"se\":\n",
    "                if not sent_id in tratarse:\n",
    "                    tratarse[sent_id] = []\n",
    "                tratarse[sent_id].append(sentence.map_token_id[token.id])\n",
    "\n",
    "    return tratarse\n",
    "                \n",
    "root_tratarse = {}\n",
    "subordinate_tratarse = {}\n",
    "for corpus in corpora:\n",
    "    if corpus in [\"dhbb\", \"obras\"]:\n",
    "        root_tratarse[corpus] = find_tratarse(corpora[corpus].sentences, root_without_subject[corpus])\n",
    "        subordinate_tratarse[corpus] = find_tratarse(corpora[corpus].sentences, subordinate_without_subject[corpus])\n",
    "        \n",
    "        for sentence in root_tratarse[corpus]:\n",
    "            for token in root_tratarse[corpus][sentence]:\n",
    "                if token in root_without_subject[corpus][sentence]:\n",
    "                    root_without_subject[corpus][sentence].remove(token)\n",
    "        for sentence in subordinate_tratarse[corpus]:\n",
    "            for token in subordinate_tratarse[corpus][sentence]:\n",
    "                if token in subordinate_without_subject[corpus][sentence]:\n",
    "                    subordinate_without_subject[corpus][sentence].remove(token)"
   ]
  },
  {
   "cell_type": "code",
   "execution_count": 22,
   "metadata": {},
   "outputs": [
    {
     "output_type": "stream",
     "name": "stdout",
     "text": [
      "\ndhbb - orações principais com sujeito oculto e tratar-se: 181\ndhbb - orações subordinadas com sujeito oculto e tratar-se: 163\n\nobras - orações principais com sujeito oculto e tratar-se: 150\nobras - orações subordinadas com sujeito oculto e tratar-se: 123\n\n=== 20 exemplos de tratar-se como oração principal em dhbb ===\n6594: Em 2012 , votou favoravelmente a o Projeto de Lei 1879/99 , que ficou conhecido como « Novo Código Florestal » , por *tratar* se de uma reformulação de a versão anterior de o Código , de 1965 .\n10367: Em junho de 2008 , acusado por órgãos de a imprensa colombiana de manter contato com a organização guerrilheira Forças Armadas Revolucionárias de a Colômbia ( Farc ) , divulgou nota explicando *tratar* se de assunto de natureza humanitária , ligado a o estado de saúde de um religioso vinculado a o grupo .\n10470: Segundo a política de os acordos « café-com-leite » , *tratava* se em aquele momento de restabelecer a alternância de presidentes saídos de o PRP ou de o PRM , interrompida com a eleição de o paraibano Epitácio\n12706: Para alguns setores de a sociedade *tratava* se de uma estratégia a fim de conter as manifestações públicas que tomaram conta de as grandes cidades brasileiras em o ano anterior .\n13853: Transferiu se então para Diamantina ( MG ) , a fim de prosseguir os estudos e *tratar* se de a malária que contraíra .\n14906: Sobre o Plano Real -- plano econômico adotado por o governo de o presidente Itamar Franco para estabilizar a economia e conter a inflação , e que consistia em o principal ponto de apoio de a candidatura de o ex-ministro de a Fazenda Fernando Henrique Cardoso -- , afirmou *tratar* se de um plano « eleitoreiro » , responsável por uma redução drástica de o poder aquisitivo de a população e por a elevação de as taxas de juros , fazendo de o Brasil « o campeão mundial de a usura » .\n21043: Questionado , afirmou *tratar* se de viagens em que « trabalho e passeio coincidiram » .\n31850: Conforme comprovação posterior , *tratava* se de um documento forjado , utilizado por o governo e sua alta cúpula militar para favorecer a concretização de o projeto golpista .\n34254: Antes , *trata* se de questão política e que , portanto , deve ser trabalhada politicamente , ainda que essa idéia encontre resistência de a filantropia de tipo assistencialista e personalista , onde certas pessoas alegam orgulhar se em desenvolver uma obra pretensamente apolítica .\n39681: Em nota a a imprensa , disse *tratar* se de um ponto de vista meramente pessoal , não se confundindo , portanto , com o projeto em estudo em o ministério .\n40179: Para o PGR , *tratou* se de « uma sofisticada organização criminosa » acusada de desviar recursos públicos com o objetivo de comprar votos de parlamentares .\n40205: *Tratou* se de o Curso de Altos Estudos Militares , requisito indispensável para concorrer a o generalato e integrar\n40805: Ainda de acordo com o ministro , *trataria* se de « uma mancha que ficou em a história de o país e de a organização militar » .\n41703: *Tratou* se de uma nova redação de os dispositivos de a lei nº 8.010 , de 29 de março de 1990 , que dispunha sobre importações de bens destinados a a pesquisa científica e tecnológica .\n46038: Endossou as críticas de a oposição , segundo as quais *tratava* se de uma concepção xenófoba , que dificultava o ingresso e a permanência de os forasteiros em o país .\n48958: *Tratava* se de um « lobby » que queria impedir um de os principais pontos de a reforma administrativa de o governo Fernando Henrique Cardoso : a criação de um teto salarial de 10.800 reais , correspondente a o salário de ministro de o Supremo Tribunal Federal ( STF ) , para o valor de o total de as remunerações e aposentadorias recebidas de os cofres públicos .\n57438: Deixou o governo em 4 de dezembro de 1957 devido a problemas de saúde , viajando para o Rio de Janeiro , então Distrito Federal , a fim de *tratar* se .\n69829: *Tratava* se de uma revolta militar ocorrida em uma unidade de o Exército sediada em Santa Maria ( RS ) , visando impedir a posse de o presidente eleito Washington Luís .\n79014: *Tratava* se de promessa de revisão de a Lei Falcão , que limitava drasticamente a propaganda eleitoral por os meios eletrônicos de comunicação , revisão que terminou por não ser efetuada para o pleito de 1982 .\n79240: *Trata* se , sim , de assegurar condições para que eles possam saldar seus compromissos com a justa remuneração de seu trabalho » .\n\n=== 20 exemplos de tratar-se como oração subordinada em dhbb ===\n5458: *Tratava* se de encontrar alternativas para o modelo de o « agronegócio » , que enfrentava dificuldades , e de dar uma resposta a a intensificação de os movimentos de trabalhadores de o campo , como o Movimento de os Trabalhadores Sem Terra ( MST ) e a Confederação Nacional de os Trabalhadores em a Agricultura ( Contag ) , combinando a nova política com a criminalização de as ações de essas entidades .\n6594: Em 2012 , votou favoravelmente a o Projeto de Lei 1879/99 , que ficou conhecido como « Novo Código Florestal » , por *tratar* se de uma reformulação de a versão anterior de o Código , de 1965 .\n10367: Em junho de 2008 , acusado por órgãos de a imprensa colombiana de manter contato com a organização guerrilheira Forças Armadas Revolucionárias de a Colômbia ( Farc ) , divulgou nota explicando *tratar* se de assunto de natureza humanitária , ligado a o estado de saúde de um religioso vinculado a o grupo .\n13384: A missão de o DOI-CODI não se diferenciava de aquela de a Oban : *tratava* se de destruir as organizações de esquerda e impedir que se reestruturassem .\n13853: Transferiu se então para Diamantina ( MG ) , a fim de prosseguir os estudos e *tratar* se de a malária que contraíra .\n14906: Sobre o Plano Real -- plano econômico adotado por o governo de o presidente Itamar Franco para estabilizar a economia e conter a inflação , e que consistia em o principal ponto de apoio de a candidatura de o ex-ministro de a Fazenda Fernando Henrique Cardoso -- , afirmou *tratar* se de um plano « eleitoreiro » , responsável por uma redução drástica de o poder aquisitivo de a população e por a elevação de as taxas de juros , fazendo de o Brasil « o campeão mundial de a usura » .\n31850: Conforme comprovação posterior , *tratava* se de um documento forjado , utilizado por o governo e sua alta cúpula militar para favorecer a concretização de o projeto golpista .\n39681: Em nota a a imprensa , disse *tratar* se de um ponto de vista meramente pessoal , não se confundindo , portanto , com o projeto em estudo em o ministério .\n40205: *Tratou* se de o Curso de Altos Estudos Militares , requisito indispensável para concorrer a o generalato e integrar\n44653: *Tratava* se , em a estratégia de o governo , de transferir para a região Norte o excedente demográfico de o Nordeste , aliviando de essa forma as tensões sociais decorrentes de a questão de a posse e uso de a terra em essa e em outras áreas .\n45233: Essa comissão tinha por finalidade examinar e emitir parecer sobre os decretos-leis enviados por o prefeito , *tratando* se de um órgão puramente consultivo , voltado para as questões administrativas de a capital de a República , sem nenhuma atuação política .\n46038: Endossou as críticas de a oposição , segundo as quais *tratava* se de uma concepção xenófoba , que dificultava o ingresso e a permanência de os forasteiros em o país .\n57438: Deixou o governo em 4 de dezembro de 1957 devido a problemas de saúde , viajando para o Rio de Janeiro , então Distrito Federal , a fim de *tratar* se .\n63025: *Tratava* se de a quarta tentativa de o governo Figueiredo de aprovar uma nova política salarial , limitando os reajustes de salários a 80 % de o INPC , conforme haviam recomendado os técnicos de o FMI .\n63562: *Tratando* se de um de os sobreviventes de a revolta de o forte de Copacabana , de 5 de julho de 1922 , Eduardo Gomes era festejado em o meio militar como herói de uma epopéia permanentemente relembrada .\n68553: Monteiro , o ministro de as Relações Exteriores afirmou *tratar* se de « uma ação deliberada e premeditada , em todos os lances » , para levá lo a deixar o governo .\n69289: *Tratava* se agora de « renovar o impulso perdido em 1945 \" , lutando contra os « empedernidos e míopes apóstolos de a involução , os apologistas de a estagnação e de o marasmo » .\n69339: « Barroso » e « Tamandaré » , incorporando ainda seis submarinos e quatro contratorpedeiros ; *tratou* se , em praticamente todos os casos , de unidades norte-americanas que haviam sido usadas durante a guerra .\n69829: *Tratava* se de uma revolta militar ocorrida em uma unidade de o Exército sediada em Santa Maria ( RS ) , visando impedir a posse de o presidente eleito Washington Luís .\n79159: *Tratava* se de a quarta tentativa de o governo de aprovar uma nova política salarial , limitando os reajustes de salários a 80 % de o INPC , conforme haviam recomendado os técnicos de o FMI .\n\n=== 20 exemplos de tratar-se como oração principal em obras ===\n273: Em o teatrinho que o duque de Orléans tinha em o seu palácio de Bagnolet , célebre por as cenas licenciosas que aí se representavam , *tratava* se já de fazer subir a a ribalta uma peça com o nome de ele , em a qual o duque desempenharia um de os principais papéis .\n3027: *Trata* se de a minha felicidade !\n3029: *Trata* se de a minha própria vida ! -- Tenha a bondade de pôr os pontos em os ii -- Venho pedir lhe a mão de sua filha -- Filha ? -- Quer dizer : sua pupila -- Pupila ! -- Sim , sua adorável pupila , a quem amo , a quem idolatro e por quem sou correspondido com igual ardor !\n4976: « Jogassem lá as cristas , que o mais homem ficaria com a mulher ! \" mas agora *tratava* se de defender a estalagem , a comuna , onde cada um tinha a zelar por alguém ou alguma coisa querida . --\n10184: Aqui não se trata de mim ; *trata* se de ele apenas ; eu que não fosse tola !\n10354: Quanto a mim , não se trata de vencer oposições de família ; *trata* se é de obter os meios necessários para que a senhora e sua filha não venham a sofrer dificuldades depois de o meu casamento ... -- Ora !\n10734: *Tratava* se de um conselheiro , a quem ele devia ser apresentado durante o espetáculo e de quem esperava a realização de uma ideia que em esse momento o possuía todo .\n10810: *Tratou* se de o negócio .\n11250: *Trata* se por conseguinte de o Coruja ou de o Aguiar !\n12732: Aqui não se trata de curar uma histérica , *trata* se de evitar a histeria .\n27470: *Trata* se de sua felicidade . \" A carta escrita com letra de mulher , em papel finíssimo , não tinha assinatura , e exalava um delicioso perfume aristocrata .\n28105: Deixa me dormir ! -- Ouve ; *trata* se de uma coisa grave .\n44176: Se se cuidasse de a educação de a Pátria com elementos próprios , *tratando* se de formar espíritos nacionais , genuinamente nacionais , dentro em breve teriamos arte , porque o povo , ligando se a a terra por o espírito , sentiria necessidade de conhecer lhe os segredos e viria de isso , talvez , a noção de patriotismo que ainda não existe entre nós .\n51562: \" . -- Positivamente *tratava* se de um caso de amor , mas o que me intrigava era que ela me confundisse com o seu misterioso amante , que devia parecer se estranhamente com mim para que o engano durasse tanto tempo em uma sala clara , cheia de o sol de as onze horas .\n69388: Felícia fechou a janela enquanto ia buscar a folha e , quando tornou , disse amuadamente : « que tinha ido passar uns dias fora , em o Engenho Novo , com o padrinho . \" *Tratava* se de Violante -- era a curiosidade de a vizinhança que começava a aguçar se .\n75010: *Tratava* se de um rapaz atacado de onomatomania e arithmonomania .\n78683: Além de isto , para o nosso caso , *trata* se de uma velha dívida a saldar .\n78750: *Trata* se de inquirir se a raça branca afeiçoada a as zonas temperadas , que são as de as civilizações duradouras , poderá viver e crescer fora de o seu deslumbrante habitat .\n79207: *Trata* se , como se vê , de um mal que lá está em plena decadência , próximo a extinguir se , mas que ainda atemoriza ; a o passo que entre nós ele surge vigoroso , e se desenvolve e irradia para toda a banda , delineando umas fronteiras ridículas , ou ostentando irritantemente umas questões de limites inclassificáveis , e deixa nos impassíveis ...\n79512: *Tratava* se , a o parecer , de um código de a indigência ; e os graves doutores , em o avantajarem se tanto , rompendo com tão nobre rebeldia as barreiras de a moral comum , para advogarem a causa de a enorme maioria de espoliados , chegavam a a conclusão de que a opulência de os ricos se traduzia como um delitum legale , um crime legalizado .\n\n=== 20 exemplos de tratar-se como oração subordinada em obras ===\n10184: Aqui não se trata de mim ; *trata* se de ele apenas ; eu que não fosse tola !\n17956: Manoel abaixou a cabeça , contrafazendo o embaraço em que se via . -- *Trata* se de alguma questão comercial ? ... perguntou . -- Não senhor ; *trata* se de minha felicidade ... -- E a mão de minha filha que deseja pedir ? -- Então ...\n28105: Deixa me dormir ! -- Ouve ; *trata* se de uma coisa grave .\n28194: Que desejas de mim ? -- Um grande serviço ! -- Oh , diabo ! *trata* se de algum duelo ? -- *Trata* se simplesmente de amor . Senta te .\n30979: a modo que lhe estou vendo um ar mais alegre que de costume . -- Calada ! -- murmurou Miguel , levando o dedo a a boca e apontando para Leôncio . -- *Trata* se de a tua liberdade . -- Deveras , meu pai ! ... mas como pôde arranjar isso ? -- Ora como ? ! ... a peso de ouro .\n33531: Bem depressa chegou a Vila Boa a notícia de as correrias e devastações de os índios Chavantes por as terras de o Alto Tocantins , e imediatamente *tratou* se ali de organizar uma formidável bandeira , que sem mais demora partiu a opor um dique a os progressos de aquela temerosa horda , que se precipitava como uma torrente impetuosa sobre as regiões de o norte , talando os campos e exercendo incalculáveis estragos e horríveis matanças .\n44176: Se se cuidasse de a educação de a Pátria com elementos próprios , *tratando* se de formar espíritos nacionais , genuinamente nacionais , dentro em breve teriamos arte , porque o povo , ligando se a a terra por o espírito , sentiria necessidade de conhecer lhe os segredos e viria de isso , talvez , a noção de patriotismo que ainda não existe entre nós .\n56372: Os hóspedes *tratavam* se com intimidade , só o inglês de o segundo andar , o apolíneo James Marian , retraia se a todo o convívio , sempre sorumbático , calado , aparecendo raramente a a mesa a as horas de as refeições , tomando as só ou em o quarto , quando não as fazia em o jardim , a uma pequena mesa de ferro , sob uma árvore , com champagne a refrescar em um balde , ouvindo os passarinhos .\n69388: Felícia fechou a janela enquanto ia buscar a folha e , quando tornou , disse amuadamente : « que tinha ido passar uns dias fora , em o Engenho Novo , com o padrinho . \" *Tratava* se de Violante -- era a curiosidade de a vizinhança que começava a aguçar se .\n79148: Deletreiem se as revistas norte-americanas , para não citarmos outras , e veja se o desabrido de a palavra , o cruciante de os assertos e até o temerário de futuros planos de absorção , sempre que acontece *tratar* se de as sister republics , curioso eufemismo com que se designa vulgarmente o vasto e apetecido res nullius , desatado de o Panamá a o cabo Horn .\n79207: *Trata* se , como se vê , de um mal que lá está em plena decadência , próximo a extinguir se , mas que ainda atemoriza ; a o passo que entre nós ele surge vigoroso , e se desenvolve e irradia para toda a banda , delineando umas fronteiras ridículas , ou ostentando irritantemente umas questões de limites inclassificáveis , e deixa nos impassíveis ...\n79512: *Tratava* se , a o parecer , de um código de a indigência ; e os graves doutores , em o avantajarem se tanto , rompendo com tão nobre rebeldia as barreiras de a moral comum , para advogarem a causa de a enorme maioria de espoliados , chegavam a a conclusão de que a opulência de os ricos se traduzia como um delitum legale , um crime legalizado .\n85985: O de mais peso talvez em a América de o Sul , depois de se referir a os curiosos sucessos de a campanha , aditava lhes pormenores de um simbolismo estranho e pavoroso : \" *Trata* se de duas missivas que , com intervalo de dois dias , recebemos de a comunicando nos por ordem de a seção executiva em New York , que a referida União tem ainda uma reserva de não menos 15.000 homens -- só em o Estado de a Bahia -- para reforçar , em caso de necessidade , o exército de os fanáticos ; além de 100.000 em vários Estados de o Norte de o Brasil e mais 67.000 em certos pontos de os Estados Unidos de a América de o Norte , prontos a sair em qualquer momento para as costas de o ex-império , todos muito bem armados e preparados para a guerra .\n87671: Apresso me em corrigir evidentíssimo engano , *tratando* se de noção tão simples .\n89302: em o dia 8 de o corrente mês , por as nove horas de a manhã , em este palácio , onde se há de celebrar junta a fim de *tratar* se de o mes\n102136: Endireitei os óculos para examinar melhor , e vi : *tratava* se de uma admirável plantação de parreiras abertas em frutos , em que os cachos , amarelos , uns , roxos outros , pendiam , sumarentos , brilhantes e numerosos , como bolhas de ouro ou de vinho suspensas miraculosamente de as folhas . -- Magnífico ! -- exclamei , deslumbrado .\n102924: *Tratando* se de um acontecimento raro , e que se torna cada vez menos freqüente , a recepção de as virgens se reveste , em o céu , de uma suntuosidade excepcional .\n103071: Certa senhora de fortuna , habituada a *tratar* se com o ilustre clínico brasileiro por meio de receitas obtidas de surpresa , resolveu , de a última vez , fazer o mesmo cercando o em plena .\n\n=== 20 exemplos de tratar-se como oração principal em bosque ===\n"
     ]
    },
    {
     "output_type": "error",
     "ename": "KeyError",
     "evalue": "'bosque'",
     "traceback": [
      "\u001b[0;31m---------------------------------------------------------------------------\u001b[0m",
      "\u001b[0;31mKeyError\u001b[0m                                  Traceback (most recent call last)",
      "\u001b[0;32m<ipython-input-22-f5088319b4cc>\u001b[0m in \u001b[0;36m<module>\u001b[0;34m\u001b[0m\n\u001b[1;32m      8\u001b[0m     \u001b[0mii\u001b[0m \u001b[0;34m=\u001b[0m \u001b[0;36m0\u001b[0m\u001b[0;34m\u001b[0m\u001b[0;34m\u001b[0m\u001b[0m\n\u001b[1;32m      9\u001b[0m     \u001b[0mprint\u001b[0m\u001b[0;34m(\u001b[0m\u001b[0;34m\"\\n=== {} exemplos de tratar-se como oração principal em {} ===\"\u001b[0m\u001b[0;34m.\u001b[0m\u001b[0mformat\u001b[0m\u001b[0;34m(\u001b[0m\u001b[0mmax_examples\u001b[0m\u001b[0;34m,\u001b[0m \u001b[0mcorpus\u001b[0m\u001b[0;34m)\u001b[0m\u001b[0;34m)\u001b[0m\u001b[0;34m\u001b[0m\u001b[0;34m\u001b[0m\u001b[0m\n\u001b[0;32m---> 10\u001b[0;31m     \u001b[0;32mfor\u001b[0m \u001b[0msent_id\u001b[0m\u001b[0;34m,\u001b[0m \u001b[0mtokens\u001b[0m \u001b[0;32min\u001b[0m \u001b[0mroot_tratarse\u001b[0m\u001b[0;34m[\u001b[0m\u001b[0mcorpus\u001b[0m\u001b[0;34m]\u001b[0m\u001b[0;34m.\u001b[0m\u001b[0mitems\u001b[0m\u001b[0;34m(\u001b[0m\u001b[0;34m)\u001b[0m\u001b[0;34m:\u001b[0m\u001b[0;34m\u001b[0m\u001b[0;34m\u001b[0m\u001b[0m\n\u001b[0m\u001b[1;32m     11\u001b[0m         \u001b[0mi\u001b[0m \u001b[0;34m+=\u001b[0m \u001b[0mlen\u001b[0m\u001b[0;34m(\u001b[0m\u001b[0mtokens\u001b[0m\u001b[0;34m)\u001b[0m\u001b[0;34m\u001b[0m\u001b[0;34m\u001b[0m\u001b[0m\n\u001b[1;32m     12\u001b[0m         \u001b[0mprint\u001b[0m\u001b[0;34m(\u001b[0m\u001b[0msent_id\u001b[0m \u001b[0;34m+\u001b[0m \u001b[0;34m\": \"\u001b[0m \u001b[0;34m+\u001b[0m \u001b[0;34m\" \"\u001b[0m\u001b[0;34m.\u001b[0m\u001b[0mjoin\u001b[0m\u001b[0;34m(\u001b[0m\u001b[0;34m[\u001b[0m\u001b[0mx\u001b[0m\u001b[0;34m.\u001b[0m\u001b[0mword\u001b[0m \u001b[0;32mif\u001b[0m \u001b[0mt\u001b[0m \u001b[0;32mnot\u001b[0m \u001b[0;32min\u001b[0m \u001b[0mtokens\u001b[0m \u001b[0;32melse\u001b[0m \u001b[0;34m\"*\"\u001b[0m \u001b[0;34m+\u001b[0m \u001b[0mx\u001b[0m\u001b[0;34m.\u001b[0m\u001b[0mword\u001b[0m \u001b[0;34m+\u001b[0m \u001b[0;34m\"*\"\u001b[0m \u001b[0;32mfor\u001b[0m \u001b[0mt\u001b[0m\u001b[0;34m,\u001b[0m \u001b[0mx\u001b[0m \u001b[0;32min\u001b[0m \u001b[0menumerate\u001b[0m\u001b[0;34m(\u001b[0m\u001b[0mcorpora\u001b[0m\u001b[0;34m[\u001b[0m\u001b[0mcorpus\u001b[0m\u001b[0;34m]\u001b[0m\u001b[0;34m.\u001b[0m\u001b[0msentences\u001b[0m\u001b[0;34m[\u001b[0m\u001b[0msent_id\u001b[0m\u001b[0;34m]\u001b[0m\u001b[0;34m.\u001b[0m\u001b[0mtokens\u001b[0m\u001b[0;34m)\u001b[0m \u001b[0;32mif\u001b[0m \u001b[0;32mnot\u001b[0m \u001b[0;34m'-'\u001b[0m \u001b[0;32min\u001b[0m \u001b[0mx\u001b[0m\u001b[0;34m.\u001b[0m\u001b[0mid\u001b[0m\u001b[0;34m]\u001b[0m\u001b[0;34m)\u001b[0m\u001b[0;34m)\u001b[0m\u001b[0;34m\u001b[0m\u001b[0;34m\u001b[0m\u001b[0m\n",
      "\u001b[0;31mKeyError\u001b[0m: 'bosque'"
     ]
    }
   ],
   "source": [
    "for corpus in corpora:\n",
    "    if corpus in [\"dhbb\", \"obras\"]:\n",
    "        print(\"\\n{} - orações principais com sujeito oculto e tratar-se: {}\".format(corpus, sum([len(x) for x in root_tratarse[corpus].values()])))\n",
    "        print(\"{} - orações subordinadas com sujeito oculto e tratar-se: {}\".format(corpus, sum([len(x) for x in subordinate_tratarse[corpus].values()])))\n",
    "\n",
    "for corpus in corpora:\n",
    "    i = 0\n",
    "    ii = 0\n",
    "    print(\"\\n=== {} exemplos de tratar-se como oração principal em {} ===\".format(max_examples, corpus))\n",
    "    for sent_id, tokens in root_tratarse[corpus].items():\n",
    "        i += len(tokens)\n",
    "        print(sent_id + \": \" + \" \".join([x.word if t not in tokens else \"*\" + x.word + \"*\" for t, x in enumerate(corpora[corpus].sentences[sent_id].tokens) if not '-' in x.id]))\n",
    "        if i >= max_examples:\n",
    "            break\n",
    "    print(\"\\n=== {} exemplos de tratar-se como oração subordinada em {} ===\".format(max_examples, corpus))\n",
    "    for sent_id, tokens in subordinate_tratarse[corpus].items():\n",
    "        ii += len(tokens)\n",
    "        print(sent_id + \": \" + \" \".join([x.word if t not in tokens else \"*\" + x.word + \"*\" for t, x in enumerate(corpora[corpus].sentences[sent_id].tokens) if not '-' in x.id]))\n",
    "        if ii >= max_examples:\n",
    "            break"
   ]
  },
  {
   "cell_type": "markdown",
   "metadata": {},
   "source": [
    "# Contagem final"
   ]
  },
  {
   "cell_type": "code",
   "execution_count": 23,
   "metadata": {
    "scrolled": true,
    "tags": []
   },
   "outputs": [
    {
     "output_type": "stream",
     "name": "stdout",
     "text": [
      "\n",
      "dhbb - orações principais com sujeito oculto final: 193299 / 480218\n",
      "dhbb - orações subordinadas com sujeito oculto final: 189470 / 341133\n",
      "\n",
      "obras - orações principais com sujeito oculto final: 123418 / 353662\n",
      "obras - orações subordinadas com sujeito oculto final: 151478 / 316297\n",
      "\n",
      "bosque - orações principais com sujeito oculto final: 1439 / 9364\n",
      "bosque - orações subordinadas com sujeito oculto final: 2462 / 6842\n",
      "\n",
      "=== 20 exemplos de sujeito oculto na oração principal em dhbb ===\n",
      "2: *Estudou* em o Ginásio Diocesano de São Paulo e bacharelou se em 1910 por a Faculdade de Ciências Jurídicas e Sociais .\n",
      "3: Dedicando se a a advocacia , foi *promotor* público em Cunha ( SP ) e depois delegado de polícia em o Rio de Janeiro , então Distrito Federal .\n",
      "4: *Iniciou* sua vida política como deputado federal por o Distrito Federal , exercendo o mandato de 1927 a 1929 .\n",
      "6: Ligado a o governo federal , *encontrava* se a o lado de o presidente Washington Luís , em o palácio Guanabara , em o momento de sua deposição em o dia 24 de outubro .\n",
      "7: Junto com outros companheiros também solidários a o regime deposto e que se haviam asilado em embaixadas e legações , foi *enviado* em novembro para o estrangeiro .\n",
      "8: Em outubro de 1932 , estava *presente* em o porto de Alcântara , em Lisboa , para receber os revolucionários constitucionalistas exilados por o governo de Getúlio Vargas após a derrota de a revolução irrompida em julho de esse ano em São Paulo .\n",
      "9: Com a redemocratização de o país em 1945 , *candidatou* se por o estado de São Paulo , em a legenda de o Partido Social Democrático ( PSD ) , a as eleições para a Assembléia Nacional Constituinte ( ANC ) realizadas em dezembro de esse ano .\n",
      "10: *Obteve* uma suplência e , em julho de 1946 , foi convocado para participar de os trabalhos constituintes .\n",
      "11: Com a promulgação de a nova Carta ( 18/9/1946 ) e a transformação de a Constituinte em Congresso ordinário , *integrou* a Comissão Permanente de Obras Públicas de a Câmara Federal , tendo votado em janeiro de 1948 a favor de a cassação de os mandatos de os parlamentares comunistas .\n",
      "12: *Deixou* a Câmara em janeiro de 1951 .\n",
      "13: Foi ainda *presidente* de a Companhia de Cimento Vale de o Paraíba .\n",
      "14: *Faleceu* em o Rio de Janeiro em o dia 17 de maio de 1975 .\n",
      "16: Em 1962 *ingressou* , em Recife , em a Faculdade de Ciências Médicas de a Universidade Federal de Pernambuco , por a qual se graduou em 1968 .\n",
      "17: Durante o ano seguinte , *frequentou* a residência médica em o Hospital Osvaldo Cruz , também em a capital pernambucana .\n",
      "18: Filiando se , em 1982 , a o Partido Democrático Social ( PDS ) , foi *escolhido* para integrar a chapa de o partido como candidato a vice-prefeito de Esperança ( PB ) .\n",
      "20: Elegendo se em o pleito de novembro de 1982 , foi *empossado* em o cargo em janeiro de 1983 .\n",
      "21: Desligando se de o PDS em 1988 , *permaneceu* como vice-prefeito até janeiro de o ano seguinte .\n",
      "22: Em 1989 , *filiou* se a o Partido de o Movimento Democrático Brasileiro ( PMDB ) , em o qual permaneceu até 1990 .\n",
      "23: Ingressando , em seguida , em o Partido de a Frente Liberal ( PFL ) , em outubro de este ano *elegeu* se deputado estadual em essa legenda .\n",
      "24: Assumindo sua cadeira em a Assembleia Legislativa paraibana em janeiro de 1991 , foi *escolhido* segundo vice-presidente de a mesa de a casa , ocupando essa função até 1992 .\n",
      "\n",
      "=== 20 exemplos de sujeito oculto na oração subordinada em dhbb ===\n",
      "4: Iniciou sua vida política como deputado federal por o Distrito Federal , *exercendo* o mandato de 1927 a 1929 .\n",
      "6: *Ligado* a o governo federal , encontrava se a o lado de o presidente Washington Luís , em o palácio Guanabara , em o momento de sua deposição em o dia 24 de outubro .\n",
      "8: Em outubro de 1932 , estava presente em o porto de Alcântara , em Lisboa , para *receber* os revolucionários constitucionalistas exilados por o governo de Getúlio Vargas após a derrota de a revolução irrompida em julho de esse ano em São Paulo .\n",
      "10: Obteve uma suplência e , em julho de 1946 , foi convocado para *participar* de os trabalhos constituintes .\n",
      "11: Com a promulgação de a nova Carta ( 18/9/1946 ) e a transformação de a Constituinte em Congresso ordinário , integrou a Comissão Permanente de Obras Públicas de a Câmara Federal , tendo *votado* em janeiro de 1948 a favor de a cassação de os mandatos de os parlamentares comunistas .\n",
      "16: Em 1962 ingressou , em Recife , em a Faculdade de Ciências Médicas de a Universidade Federal de Pernambuco , por a qual se *graduou* em 1968 .\n",
      "18: *Filiando* se , em 1982 , a o Partido Democrático Social ( PDS ) , foi escolhido para *integrar* a chapa de o partido como candidato a vice-prefeito de Esperança ( PB ) .\n",
      "20: *Elegendo* se em o pleito de novembro de 1982 , foi empossado em o cargo em janeiro de 1983 .\n",
      "21: *Desligando* se de o PDS em 1988 , permaneceu como vice-prefeito até janeiro de o ano seguinte .\n",
      "22: Em 1989 , filiou se a o Partido de o Movimento Democrático Brasileiro ( PMDB ) , em o qual *permaneceu* até 1990 .\n",
      "23: *Ingressando* , em seguida , em o Partido de a Frente Liberal ( PFL ) , em outubro de este ano elegeu se deputado estadual em essa legenda .\n",
      "24: *Assumindo* sua cadeira em a Assembleia Legislativa paraibana em janeiro de 1991 , foi escolhido segundo vice-presidente de a mesa de a casa , *ocupando* essa função até 1992 .\n",
      "25: Em 1993 , retornou a o PMDB , *tornando* se ainda em este ano primeiro vice-presidente de a mesa , cargo que desempenharia até o final de a legislatura .\n",
      "26: Em o pleito de outubro de 1994 , elegeu se deputado federal por o PMDB , *tendo* como base eleitoral as regiões de o Brejo Paraibano e de o vale de o Piancó , em o sertão .\n",
      "27: *Concluindo* seu mandato em a Assembleia Legislativa paraibana em janeiro de 1995 , assumiu sua cadeira em a Câmara de os\n",
      "30: Durante esse seu primeiro ano de mandato , entre as principais matérias votadas em o plenário de a Câmara , Armando Abílio votou a favor de o projeto de emenda constitucional que acabou com o monopólio de os estados em a distribuição de o gás canalizado , de o que *tratava* de a navegação de cabotagem , *permitindo* que as embarcações estrangeiras passassem a operar em o transporte de cargas e passageiros entre portos de o país , de o que *acabou* com o monopólio estatal de as telecomunicações , de o que *acabou* com o monopólio de a Petrobras em a exploração de o petróleo , e de o que prorrogava por 18 meses o Fundo Social de Emergência ( FSE ) , rebatizado de Fundo de Estabilização Fiscal ( FEF ) .\n",
      "\n",
      "=== 20 exemplos de sujeito oculto na oração principal em obras ===\n",
      "3: Em o ano de 17 , Paris , ento muito governado por a Pompadour e um pouco por Luís XV , *palpitava* de entusiasmo com um escândalo original .\n",
      "6: Era o *caso* que o famoso pregador La Rose tinha , como todos os anos , de pregar o seu sermão de a Quinta-feira santa em a capela real , e fora acometido por um formidável ataque de asma , justamente em a véspera de esse dia .\n",
      "7: *Escreveu* logo a o vigário-geral , seu amigo particular , dando lhe parte de o fato e pedindo lhe que , sem perda de tempo , tratasse de descobrir alguém que o substituísse .\n",
      "15: *Davam* se todos por igualmente atacados de a garganta , como se a asma de La Rose , a a semelhança de o que sucedia com o seu estilo oratório , se estendesse de improviso por todos eles , desde o mais pretensioso até a o mínimo de os numerosos pregadores sagrados , que em esse piedoso e alegre tempo enchiam os púlpitos de Paris , com as suas frases retumbantes e com os seus eloqüentes e artísticos soluços .\n",
      "25: *Cochichava* se de aqui , cochichava se de ali , bichanava se por todos os cantos e recantos de o palácio , sem nada se resolver que aproveitasse .\n",
      "26: E , em o entanto , o tempo *fugia* e era preciso tomar uma resolução .\n",
      "28: *Encaminhou* se diretamente para o arcebispo e disse lhe , depois de as reverências de o estilo : -- Comprometo me , se mo permitirem , a apresentar hoje em o púlpito de a capela real alguém que irá dignamente substituir o padre La Rose .\n",
      "29: *Fez* se em torno de estas simples palavras um profundo silêncio de pasmo e de desabafo .\n",
      "30: *Bastava* só , porém , a presença de frei\n",
      "34: De quem *disporia* o singular frade para fazer substituir La Rose ? ...\n",
      "35: E *começou* logo o sussurro de os comentários .\n",
      "37: Pouco depois , descia frei Ozéas as escadas de o paço , *metia* se em o carro que o esperava a a entrada de o jardim , dizia a o cocheiro que tocasse depressa para o convento de S.\n",
      "52: *Fecha* te contigo mesmo e fala como se conversasses com o teu anjo de a guarda .\n",
      "53: Abre o teu coração , quando abrires os teus lábios , e deixa de ele sair , imperturbável e cristalina , a tua alma de bem-aventurado . -- Bem , meu pai . -- De aqui a pouco *virá* a roupa com que tens de ir .\n",
      "54: Dentro de uma hora *virei* buscar te . -- Estarei pronto , e a as suas ordens , meu pai . -- Reza a Nossa Senhora enquanto me esperas .\n",
      "57: E *frei* Ozéas tornou a sair , fechando se de novo sobre ele a porta , silenciosamente .\n",
      "61: Até aí *fingiu* se ainda ; de aí em diante ninguém mais procurou ocultar os seus vícios .\n",
      "75: Havia feito seus estudos e recebera as primeiras ordens em o seminário de Borgonha , sua província natal ; depois *atirou* se para Paris , onde se ordenou , justamente em o começo de a regência de o duque de Orléans .\n",
      "77: *Chegou* a fazer parte de essas ridículas e terríveis sociedades secretas , que infestavam o reinado de Luís XV , centros criados com o fim exclusivo de exercer o gozo , mas o gozo requintado , torturado , burilado a ponta de agulha ; gozo como só se inventou em esse tempo , gozo a a Chambonas e a a Pompadour , de quem ele tirou o estilo complicado e extravagante .\n",
      "79: Mas quando Ozéas chegou a os quarenta e cinco a cinqüenta anos , *começou* a cair em si , e por a primeira vez pensou em a perdição de a sua alma , tão comprometida ; e , ou fosse que os requintados prazeres lhe desfibrassem as energias de a carne , ou fosse que uma grande e miraculosa transformação moral se operasse com efeito em todo o seu ser , o fato é que ele , fulminado de súbito por a consciência de os seus pecados sem remissão , desabou em fundo arrependimento e protestou nunca mais , nunca mais , cometer a menor ação que de longe pudesse envergonhar a sua responsabilidade de sacerdote .\n",
      "\n",
      "=== 20 exemplos de sujeito oculto na oração subordinada em obras ===\n",
      "5: Esclapon e de a duquesa de Mazarin , e esquecia se até de *ouvir* as pilhérias de a magra , feia e adorada Guimard , para só *ter* atenção para o novo escândalo que acabava de surgir inesperadamente .\n",
      "7: Escreveu logo a o vigário-geral , seu amigo particular , *dando* lhe parte de o fato e pedindo lhe que , sem perda de tempo , *tratasse* de descobrir alguém que o substituísse .\n",
      "9: Quem teria a coragem de ir , a a última hora , *substituir* La Rose em o púlpito de a capela real , em um de os sermões mais importantes de a Quaresma ? ...\n",
      "12: E era preciso que ele com efeito estivesse deveras doente , para *faltar* a o sermão de Quinta-feira santa , porque La Rose prezava muito os seus triunfos em a tribuna sacra , e não esperdiçaria facilmente uma boa ocasião de orar perante o rei e toda sua corte de fidalgos , e toda a sua corte de letrados .\n",
      "13: Entretanto , sabia se também que La Rose , desde que *sentisse* a menor alteração em a voz , não seria *capaz* de falar em público , nem a a mão de Deus Padre , porque era precisamente em a *maneira* especial de jogar com a sua bela e sedutora voz , que consistia o grande segredo de os seus incomparáveis triunfos .\n",
      "15: Davam se todos por igualmente atacados de a garganta , como se a asma de La Rose , a a semelhança de o que *sucedia* com o seu estilo oratório , se estendesse de improviso por todos eles , desde o mais pretensioso até a o mínimo de os numerosos pregadores sagrados , que em esse piedoso e alegre tempo enchiam os púlpitos de Paris , com as suas frases retumbantes e com os seus eloqüentes e artísticos soluços .\n",
      "18: E se era *devoto* , era também homem de gosto exigente ; não compreendia uma Quinta-feira santa sem sermão , mas não compreendia um sermão de Quinta-feira santa sem La Rose .\n",
      "22: Empregaram se os últimos recursos para *descobrir* alguém que , sem grande escândalo , fosse *capaz* de improvisar um sermão digno de a real ressaca ; ofereceram se bonitas somas ; fizeram se as mais lindas promessas .\n",
      "23: O cabido inteiro agitou se , remexeu se , sorveu consecutivas pitadas , esfregou mil vezes o lenço encarnado em o nariz , mas ninguém teve coragem para *aceitar* a espinhosa missão .\n",
      "24: As salas de o palácio arquiepiscopal pareciam formigueiros ; as batinas esfervilhavam irrequietas , *entrando* e saindo , *trazendo* e levando recados .\n",
      "25: Cochichava se de aqui , *cochichava* se de ali , *bichanava* se por todos os cantos e recantos de o palácio , sem nada se resolver que *aproveitasse* .\n",
      "27: O arcebispo , já desesperado , ia estender o braço para *tomar* a o acaso o primeiro de os seus sufragâneos , e ordenar lhe que *subisse* a o púlpito e despejasse , com um milhão de raios ! um sermão qualquer , quando de improviso *rasgou* se o reposteiro de a sala , em que ele se achava entre uma negra nuvem de batinas , e viu se surgir a veneranda figura de frei Ozéas , com as suas grandes barbas brancas e a sua enorme calva de profeta .\n",
      "\n",
      "=== 20 exemplos de sujeito oculto na oração principal em bosque ===\n",
      "CF896-2: De os fumantes , 18,1 milhões são *homens* e 12,5 milhões , mulheres .\n",
      "CF899-2: Em a sua administração , *executou* um plano viário com largas avenidas interligando os bairros , que provocaram um boom imobiliário .\n",
      "CF902-3: Quem não quiser beber durante o jantar , *poderá* levar o champanhe para casa .\n",
      "CF904-6: É *o* que confirmam as estatísticas de o Campeonato Brasileiro , encerrado ontem com o novo título palmeirense .\n",
      "CF908-4: Diariamente , está *promovendo* desfiles de moda para seus consumidores .\n",
      "CF911-1: Era uma *época* em que os cariocas imperavam em campo e fora de ele .\n",
      "CF913-4: Vai ter paridade , já desde o começo » , *explicou* .\n",
      "CF913-5: Quanto a as tarifas públicas , não serão *fixadas* em URV para evitar reajustes diários , mas terão correções periódicas por o indexador .\n",
      "CF913-6: « De o ponto de vista de proteção a o consumidor , vou *reajustar* o preço de a tarifa pública em o dia normal como se ela fosse URV .\n",
      "CF913-7: Ou seja , por a média real de os últimos quatro meses » , *disse* .\n",
      "CF913-9: Serão *beneficiados* porque hoje demoram até 12 dias para receber seus benefícios , vinculados a o salário mínimo :\n",
      "CF916-4: Sustentadas em depoimentos a a PF , foram *confirmadas* em três perícias .\n",
      "CF917-4: *Pode* ser condenado a o açoite , como seu compatriota Michael Fay , 18 , preso em a mesma ocasião .\n",
      "CF918-1: « Não *damos* conta de atendê los .\n",
      "CF919-6: « Se isso acontecer , tem que ser rápido , de o contrário não adianta mais » , *afirmou* .\n",
      "CF920-1: *Saiba* quem é Barrichello\n",
      "CF923-4: « Foi um *ato* muito rigoroso .\n",
      "CF926-2: « *Queremos* dar um visto por dez anos .\n",
      "CF926-3: É mais *eficiente* de o que por apenas quatro anos .\n",
      "CF926-4: Estamos sendo *forçados* , a o invés , a reduzir o prazo para três meses .\n",
      "\n",
      "=== 20 exemplos de sujeito oculto na oração subordinada em bosque ===\n",
      "CF893-4: Para *construir* o ambiente futurista de o filme , Godard recorreu quase que totalmente a a fotografia .\n",
      "CF895-2: O problema é político porque *envolve* , por exemplo , a gratuidade de a educação , de a saúde , de a previdência mínima .\n",
      "CF895-3: *Excetuada* a educação básica de primeiro grau , que deve ser gratuita e obrigatória , para todo o resto é preciso discriminar quem pode pagar .\n",
      "CF897-1: PF prende dois por *cobrar* ágio\n",
      "CF897-3: A PF ( Polícia Federal ) indiciou ontem duas pessoas por *vender* carro com ágio .\n",
      "CF900-2: Dallari orientou os produtores a *negociarem* com a indústria .\n",
      "CF901-1: Esses aspectos podem ser observados em os relatos de as pacientes : « quando tenho que *arrumar* a casa e não estou com vontade , escuto vozes que me incentivam a começar a tarefa .\n",
      "CF901-2: Depois de um tempo , as vozes aumentam e acabo ficando atordoada e não consigo terminar o que *comecei* » .\n",
      "CF901-3: Estes problemas não são frequentes em os homens , pois além de *terem* uma possibilidade menor de casarem e terem filhos , esses não são os tipos de papéis socialmente esperados para o sexo masculino .\n",
      "CF903-2: « As pessoas estão cansadas de o hype que se *cria* em torno de as roupas , de os estilistas e de o luxo abusivo .\n",
      "CF911-3: O torcedor paulista sonhava com uma era futura , em que São Paulo chegaria a a supremacia , se possível de *forma* arrasadora .\n",
      "CF911-4: Passaram se uns 50 anos e o sonho se realizou , *trazendo* alegria e também , inesperadamente , frustração .\n",
      "CF911-6: Já não há o império de o mal para *combater* .\n",
      "CF912-1: O bombeiro suspeita que o golfinho tenha morrido *afogado* .\n",
      "CF912-2: Ele teria ficado preso em uma rede de pesca sem condições de *subir* a a tona para *respirar* .\n",
      "CF912-3: Os bombeiros pediram ajuda a o Cebimar ( Centro de Biologia Marinha ) de a USP para *apurar* as causas de a morte de o golfinho .\n",
      "CF913-2: O governo vai usar a URV para *corrigir* impostos , garantiu FHC .\n",
      "CF913-4: Vai *ter* paridade , já desde o começo » , explicou .\n",
      "CF913-5: Quanto a as tarifas públicas , não serão fixadas em URV para *evitar* reajustes diários , mas terão correções periódicas por o indexador .\n"
     ]
    }
   ],
   "source": [
    "for corpus in corpora:\n",
    "    print(\"\\n{} - orações principais com sujeito oculto final: {} / {}\".format(corpus, sum([len(x) for x in root_without_subject[corpus].values()]), total_deprel[corpus][\"|\".join(root_deprel)]))\n",
    "    print(\"{} - orações subordinadas com sujeito oculto final: {} / {}\".format(corpus, sum([len(x) for x in subordinate_without_subject[corpus].values()]), total_deprel[corpus][\"|\".join(subordinate_deprel)]))\n",
    "\n",
    "for corpus in corpora:\n",
    "    i = 0\n",
    "    ii = 0\n",
    "    print(\"\\n=== {} exemplos de sujeito oculto na oração principal em {} ===\".format(max_examples, corpus))\n",
    "    for sent_id, tokens in root_without_subject[corpus].items():\n",
    "        if len(tokens):\n",
    "            i += len(tokens)\n",
    "            print(sent_id + \": \" + \" \".join([x.word if t not in tokens else \"*\" + x.word + \"*\" for t, x in enumerate(corpora[corpus].sentences[sent_id].tokens) if not '-' in x.id]))\n",
    "            if i >= max_examples:\n",
    "                break\n",
    "    print(\"\\n=== {} exemplos de sujeito oculto na oração subordinada em {} ===\".format(max_examples, corpus))\n",
    "    for sent_id, tokens in subordinate_without_subject[corpus].items():\n",
    "        if len(tokens):\n",
    "            ii += len(tokens)\n",
    "            print(sent_id + \": \" + \" \".join([x.word if t not in tokens else \"*\" + x.word + \"*\" for t, x in enumerate(corpora[corpus].sentences[sent_id].tokens) if not '-' in x.id]))\n",
    "            if ii >= max_examples:\n",
    "                break"
   ]
  },
  {
   "cell_type": "markdown",
   "metadata": {},
   "source": [
    "# Pickle Bosque para posterior reconstituição"
   ]
  },
  {
   "cell_type": "code",
   "execution_count": 24,
   "metadata": {},
   "outputs": [],
   "source": [
    "import pickle\n",
    "\n",
    "for corpus in path:\n",
    "    for sentence in list(root_without_subject[corpus].keys()):\n",
    "        if not root_without_subject[corpus][sentence]:\n",
    "            del root_without_subject[corpus][sentence]\n",
    "        \n",
    "    for sentence in list(subordinate_without_subject[corpus].keys()):\n",
    "        if not subordinate_without_subject[corpus][sentence]:\n",
    "            del subordinate_without_subject[corpus][sentence]\n",
    "\n",
    "    if corpus == \"bosque\":\n",
    "        with open(\"{}_root.p\".format(corpus), \"wb\") as f:\n",
    "            pickle.dump(root_without_subject[corpus], f)\n",
    "        with open(\"{}_subordinate.p\".format(corpus), \"wb\") as f:\n",
    "            pickle.dump(subordinate_without_subject[corpus], f)"
   ]
  },
  {
   "cell_type": "markdown",
   "metadata": {},
   "source": [
    "# Reconstituição"
   ]
  },
  {
   "cell_type": "code",
   "execution_count": null,
   "metadata": {},
   "outputs": [],
   "source": [
    "import estrutura_ud\n",
    "import pickle\n",
    "\n",
    "with open(\"bosque_root.p\", \"rb\") as f:\n",
    "    root = pickle.load(f)\n",
    "with open(\"bosque_subordinate.p\", \"rb\") as f:\n",
    "    subordinate = pickle.load(f)\n",
    "    \n",
    "len_root = sum([len(root[x]) for x in root])\n",
    "len_subordinate = sum([len(subordinate[x]) for x in subordinate])\n",
    "    \n",
    "bosque = estrutura_ud.Corpus(recursivo=True)\n",
    "bosque.load(\"bosque-ud-2.6.conllu\")\n",
    "\n",
    "dic_pronouns = {\n",
    "    '1Sing': ['eu', 'eu'],\n",
    "    '1SingMale': ['eu', 'eu'],\n",
    "    '1SingFem': ['eu', 'eu'],\n",
    "    '2Sing': ['tu', 'tu'],\n",
    "    '2SingMale': ['tu', 'tu'],\n",
    "    '2SingFem': ['tu', 'tu'],\n",
    "    '3SingMale': ['ele', 'ele'],\n",
    "    '3SingFem': ['ela', 'ela'],\n",
    "    '1Plur': ['nós', 'nós'],\n",
    "    '1PlurMale': ['nós', 'nós'],\n",
    "    '1PlurFem': ['nós', 'nós'],\n",
    "    '2Plur': ['vós', 'vós'],\n",
    "    '2PlurMale': ['vós', 'vós'],\n",
    "    '2PlurFem': ['vós', 'vós'],\n",
    "    '3PlurMale': ['eles', 'eles'],\n",
    "    '3PlurFem': ['elas', 'elas']\n",
    "}\n",
    "\n",
    "bosque.sentences[\"CP493-7\"].tokens[bosque.sentences[\"CP493-7\"].map_token_id[\"26\"]].deprel = \"advcl\"\n",
    "bosque.sentences[\"CP493-7\"].tokens[bosque.sentences[\"CP493-7\"].map_token_id[\"26\"]].dephead = \"13\"            "
   ]
  },
  {
   "cell_type": "code",
   "execution_count": null,
   "metadata": {},
   "outputs": [],
   "source": [
    "def find_feats(feat, token):\n",
    "    if not feat in token.feats:\n",
    "        return \"\"\n",
    "    return token.feats.split(feat + \"=\")[1].split(\"|\")[0]"
   ]
  },
  {
   "cell_type": "code",
   "execution_count": null,
   "metadata": {},
   "outputs": [],
   "source": [
    "def insert_phrase(sentence, first_token_id, phrase):\n",
    "    sintagmas_anteriores = []\n",
    "    for t, token in enumerate(sentence.tokens):\n",
    "        if t < sentence.map_token_id[first_token_id]:\n",
    "            if token.dephead == first_token_id and (token.upos == \"ADV\" or (token.lemma == \"se\" and token.upos == \"PRON\") or token.deprel == \"cop\" or token.upos == \"AUX\"):\n",
    "                is_sintagma = True\n",
    "                for _token in sentence.tokens:\n",
    "                    if _token.upos == \"PUNCT\" and _token.dephead == token.id:\n",
    "                        is_sintagma = False\n",
    "                        break\n",
    "                if is_sintagma:\n",
    "                    sintagmas_anteriores.append(sentence.tokens[t].id)\n",
    "    who_head = first_token_id\n",
    "    first_token_id = min(sintagmas_anteriores) if sintagmas_anteriores else first_token_id\n",
    "\n",
    "    for new_token in reversed(phrase):\n",
    "        token = estrutura_ud.Token()\n",
    "        token.build(new_token.to_str())\n",
    "        token.dephead = str(int(token.dephead) - int(token.id) + int(who_head.split(\"-\")[0]))\n",
    "        token.id = first_token_id.split(\"-\")[0]\n",
    "        if first_token_id == \"1\":\n",
    "            if token.word != \"<SUBJ>\":\n",
    "                token.word = token.word.title()\n",
    "            sentence.tokens[0].word = sentence.tokens[0].word.lower()\n",
    "        token.misc = \"|\".join(sorted([x for x in token.misc.split(\"|\") + [\"<SUBJ>\"] if x != \"_\"]))\n",
    "        sentence.tokens.insert(sentence.map_token_id[first_token_id], token)\n",
    "        \n",
    "        t_first_token_id = sentence.map_token_id[first_token_id]\n",
    "        for t, token in enumerate(sentence.tokens):\n",
    "            if t > t_first_token_id:\n",
    "                token.id = str(int(token.id)+1) if not '-' in token.id else str(int(token.id.split(\"-\")[0])+1) + \"-\" + str(int(token.id.split(\"-\")[1])+1)\n",
    "            sentence.map_token_id[token.id] = t\n",
    "        for t, token in enumerate(sentence.tokens):\n",
    "            if token.dephead not in [\"0\", \"_\"] and sentence.map_token_id[token.dephead] >= sentence.map_token_id[first_token_id]:\n",
    "                token.dephead = str(int(token.dephead)+1)\n",
    "        \n",
    "    sentence.refresh_map_token_id()\n",
    "                      \n",
    "    sentence.metadados['text'] = \" \".join([x.word for x in sentence.tokens if not '-' in x.id])\n",
    "    return sentence"
   ]
  },
  {
   "cell_type": "code",
   "execution_count": null,
   "metadata": {
    "scrolled": true,
    "tags": []
   },
   "outputs": [],
   "source": [
    "#ADVCL à esquerda com mesmo PESSNUM (root)\n",
    "reconstituidos = []\n",
    "for sent_id, tokens in list(root.items()):\n",
    "    sentence = bosque.sentences[sent_id]\n",
    "    sentence_qualifies = False\n",
    "    to_add = {}\n",
    "    for t in tokens:\n",
    "        for _t, _token in enumerate(sentence.tokens):\n",
    "            if _token.deprel == \"advcl\" and sentence.tokens[t].id == _token.dephead and _t < t and find_feats(\"Person\", _token) == find_feats(\"Person\", sentence.tokens[t]) and find_feats(\"Number\", _token) == find_feats(\"Number\", sentence.tokens[t]):\n",
    "                for __token in sentence.tokens:\n",
    "                    if __token.deprel in [\"nsubj\", \"csubj\", \"nsubj:pass\"] and __token.dephead == _token.id:\n",
    "                        sentence_qualifies = True\n",
    "                        to_add[t] = []\n",
    "                        for ___token in sentence.tokens:\n",
    "                            if ___token.dephead == __token.id or ___token.id == __token.id:\n",
    "                                to_add[t].append(___token)\n",
    "                        break\n",
    "    \n",
    "    if sentence_qualifies:\n",
    "        for i, t in enumerate(to_add):\n",
    "            bosque.sentences[sent_id] = insert_phrase(bosque.sentences[sent_id], str(int(bosque.sentences[sent_id].tokens[t+i].id)), to_add[t])\n",
    "        del root[sent_id]\n",
    "        reconstituidos.append(sent_id + \":\\n\" + bosque.sentences[sent_id].text + \"\\n\" + bosque.sentences[sent_id].metadados['text'])\n",
    "\n",
    "print(\"Reconstituídos: {} / {}\".format(len(reconstituidos), len_root))\n",
    "print(\"\\n\" + \"\\n\\n\".join(reconstituidos[:20]))"
   ]
  },
  {
   "cell_type": "code",
   "execution_count": null,
   "metadata": {
    "scrolled": false,
    "tags": []
   },
   "outputs": [],
   "source": [
    "#ADVCL à esquerda com mesmo PESSNUM (subordinate)\n",
    "reconstituidos = []\n",
    "for sent_id, tokens in list(subordinate.items()):\n",
    "    sentence = bosque.sentences[sent_id]\n",
    "    sentence_qualifies = False\n",
    "    to_add = {}\n",
    "    for t in tokens:\n",
    "        for _t, _token in enumerate(sentence.tokens):\n",
    "            if _token.deprel == \"advcl\" and sentence.tokens[t].id == _token.dephead and _t < t and find_feats(\"Person\", _token) == find_feats(\"Person\", sentence.tokens[t]) and find_feats(\"Number\", _token) == find_feats(\"Number\", sentence.tokens[t]):\n",
    "                for __token in sentence.tokens:\n",
    "                    if __token.deprel in [\"nsubj\", \"csubj\", \"nsubj:pass\"] and __token.dephead == _token.id:\n",
    "                        sentence_qualifies = True\n",
    "                        to_add[t] = []\n",
    "                        for ___token in sentence.tokens:\n",
    "                            if ___token.dephead == __token.id or ___token.id == __token.id:\n",
    "                                to_add[t].append(___token)\n",
    "                        break\n",
    "    \n",
    "    if sentence_qualifies:\n",
    "        for i, t in enumerate(to_add):\n",
    "            bosque.sentences[sent_id] = insert_phrase(bosque.sentences[sent_id], str(int(bosque.sentences[sent_id].tokens[t+i].id)), to_add[t])\n",
    "        del subordinate[sent_id]\n",
    "        reconstituidos.append(sent_id + \":\\n\" + bosque.sentences[sent_id].text + \"\\n\" + bosque.sentences[sent_id].metadados['text'])\n",
    "\n",
    "print(\"Reconstituídos: {} / {}\".format(len(reconstituidos), len_subordinate))\n",
    "print(\"\\n\" + \"\\n\\n\".join(reconstituidos[:20]))"
   ]
  },
  {
   "cell_type": "code",
   "execution_count": null,
   "metadata": {
    "tags": []
   },
   "outputs": [],
   "source": [
    "#DESINÊNCIA (root)\n",
    "reconstituidos = []\n",
    "for sent_id, tokens in list(root.items()):\n",
    "    sentence = bosque.sentences[sent_id]\n",
    "    to_add = {}\n",
    "    for i, t in enumerate(tokens):\n",
    "        has_aux = False\n",
    "        for _t, _token in enumerate(sentence.tokens):\n",
    "            if _token.dephead == sentence.tokens[t].id and _token.upos == \"AUX\":\n",
    "                person = find_feats(\"Person\", sentence.tokens[_t])\n",
    "                number = find_feats(\"Number\", sentence.tokens[_t])\n",
    "                gender = find_feats(\"Gender\", sentence.tokens[_t])\n",
    "                has_aux = True\n",
    "                break\n",
    "        if not has_aux:\n",
    "            person = find_feats(\"Person\", sentence.tokens[t])\n",
    "            number = find_feats(\"Number\", sentence.tokens[t])\n",
    "            gender = find_feats(\"Gender\", sentence.tokens[t])\n",
    "        feats = []\n",
    "        if person:\n",
    "            feats.append(\"Person=\" + person)\n",
    "        if number:\n",
    "            feats.append(\"Number=\" + number)\n",
    "        if gender:\n",
    "            feats.append(\"Gender=\" + gender)\n",
    "        feats = \"|\".join(sorted(feats)) if feats else \"_\"\n",
    "        pronoun = person + number + gender\n",
    "        if pronoun in dic_pronouns:\n",
    "            pronoun = [\"1\", dic_pronouns[pronoun][0], dic_pronouns[pronoun][1], 'PRON', '_', feats, \"1\", 'nsubj', '_', '_']\n",
    "        else:\n",
    "            pronoun = [\"1\", \"<SUBJ>\", \"<SUBJ>\", \"NOUN\", \"_\", feats, \"1\", \"nsubj\", \"_\", \"_\"]\n",
    "        new_token = estrutura_ud.Token()\n",
    "        new_token.build(\"\\t\".join(pronoun))\n",
    "    \n",
    "        bosque.sentences[sent_id] = insert_phrase(bosque.sentences[sent_id], str(int(bosque.sentences[sent_id].tokens[t+i].id)), [new_token])\n",
    "    del root[sent_id]\n",
    "    reconstituidos.append(sent_id + \":\\n\" + bosque.sentences[sent_id].text + \"\\n\" + bosque.sentences[sent_id].metadados['text'])\n",
    "\n",
    "print(\"Reconstituídos: {} / {}\".format(len(reconstituidos), len_root))\n",
    "print(\"\\n\" + \"\\n\\n\".join(reconstituidos[:20]))"
   ]
  },
  {
   "cell_type": "code",
   "execution_count": null,
   "metadata": {
    "tags": []
   },
   "outputs": [],
   "source": [
    "#DESINÊNCIA (subordinate)\n",
    "reconstituidos = []\n",
    "for sent_id, tokens in list(subordinate.items()):\n",
    "    sentence = bosque.sentences[sent_id]\n",
    "    to_add = {}\n",
    "    for i, t in enumerate(tokens):\n",
    "        has_aux = False\n",
    "        for _t, _token in enumerate(sentence.tokens):\n",
    "            if _token.dephead == sentence.tokens[t].id and _token.upos == \"AUX\":\n",
    "                person = find_feats(\"Person\", sentence.tokens[_t])\n",
    "                number = find_feats(\"Number\", sentence.tokens[_t])\n",
    "                gender = find_feats(\"Gender\", sentence.tokens[_t])\n",
    "                has_aux = True\n",
    "                break\n",
    "        if not has_aux:\n",
    "            person = find_feats(\"Person\", sentence.tokens[t])\n",
    "            number = find_feats(\"Number\", sentence.tokens[t])\n",
    "            gender = find_feats(\"Gender\", sentence.tokens[t])\n",
    "        feats = []\n",
    "        if person:\n",
    "            feats.append(\"Person=\" + person)\n",
    "        if number:\n",
    "            feats.append(\"Number=\" + number)\n",
    "        if gender:\n",
    "            feats.append(\"Gender=\" + gender)\n",
    "        feats = \"|\".join(sorted(feats)) if feats else \"_\"\n",
    "        pronoun = person + number + gender\n",
    "        if pronoun in dic_pronouns:\n",
    "            pronoun = [\"1\", dic_pronouns[pronoun][0], dic_pronouns[pronoun][1], 'PRON', '_', feats, \"1\", 'nsubj', '_', '_']\n",
    "        else:\n",
    "            pronoun = [\"1\", \"<SUBJ>\", \"<SUBJ>\", \"NOUN\", \"_\", feats, \"1\", \"nsubj\", \"_\", \"_\"]\n",
    "        new_token = estrutura_ud.Token()\n",
    "        new_token.build(\"\\t\".join(pronoun)) \n",
    "\n",
    "        bosque.sentences[sent_id] = insert_phrase(bosque.sentences[sent_id], bosque.sentences[sent_id].tokens[t+i].id, [new_token])\n",
    "    del subordinate[sent_id]\n",
    "    reconstituidos.append(sent_id + \":\\n\" + bosque.sentences[sent_id].text + \"\\n\" + bosque.sentences[sent_id].metadados['text'])\n",
    "\n",
    "print(\"Reconstituídos: {} / {}\".format(len(reconstituidos), len_subordinate))\n",
    "print(\"\\n\" + \"\\n\\n\".join(reconstituidos[:20]))"
   ]
  },
  {
   "cell_type": "code",
   "execution_count": null,
   "metadata": {},
   "outputs": [],
   "source": [
    "# Salvar modificado\n",
    "bosque.save(\"bosque-ud-2.6-desocultado.conllu\")"
   ]
  },
  {
   "cell_type": "markdown",
   "metadata": {},
   "source": [
    "# Avaliação"
   ]
  },
  {
   "cell_type": "markdown",
   "metadata": {},
   "source": [
    "# Debugagem"
   ]
  },
  {
   "cell_type": "code",
   "execution_count": null,
   "metadata": {},
   "outputs": [],
   "source": [
    "print(corpora['obras'].sentences[\"540\"].to_str())"
   ]
  },
  {
   "cell_type": "code",
   "execution_count": null,
   "metadata": {},
   "outputs": [],
   "source": [
    "#root_nominals[\"obras\"]\n",
    "root_without_subject[\"obras\"]"
   ]
  },
  {
   "cell_type": "code",
   "execution_count": null,
   "metadata": {},
   "outputs": [],
   "source": []
  }
 ],
 "metadata": {
  "kernelspec": {
   "display_name": "Python 3",
   "language": "python",
   "name": "python3"
  },
  "language_info": {
   "codemirror_mode": {
    "name": "ipython",
    "version": 3
   },
   "file_extension": ".py",
   "mimetype": "text/x-python",
   "name": "python",
   "nbconvert_exporter": "python",
   "pygments_lexer": "ipython3",
   "version": "3.6.9-final"
  }
 },
 "nbformat": 4,
 "nbformat_minor": 4
}