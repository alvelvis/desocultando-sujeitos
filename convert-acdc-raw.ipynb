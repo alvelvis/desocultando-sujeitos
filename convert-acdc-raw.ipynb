{
 "cells": [
  {
   "cell_type": "code",
   "execution_count": 3,
   "metadata": {},
   "outputs": [],
   "source": [
    "with open(\"obras.acdc\", encoding=\"latin-1\") as f:\n",
    "    obras = f.read()\n",
    "with open(\"dhbb.acdc\", encoding=\"latin-1\") as f:\n",
    "    dhbb = f.read()"
   ]
  },
  {
   "cell_type": "code",
   "execution_count": 4,
   "metadata": {},
   "outputs": [],
   "source": [
    "def convert_acdc_raw(text):\n",
    "    sentences = []\n",
    "    sentence = []\n",
    "    for line in text.splitlines():\n",
    "        if len(line.split(\"\\t\")) > 5:\n",
    "            sentence.append(line.split(\"\\t\")[0])\n",
    "        if line.strip().startswith(\"<s\"):\n",
    "            sentences.append(\" \".join(sentence))\n",
    "            sentence = []\n",
    "    return \"\\n\".join(sentences)"
   ]
  },
  {
   "cell_type": "code",
   "execution_count": 5,
   "metadata": {},
   "outputs": [],
   "source": [
    "with open(\"obras.raw\", \"w\") as f:\n",
    "    f.write(convert_acdc_raw(obras))\n",
    "with open(\"dhbb.raw\", \"w\") as f:\n",
    "    f.write(convert_acdc_raw(dhbb))"
   ]
  },
  {
   "cell_type": "code",
   "execution_count": null,
   "metadata": {},
   "outputs": [],
   "source": []
  }
 ],
 "metadata": {
  "kernelspec": {
   "display_name": "Python 3",
   "language": "python",
   "name": "python3"
  }
 },
 "nbformat": 4,
 "nbformat_minor": 4
}
